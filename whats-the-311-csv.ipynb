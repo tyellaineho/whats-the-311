{
 "cells": [
  {
   "cell_type": "markdown",
   "metadata": {},
   "source": [
    "# Import Dependencies and Run 311-Call File\n",
    "- Import pandas for data cleaning to prepare for model\n",
    "- The dataset includes data from all 311 calls from 2019, and includes close to 6 million rows of data\n",
    "- Method: There are a variety of complaint calls to the 311 but we will be utilizing select key words/search values such as  \"Complaint\" and \"Noise from\".  We will be classifying those as complaints, vs all other inquiries which will be non-complaints.\n",
    "- Part of the data cleaning process will also be breaking up time and date strings, and converting them into useful date time formats for further analysis."
   ]
  },
  {
   "cell_type": "code",
   "execution_count": null,
   "metadata": {},
   "outputs": [],
   "source": [
    "import pandas as pd"
   ]
  },
  {
   "cell_type": "code",
   "execution_count": null,
   "metadata": {},
   "outputs": [],
   "source": [
    "complaint_df = pd.read_csv(\"311-complaints.csv\")\n",
    "complaint_df.head()"
   ]
  },
  {
   "cell_type": "code",
   "execution_count": null,
   "metadata": {
    "scrolled": true
   },
   "outputs": [],
   "source": [
    "sortedcomplaint_df = complaint_df.sort_values(by=['date'])\n",
    "sortedcomplaint_df.head()"
   ]
  },
  {
   "cell_type": "code",
   "execution_count": null,
   "metadata": {},
   "outputs": [],
   "source": [
    "searchvalues = ['Complaint', 'Noise from']\n",
    "sortedcomplaint_df['complaint'] = sortedcomplaint_df['inquiry_name'].str.contains('|'.join(searchvalues))\n",
    "sortedcomplaint_df.complaint = sortedcomplaint_df.complaint.astype(int)\n",
    "sortedcomplaint_df.head()"
   ]
  },
  {
   "cell_type": "code",
   "execution_count": null,
   "metadata": {},
   "outputs": [],
   "source": [
    "sortedcomplaint_df['year'], sortedcomplaint_df['t_column'] = sortedcomplaint_df['date'].str.split('T', 1).str\n",
    "sortedcomplaint_df['year'], sortedcomplaint_df['month'] = sortedcomplaint_df['year'].str.split('-', 1).str\n",
    "sortedcomplaint_df['month'], sortedcomplaint_df['calendar_day'] = sortedcomplaint_df['month'].str.split('-', 1).str\n",
    "sortedcomplaint_df['date'], sortedcomplaint_df['t_column_2'] = sortedcomplaint_df['date'].str.split('T', 1).str\n",
    "sortedcomplaint_df.head()"
   ]
  },
  {
   "cell_type": "code",
   "execution_count": null,
   "metadata": {},
   "outputs": [],
   "source": [
    "organizedcomplaint_df = sortedcomplaint_df[[\"date\", \"year\", \"month\", \"calendar_day\", \"time\", \"inquiry_name\", \"complaint\", \"brief_description\", \"call_resolution\", \"agency\", \"agency_name\", \"unique_id\"]]\n",
    "organizedcomplaint_df.head()"
   ]
  },
  {
   "cell_type": "code",
   "execution_count": null,
   "metadata": {
    "scrolled": true
   },
   "outputs": [],
   "source": [
    "organizedcomplaint_df['time_24h'] = pd.to_datetime(organizedcomplaint_df['time']).dt.strftime('%H:%M:%S')"
   ]
  },
  {
   "cell_type": "code",
   "execution_count": null,
   "metadata": {},
   "outputs": [],
   "source": [
    "organizedcomplaint_df['time_hour'] = organizedcomplaint_df['time_24h'].str.split(':').str[0]\n",
    "organizedcomplaint_df.head()"
   ]
  },
  {
   "cell_type": "code",
   "execution_count": null,
   "metadata": {},
   "outputs": [],
   "source": [
    "import datetime as dt\n",
    "organizedcomplaint_df['date'] = pd.to_datetime(organizedcomplaint_df['date'], format = '%Y/%m/%d')\n",
    "organizedcomplaint_df['day_of_week'] = organizedcomplaint_df['date'].dt.weekday_name\n",
    "organizedcomplaint_df[\"day_of_year\"] = organizedcomplaint_df['date'].dt.strftime(\"%Y%m%d\")\n",
    "df1 = organizedcomplaint_df[\"day_of_year\"]\n",
    "df1.head()"
   ]
  },
  {
   "cell_type": "code",
   "execution_count": null,
   "metadata": {},
   "outputs": [],
   "source": [
    "organizedcomplaint_df[\"year\"] = organizedcomplaint_df[\"year\"].astype(int)\n",
    "organizedcomplaint_df[\"month\"] = organizedcomplaint_df[\"month\"].astype(int)\n",
    "organizedcomplaint_df[\"calendar_day\"] = organizedcomplaint_df[\"calendar_day\"].astype(int)\n",
    "organizedcomplaint_df[\"time_hour\"] = organizedcomplaint_df[\"time_hour\"].astype(int)\n",
    "organizedcomplaint_df.dtypes"
   ]
  },
  {
   "cell_type": "code",
   "execution_count": null,
   "metadata": {},
   "outputs": [],
   "source": [
    "daybins = [-1, 4, 8, 12, 16, 20, 24]\n",
    "daygroups = [\"Mid/Late Night\", \"Early Morning\", \"Late Morning\", \n",
    "             \"Noon/Early Afternoon\", \"Late Afternoon/Evening\", \"Night\"]\n",
    "organizedcomplaint_df[\"time_of_day\"] = pd.cut(organizedcomplaint_df[\"time_hour\"], daybins, labels=daygroups)"
   ]
  },
  {
   "cell_type": "code",
   "execution_count": null,
   "metadata": {
    "scrolled": false
   },
   "outputs": [],
   "source": [
    "organizedcomplaint_df = organizedcomplaint_df[[\"date\", \"day_of_year\", \"year\", \"month\", \"calendar_day\", \"day_of_week\", \n",
    "                                            \"time\", \"time_24h\", \"time_hour\", \"time_of_day\",\n",
    "                                            \"inquiry_name\", \"complaint\", \"brief_description\", \"call_resolution\", \n",
    "                                            \"agency\", \"agency_name\", \"unique_id\"]]\n",
    "organizedcomplaint_df.head()"
   ]
  },
  {
   "cell_type": "code",
   "execution_count": null,
   "metadata": {
    "scrolled": true
   },
   "outputs": [],
   "source": [
    "organizedcomplaint_df = organizedcomplaint_df.sort_values(\"time_hour\")\n",
    "organizedcomplaint_df.head()"
   ]
  },
  {
   "cell_type": "markdown",
   "metadata": {},
   "source": [
    "# Import Sklearn and Machine Learning Model"
   ]
  },
  {
   "cell_type": "code",
   "execution_count": null,
   "metadata": {},
   "outputs": [],
   "source": [
    "data_for_x = organizedcomplaint_df[['time_hour','day_of_year']]\n",
    "data_for_y = organizedcomplaint_df[['complaint']]"
   ]
  },
  {
   "cell_type": "code",
   "execution_count": null,
   "metadata": {},
   "outputs": [],
   "source": [
    "X = data_for_x.values\n",
    "y = data_for_y.values\n",
    "\n",
    "X"
   ]
  },
  {
   "cell_type": "code",
   "execution_count": null,
   "metadata": {},
   "outputs": [],
   "source": [
    "from sklearn.model_selection import train_test_split\n",
    "X_train, X_test, y_train, y_test = train_test_split(X, y, random_state=42, stratify=y)"
   ]
  },
  {
   "cell_type": "code",
   "execution_count": null,
   "metadata": {},
   "outputs": [],
   "source": [
    "from sklearn.linear_model import LogisticRegression\n",
    "classifier = LogisticRegression()\n",
    "classifier"
   ]
  },
  {
   "cell_type": "code",
   "execution_count": null,
   "metadata": {
    "scrolled": true
   },
   "outputs": [],
   "source": [
    "classifier.fit(X_train, y_train)"
   ]
  },
  {
   "cell_type": "code",
   "execution_count": null,
   "metadata": {
    "scrolled": false
   },
   "outputs": [],
   "source": [
    "print(f\"Training Data Score: {classifier.score(X_train, y_train)}\")\n",
    "print(f\"Testing Data Score: {classifier.score(X_test, y_test)}\")"
   ]
  },
  {
   "cell_type": "code",
   "execution_count": null,
   "metadata": {},
   "outputs": [],
   "source": [
    "hour = int(input(\"Enter what hour you want to know in military time (ex. input 03 for 3am): \"))\n",
    "month = int(input(\"Enter what day of year you want to know (ex. input 02 for Jan 2nd): \"))"
   ]
  },
  {
   "cell_type": "code",
   "execution_count": null,
   "metadata": {},
   "outputs": [],
   "source": [
    "import numpy as np\n",
    "Xnew = np.array([hour, month])\n",
    "ynew = classifier.predict(Xnew.reshape(1,-1))\n",
    "print(f\"Prediction: {ynew}\")"
   ]
  },
  {
   "cell_type": "markdown",
   "metadata": {},
   "source": [
    "# Creating Visualizations\n",
    "- We will be creating a variety of visualizations that illustrate the volume of calls, and the volume of complaints to the 311.\n",
    "- Two heatmaps represent the most popular times of complaint calls to the 311, based on hour of day, and period of day through binning methods."
   ]
  },
  {
   "cell_type": "code",
   "execution_count": null,
   "metadata": {},
   "outputs": [],
   "source": [
    "import plotly.graph_objects as go"
   ]
  },
  {
   "cell_type": "code",
   "execution_count": null,
   "metadata": {
    "scrolled": false
   },
   "outputs": [],
   "source": [
    "complaintcount_df = organizedcomplaint_df[organizedcomplaint_df[\"complaint\"]==1]\n",
    "complaintcount_df.head()"
   ]
  },
  {
   "cell_type": "code",
   "execution_count": null,
   "metadata": {},
   "outputs": [],
   "source": [
    "monthgrouped = organizedcomplaint_df.groupby(\"calendar_day\")\n",
    "# volumecount = monthgrouped[\"complaint\"].count()\n",
    "# typecount = monthgrouped[\"complaint\"].value_counts()"
   ]
  },
  {
   "cell_type": "code",
   "execution_count": null,
   "metadata": {},
   "outputs": [],
   "source": [
    "typecount = monthgrouped['complaint'].value_counts()\n",
    "typeperc = (typecount/monthgrouped['complaint'].count())*100"
   ]
  },
  {
   "cell_type": "code",
   "execution_count": null,
   "metadata": {},
   "outputs": [],
   "source": [
    "df = pd.DataFrame({\"complaints\" : typecount,\n",
    "                   \"percentage\" : typeperc\n",
    "                  }).reset_index()\n",
    "df"
   ]
  },
  {
   "cell_type": "code",
   "execution_count": null,
   "metadata": {},
   "outputs": [],
   "source": [
    "months = ['Jan', 'Feb', 'Mar', 'Apr', 'May', 'Jun',\n",
    "          'Jul', 'Aug', 'Sep', 'Oct', 'Nov', 'Dec']\n",
    "fig3 = go.Figure()\n",
    "fig3.add_trace(go.Bar(\n",
    "    x=df[df['complaint'] == 0].percentage,\n",
    "    y=months,\n",
    "    name='Non-Complaints',\n",
    "    marker_color='rgb(96, 174, 219)',\n",
    "    orientation = \"h\",\n",
    "    text = df[df['complaint'] == 0].percentage.map(\"{:,.2f}%\".format),\n",
    "    textposition = \"inside\"\n",
    "))\n",
    "fig3.add_trace(go.Bar(\n",
    "    x=df[df['complaint'] == 1].percentage,\n",
    "    y=months,\n",
    "    name='Complaints',\n",
    "    marker_color='rgb(135, 211, 255)',\n",
    "    orientation = \"h\",\n",
    "    text = df[df['complaint'] == 1].percentage.map(\"{:,.2f}%\".format),\n",
    "    textposition = \"inside\"\n",
    "))\n",
    "# Here we modify the tickangle of the xaxis, resulting in rotated labels.\n",
    "fig3.update_layout(barmode='stack', xaxis_tickangle=-45,\n",
    "                  title=\"Proportion of Complaints vs. Non-Complaints in Year 2019\",\n",
    "                  xaxis_title=\"Percentage\",\n",
    "                  yaxis_title=\"Month\")\n",
    "fig3.update_xaxes(range = [0,100])\n",
    "fig3.show()"
   ]
  },
  {
   "cell_type": "code",
   "execution_count": null,
   "metadata": {},
   "outputs": [],
   "source": [
    "midlatenight_df = complaintcount_df.loc[complaintcount_df[\"time_of_day\"] == \"Mid/Late Night\",:]\n",
    "midlatenight_ct = midlatenight_df[\"day_of_week\"].value_counts()\n",
    "\n",
    "earlymorn_df = complaintcount_df.loc[complaintcount_df[\"time_of_day\"] == \"Early Morning\",:]\n",
    "earlymorn_ct = earlymorn_df[\"day_of_week\"].value_counts()\n",
    "\n",
    "latemorn_df = complaintcount_df.loc[complaintcount_df[\"time_of_day\"] == \"Late Morning\",:]\n",
    "latemorn_ct = latemorn_df[\"day_of_week\"].value_counts()\n",
    "\n",
    "earlyaft_df = complaintcount_df.loc[complaintcount_df[\"time_of_day\"] == \"Noon/Early Afternoon\",:]\n",
    "earlyaft_ct = earlyaft_df[\"day_of_week\"].value_counts()\n",
    "\n",
    "evening_df = complaintcount_df.loc[complaintcount_df[\"time_of_day\"] == \"Late Afternoon/Evening\",:]\n",
    "evening_ct = evening_df[\"day_of_week\"].value_counts()\n",
    "\n",
    "night_df = complaintcount_df.loc[complaintcount_df[\"time_of_day\"] == \"Night\",:]\n",
    "night_ct = night_df[\"day_of_week\"].value_counts()"
   ]
  },
  {
   "cell_type": "code",
   "execution_count": null,
   "metadata": {
    "scrolled": true
   },
   "outputs": [],
   "source": [
    "index = ['Monday', 'Tuesday', 'Wednesday', 'Thursday', 'Friday', 'Saturday', 'Sunday']\n",
    "timeanddayct_df = pd.DataFrame({\"Mid/Late Night\" : midlatenight_ct,\n",
    "                                \"Early Morning\" : earlymorn_ct,\n",
    "                                \"Late Morning\" : latemorn_ct,\n",
    "                                \"Noon/Early Afternoon\" : earlyaft_ct,\n",
    "                                \"Late Afternoon/Evening\" : evening_ct,\n",
    "                                \"Night\" : night_ct}, index=index)\n",
    "timeanddayct_df"
   ]
  },
  {
   "cell_type": "code",
   "execution_count": null,
   "metadata": {
    "scrolled": true
   },
   "outputs": [],
   "source": [
    "periodarray = timeanddayct_df.values\n",
    "periodarray\n",
    "perioddayindex = timeanddayct_df.index.values\n",
    "perioddayindex"
   ]
  },
  {
   "cell_type": "code",
   "execution_count": null,
   "metadata": {},
   "outputs": [],
   "source": [
    "periodday_fig = go.Figure(data=go.Heatmap(\n",
    "                   z=[x for x in periodarray],\n",
    "                   y=[x for x in perioddayindex],\n",
    "                   x=[x for x in timeanddayct_df.columns],\n",
    "                colorscale = \"Teal\", opacity = 1))\n",
    "periodday_fig.update_layout(\n",
    "    title=\"311 Complaint Calls by Day and Period of Day\",\n",
    "    xaxis_title=\"Period of Day\",\n",
    "    yaxis_title=\"Day of Week\",)\n",
    "periodday_fig.show()"
   ]
  },
  {
   "cell_type": "code",
   "execution_count": null,
   "metadata": {},
   "outputs": [],
   "source": [
    "hour0_df = complaintcount_df.loc[complaintcount_df[\"time_hour\"] == 0,:]\n",
    "hour0_ct = hour0_df[\"day_of_week\"].value_counts()\n",
    "\n",
    "hour1_df = complaintcount_df.loc[complaintcount_df[\"time_hour\"] == 1,:]\n",
    "hour1_ct = hour1_df[\"day_of_week\"].value_counts()\n",
    "\n",
    "hour2_df = complaintcount_df.loc[complaintcount_df[\"time_hour\"] == 2,:]\n",
    "hour2_ct = hour2_df[\"day_of_week\"].value_counts()\n",
    "\n",
    "hour3_df = complaintcount_df.loc[complaintcount_df[\"time_hour\"] == 3,:]\n",
    "hour3_ct = hour3_df[\"day_of_week\"].value_counts()\n",
    "\n",
    "hour4_df = complaintcount_df.loc[complaintcount_df[\"time_hour\"] == 4,:]\n",
    "hour4_ct = hour4_df[\"day_of_week\"].value_counts()\n",
    "\n",
    "hour5_df = complaintcount_df.loc[complaintcount_df[\"time_hour\"] == 5,:]\n",
    "hour5_ct = hour5_df[\"day_of_week\"].value_counts()\n",
    "\n",
    "hour6_df = complaintcount_df.loc[complaintcount_df[\"time_hour\"] == 6,:]\n",
    "hour6_ct = hour6_df[\"day_of_week\"].value_counts()\n",
    "\n",
    "hour7_df = complaintcount_df.loc[complaintcount_df[\"time_hour\"] == 7,:]\n",
    "hour7_ct = hour7_df[\"day_of_week\"].value_counts()\n",
    "\n",
    "hour8_df = complaintcount_df.loc[complaintcount_df[\"time_hour\"] == 8,:]\n",
    "hour8_ct = hour8_df[\"day_of_week\"].value_counts()\n",
    "\n",
    "hour9_df = complaintcount_df.loc[complaintcount_df[\"time_hour\"] == 9,:]\n",
    "hour9_ct = hour9_df[\"day_of_week\"].value_counts()\n",
    "\n",
    "hour10_df = complaintcount_df.loc[complaintcount_df[\"time_hour\"] == 10,:]\n",
    "hour10_ct = hour10_df[\"day_of_week\"].value_counts()\n",
    "\n",
    "hour11_df = complaintcount_df.loc[complaintcount_df[\"time_hour\"] == 11,:]\n",
    "hour11_ct = hour11_df[\"day_of_week\"].value_counts()\n",
    "\n",
    "hour12_df = complaintcount_df.loc[complaintcount_df[\"time_hour\"] == 12,:]\n",
    "hour12_ct = hour12_df[\"day_of_week\"].value_counts()\n",
    "\n",
    "hour13_df = complaintcount_df.loc[complaintcount_df[\"time_hour\"] == 13,:]\n",
    "hour13_ct = hour13_df[\"day_of_week\"].value_counts()\n",
    "\n",
    "hour14_df = complaintcount_df.loc[complaintcount_df[\"time_hour\"] == 14,:]\n",
    "hour14_ct = hour14_df[\"day_of_week\"].value_counts()\n",
    "\n",
    "hour15_df = complaintcount_df.loc[complaintcount_df[\"time_hour\"] == 15,:]\n",
    "hour15_ct = hour15_df[\"day_of_week\"].value_counts()\n",
    "\n",
    "hour16_df = complaintcount_df.loc[complaintcount_df[\"time_hour\"] == 16,:]\n",
    "hour16_ct = hour16_df[\"day_of_week\"].value_counts()\n",
    "\n",
    "hour17_df = complaintcount_df.loc[complaintcount_df[\"time_hour\"] == 17,:]\n",
    "hour17_ct = hour17_df[\"day_of_week\"].value_counts()\n",
    "\n",
    "hour18_df = complaintcount_df.loc[complaintcount_df[\"time_hour\"] == 18,:]\n",
    "hour18_ct = hour18_df[\"day_of_week\"].value_counts()\n",
    "\n",
    "hour19_df = complaintcount_df.loc[complaintcount_df[\"time_hour\"] == 19,:]\n",
    "hour19_ct = hour19_df[\"day_of_week\"].value_counts()\n",
    "\n",
    "hour20_df = complaintcount_df.loc[complaintcount_df[\"time_hour\"] == 20,:]\n",
    "hour20_ct = hour20_df[\"day_of_week\"].value_counts()\n",
    "\n",
    "hour21_df = complaintcount_df.loc[complaintcount_df[\"time_hour\"] == 21,:]\n",
    "hour21_ct = hour21_df[\"day_of_week\"].value_counts()\n",
    "\n",
    "hour22_df = complaintcount_df.loc[complaintcount_df[\"time_hour\"] == 22,:]\n",
    "hour22_ct = hour22_df[\"day_of_week\"].value_counts()\n",
    "\n",
    "hour23_df = complaintcount_df.loc[complaintcount_df[\"time_hour\"] == 23,:]\n",
    "hour23_ct = hour23_df[\"day_of_week\"].value_counts()"
   ]
  },
  {
   "cell_type": "code",
   "execution_count": null,
   "metadata": {},
   "outputs": [],
   "source": [
    "index = ['Monday', 'Tuesday', 'Wednesday', 'Thursday', 'Friday', 'Saturday', 'Sunday']\n",
    "houranddayct_df = pd.DataFrame({\"12:00AM - 12:59AM\" : hour0_ct,\n",
    "                               \"1:00AM - 1:59AM\" : hour1_ct,\n",
    "                               \"2:00AM - 2:59AM\" : hour2_ct,\n",
    "                               \"3:00AM - 3:59AM\" : hour3_ct,\n",
    "                               \"4:00AM - 4:59AM\" : hour4_ct,\n",
    "                               \"5:00AM - 5:59AM\" : hour5_ct,\n",
    "                               \"6:00AM - 6:59AM\" : hour6_ct,\n",
    "                               \"7:00AM - 7:59AM\" : hour7_ct,\n",
    "                               \"8:00AM - 8:59AM\" : hour8_ct,\n",
    "                               \"9:00AM - 9:59AM\" : hour9_ct,\n",
    "                               \"10:00AM - 10:59AM\" : hour10_ct,\n",
    "                               \"11:00AM - 11:59AM\" : hour11_ct,\n",
    "                               \"12:00PM - 12:59PM\" : hour12_ct,\n",
    "                               \"1:00PM - 1:59PM\" : hour13_ct,\n",
    "                               \"2:00PM - 2:59PM\" : hour14_ct,\n",
    "                               \"3:00PM - 3:59PM\" : hour15_ct,\n",
    "                               \"4:00PM - 4:59PM\" : hour16_ct,\n",
    "                               \"5:00PM - 5:59PM\" : hour17_ct,\n",
    "                               \"6:00PM - 6:59PM\" : hour18_ct,\n",
    "                               \"7:00PM - 7:59PM\" : hour19_ct,\n",
    "                               \"8:00PM - 8:59PM\" : hour20_ct,\n",
    "                               \"9:00PM - 9:59PM\" : hour21_ct,\n",
    "                               \"10:00PM - 10:59PM\" : hour22_ct,\n",
    "                               \"11:00PM - 11:59PM\" : hour23_ct,\n",
    "                               }, index=index)\n",
    "houranddayct_df"
   ]
  },
  {
   "cell_type": "code",
   "execution_count": null,
   "metadata": {},
   "outputs": [],
   "source": [
    "hourdayarray = houranddayct_df.values\n",
    "hourdayarray\n",
    "hourdayindex = houranddayct_df.index.values\n",
    "hourdayindex"
   ]
  },
  {
   "cell_type": "code",
   "execution_count": null,
   "metadata": {
    "scrolled": true
   },
   "outputs": [],
   "source": [
    "hourdayfig = go.Figure(data=go.Heatmap(\n",
    "                   z=[x for x in hourdayarray],\n",
    "                   y=[x for x in hourdayindex],\n",
    "                   x=[x for x in houranddayct_df.columns],\n",
    "                colorscale = \"Teal\", opacity = 1))\n",
    "hourdayfig.update_layout(\n",
    "    title=\"311 Complaint Calls by Day and Time\",\n",
    "    xaxis_title=\"Time\",\n",
    "    yaxis_title=\"Day of Week\",\n",
    "    xaxis_tickangle=-45)\n",
    "hourdayfig.show()"
   ]
  },
  {
   "cell_type": "code",
   "execution_count": null,
   "metadata": {
    "scrolled": true
   },
   "outputs": [],
   "source": [
    "# Group by on day, then do .count by \n",
    "tochart_df = organizedcomplaint_df.groupby(['month', 'complaint']).count()\n",
    "tochart_df = tochart_df[['year']].reset_index()\n",
    "months = ['Jan', 'Feb', 'Mar', 'Apr', 'May', 'Jun',\n",
    "          'Jul', 'Aug', 'Sep', 'Oct', 'Nov', 'Dec']\n",
    "fig1 = go.Figure()\n",
    "fig1.add_trace(go.Bar(\n",
    "    x=tochart_df[tochart_df['complaint'] == 0].year,\n",
    "    y=months,\n",
    "    name='Non-Complaints',\n",
    "    marker_color='rgb(96, 174, 219)',\n",
    "    orientation = \"h\",\n",
    "    text = tochart_df[tochart_df['complaint'] == 0].year.map(\"{:,.0f}\".format),\n",
    "    textposition = \"inside\"\n",
    "))\n",
    "fig1.add_trace(go.Bar(\n",
    "    x=tochart_df[tochart_df['complaint'] == 1].year,\n",
    "    y=months,\n",
    "    name='Complaints',\n",
    "    marker_color='rgb(135, 211, 255)',\n",
    "    orientation = \"h\",\n",
    "    text = tochart_df[tochart_df['complaint'] == 1].year.map(\"{:,.0f}\".format),\n",
    "    textposition = \"inside\"\n",
    "))\n",
    "# Here we modify the tickangle of the xaxis, resulting in rotated labels.\n",
    "fig1.update_layout(barmode='stack', xaxis_tickangle=-45,\n",
    "                  title=\"Complaints vs. Non-Complaints in Year 2019\",\n",
    "                  xaxis_title=\"Number of Calls\",\n",
    "                  yaxis_title=\"Month\")\n",
    "fig1.show()"
   ]
  },
  {
   "cell_type": "code",
   "execution_count": null,
   "metadata": {},
   "outputs": [],
   "source": [
    "tochart_df"
   ]
  },
  {
   "cell_type": "code",
   "execution_count": null,
   "metadata": {},
   "outputs": [],
   "source": [
    "tochart_df = organizedcomplaint_df.groupby(['month', 'complaint']).count()\n",
    "tochart_df = tochart_df[['year']].reset_index()\n",
    "months = ['Jan', 'Feb', 'Mar', 'Apr', 'May', 'Jun',\n",
    "          'Jul', 'Aug', 'Sep', 'Oct', 'Nov', 'Dec']\n",
    "fig1 = go.Figure()\n",
    "fig1.add_trace(go.Bar(\n",
    "    x=months,\n",
    "    y=tochart_df[tochart_df['complaint'] == 0].year,\n",
    "    name='Non-Complaints',\n",
    "    marker_color='rgb(96, 174, 219)'\n",
    "))\n",
    "fig1.add_trace(go.Bar(\n",
    "    x=months,\n",
    "    y=tochart_df[tochart_df['complaint'] == 1].year,\n",
    "    name='Complaints',\n",
    "    marker_color='rgb(135, 211, 255)'\n",
    "))\n",
    "# Here we modify the tickangle of the xaxis, resulting in rotated labels.\n",
    "fig1.update_layout(barmode='group', xaxis_tickangle=-45,\n",
    "                  title=\"Complaints vs. Non-Complaints in Year 2019\",\n",
    "                  xaxis_title=\"Month\",\n",
    "                  yaxis_title=\"Number of Calls\")\n",
    "fig1.show()"
   ]
  },
  {
   "cell_type": "code",
   "execution_count": null,
   "metadata": {},
   "outputs": [],
   "source": [
    "# Group by on day, then do .count by \n",
    "tochart1_df = organizedcomplaint_df.groupby(['date', 'complaint']).count()\n",
    "tochart1_df = tochart1_df[['year']].reset_index()\n",
    "months = ['01-Jan-19', '02-Jan-19', '03-Jan-19', '04-Jan-19', '05-Jan-19', '06-Jan-19', '07-Jan-19', '08-Jan-19', \n",
    "'09-Jan-19', '10-Jan-19', '11-Jan-19', '12-Jan-19', '13-Jan-19', '14-Jan-19', '15-Jan-19', '16-Jan-19', \n",
    "'17-Jan-19', '18-Jan-19', '19-Jan-19', '20-Jan-19', '21-Jan-19', '22-Jan-19', '23-Jan-19', '24-Jan-19', \n",
    "'25-Jan-19', '26-Jan-19', '27-Jan-19', '28-Jan-19', '29-Jan-19', '30-Jan-19', '31-Jan-19', '01-Feb-19', \n",
    "'02-Feb-19', '03-Feb-19', '04-Feb-19', '05-Feb-19', '06-Feb-19', '07-Feb-19', '08-Feb-19', '09-Feb-19', \n",
    "'10-Feb-19', '11-Feb-19', '12-Feb-19', '13-Feb-19', '14-Feb-19', '15-Feb-19', '16-Feb-19', '17-Feb-19', \n",
    "'18-Feb-19', '19-Feb-19', '20-Feb-19', '21-Feb-19', '22-Feb-19', '23-Feb-19', '24-Feb-19', '25-Feb-19', \n",
    "'26-Feb-19', '27-Feb-19', '28-Feb-19', '01-Mar-19', '02-Mar-19', '03-Mar-19', '04-Mar-19', '05-Mar-19', \n",
    "'06-Mar-19', '07-Mar-19', '08-Mar-19', '09-Mar-19', '10-Mar-19', '11-Mar-19', '12-Mar-19', '13-Mar-19', \n",
    "'14-Mar-19', '15-Mar-19', '16-Mar-19', '17-Mar-19', '18-Mar-19', '19-Mar-19', '20-Mar-19', '21-Mar-19', \n",
    "'22-Mar-19', '23-Mar-19', '24-Mar-19', '25-Mar-19', '26-Mar-19', '27-Mar-19', '28-Mar-19', '29-Mar-19', \n",
    "'30-Mar-19', '31-Mar-19', '01-Apr-19', '02-Apr-19', '03-Apr-19', '04-Apr-19', '05-Apr-19', '06-Apr-19', \n",
    "'07-Apr-19', '08-Apr-19', '09-Apr-19', '10-Apr-19', '11-Apr-19', '12-Apr-19', '13-Apr-19', '14-Apr-19', \n",
    "'15-Apr-19', '16-Apr-19', '17-Apr-19', '18-Apr-19', '19-Apr-19', '20-Apr-19', '21-Apr-19', '22-Apr-19', \n",
    "'23-Apr-19', '24-Apr-19', '25-Apr-19', '26-Apr-19', '27-Apr-19', '28-Apr-19', '29-Apr-19', '30-Apr-19', \n",
    "'01-May-19', '02-May-19', '03-May-19', '04-May-19', '05-May-19', '06-May-19', '07-May-19', '08-May-19', \n",
    "'09-May-19', '10-May-19', '11-May-19', '12-May-19', '13-May-19', '14-May-19', '15-May-19', '16-May-19', \n",
    "'17-May-19', '18-May-19', '19-May-19', '20-May-19', '21-May-19', '22-May-19', '23-May-19', '24-May-19', \n",
    "'25-May-19', '26-May-19', '27-May-19', '28-May-19', '29-May-19', '30-May-19', '31-May-19', '01-Jun-19', \n",
    "'02-Jun-19', '03-Jun-19', '04-Jun-19', '05-Jun-19', '06-Jun-19', '07-Jun-19', '08-Jun-19', '09-Jun-19', \n",
    "'10-Jun-19', '11-Jun-19', '12-Jun-19', '13-Jun-19', '14-Jun-19', '15-Jun-19', '16-Jun-19', '17-Jun-19', \n",
    "'18-Jun-19', '19-Jun-19', '20-Jun-19', '21-Jun-19', '22-Jun-19', '23-Jun-19', '24-Jun-19', '25-Jun-19', \n",
    "'26-Jun-19', '27-Jun-19', '28-Jun-19', '29-Jun-19', '30-Jun-19', '01-Jul-19', '02-Jul-19', '03-Jul-19', \n",
    "'04-Jul-19', '05-Jul-19', '06-Jul-19', '07-Jul-19', '08-Jul-19', '09-Jul-19', '10-Jul-19', '11-Jul-19', \n",
    "'12-Jul-19', '13-Jul-19', '14-Jul-19', '15-Jul-19', '16-Jul-19', '17-Jul-19', '18-Jul-19', '19-Jul-19', \n",
    "'20-Jul-19', '21-Jul-19', '22-Jul-19', '23-Jul-19', '24-Jul-19', '25-Jul-19', '26-Jul-19', '27-Jul-19', \n",
    "'28-Jul-19', '29-Jul-19', '30-Jul-19', '31-Jul-19', '01-Aug-19', '02-Aug-19', '03-Aug-19', '04-Aug-19', \n",
    "'05-Aug-19', '06-Aug-19', '07-Aug-19', '08-Aug-19', '09-Aug-19', '10-Aug-19', '11-Aug-19', '12-Aug-19', \n",
    "'13-Aug-19', '14-Aug-19', '15-Aug-19', '16-Aug-19', '17-Aug-19', '18-Aug-19', '19-Aug-19', '20-Aug-19', \n",
    "'21-Aug-19', '22-Aug-19', '23-Aug-19', '24-Aug-19', '25-Aug-19', '26-Aug-19', '27-Aug-19', '28-Aug-19', \n",
    "'29-Aug-19', '30-Aug-19', '31-Aug-19', '01-Sep-19', '02-Sep-19', '03-Sep-19', '04-Sep-19', '05-Sep-19', \n",
    "'06-Sep-19', '07-Sep-19', '08-Sep-19', '09-Sep-19', '10-Sep-19', '11-Sep-19', '12-Sep-19', '13-Sep-19', \n",
    "'14-Sep-19', '15-Sep-19', '16-Sep-19', '17-Sep-19', '18-Sep-19', '19-Sep-19', '20-Sep-19', '21-Sep-19', \n",
    "'22-Sep-19', '23-Sep-19', '24-Sep-19', '25-Sep-19', '26-Sep-19', '27-Sep-19', '28-Sep-19', '29-Sep-19', \n",
    "'30-Sep-19', '01-Oct-19', '02-Oct-19', '03-Oct-19', '04-Oct-19', '05-Oct-19', '06-Oct-19', '07-Oct-19', \n",
    "'08-Oct-19', '09-Oct-19', '10-Oct-19', '11-Oct-19', '12-Oct-19', '13-Oct-19', '14-Oct-19', '15-Oct-19', \n",
    "'16-Oct-19', '17-Oct-19', '18-Oct-19', '19-Oct-19', '20-Oct-19', '21-Oct-19', '22-Oct-19', '23-Oct-19', \n",
    "'24-Oct-19', '25-Oct-19', '26-Oct-19', '27-Oct-19', '28-Oct-19', '29-Oct-19', '30-Oct-19', '31-Oct-19', \n",
    "'01-Nov-19', '02-Nov-19', '03-Nov-19', '04-Nov-19', '05-Nov-19', '06-Nov-19', '07-Nov-19', '08-Nov-19', \n",
    "'09-Nov-19', '10-Nov-19', '11-Nov-19', '12-Nov-19', '13-Nov-19', '14-Nov-19', '15-Nov-19', '16-Nov-19', \n",
    "'17-Nov-19', '18-Nov-19', '19-Nov-19', '20-Nov-19', '21-Nov-19', '22-Nov-19', '23-Nov-19', '24-Nov-19', \n",
    "'25-Nov-19', '26-Nov-19', '27-Nov-19', '28-Nov-19', '29-Nov-19', '30-Nov-19', '01-Dec-19', '02-Dec-19', \n",
    "'03-Dec-19', '04-Dec-19', '05-Dec-19', '06-Dec-19', '07-Dec-19', '08-Dec-19', '09-Dec-19', '10-Dec-19', \n",
    "'11-Dec-19', '12-Dec-19', '13-Dec-19', '14-Dec-19', '15-Dec-19', '16-Dec-19', '17-Dec-19', '18-Dec-19', \n",
    "'19-Dec-19', '20-Dec-19', '21-Dec-19', '22-Dec-19', '23-Dec-19', '24-Dec-19', '25-Dec-19', '26-Dec-19', \n",
    "'27-Dec-19', '28-Dec-19', '29-Dec-19', '30-Dec-19', '31-Dec-19']\n",
    "fig1 = go.Figure()\n",
    "fig1.add_trace(go.Bar(\n",
    "    x=tochart1_df[tochart1_df['complaint'] == 0].year,\n",
    "    y=months,\n",
    "    width=1.5,\n",
    "    name='Non-Complaints',\n",
    "    marker_color='rgb(96, 174, 219)',\n",
    "    orientation = \"h\"\n",
    "))\n",
    "fig1.add_trace(go.Bar(\n",
    "    x=tochart1_df[tochart1_df['complaint'] == 1].year,\n",
    "    y=months,\n",
    "    width=1.5,\n",
    "    name='Complaints',\n",
    "    marker_color='rgb(135, 211, 255)',\n",
    "    orientation = \"h\"\n",
    "))\n",
    "# Here we modify the tickangle of the xaxis, resulting in rotated labels.\n",
    "fig1.update_layout(barmode='stack', xaxis_tickangle=-45,\n",
    "                  height = 1500,\n",
    "                  title = \"Volume of Calls by Calendar Day\",\n",
    "                  xaxis_title = \"Number of Calls\",\n",
    "                  yaxis_title = \"Date\")\n",
    "fig1.show()"
   ]
  },
  {
   "cell_type": "code",
   "execution_count": null,
   "metadata": {},
   "outputs": [],
   "source": []
  }
 ],
 "metadata": {
  "kernelspec": {
   "display_name": "Python 3",
   "language": "python",
   "name": "python3"
  },
  "language_info": {
   "codemirror_mode": {
    "name": "ipython",
    "version": 3
   },
   "file_extension": ".py",
   "mimetype": "text/x-python",
   "name": "python",
   "nbconvert_exporter": "python",
   "pygments_lexer": "ipython3",
   "version": "3.7.3"
  }
 },
 "nbformat": 4,
 "nbformat_minor": 2
}
