{
 "cells": [
  {
   "cell_type": "markdown",
   "metadata": {},
   "source": [
    "# Import Dependencies and Run 311-Call File\n",
    "- Import pandas for data cleaning to prepare for model\n",
    "- The dataset includes data from all 311 calls from 2019, and includes close to 6 million rows of data\n",
    "- Method: There are a variety of complaint calls to the 311 but we will be utilizing select key words/search values such as  \"Complaint\" and \"Noise from\".  We will be classifying those as complaints, vs all other inquiries which will be non-complaints.\n",
    "- Part of the data cleaning process will also be breaking up time and date strings, and converting them into useful date time formats for further analysis."
   ]
  },
  {
   "cell_type": "code",
   "execution_count": 9,
   "metadata": {},
   "outputs": [],
   "source": [
    "import pandas as pd"
   ]
  },
  {
   "cell_type": "code",
   "execution_count": 10,
   "metadata": {},
   "outputs": [
    {
     "name": "stderr",
     "output_type": "stream",
     "text": [
      "C:\\Users\\Ellaine Ho\\Anaconda3\\lib\\site-packages\\IPython\\core\\interactiveshell.py:3049: DtypeWarning: Columns (0,1,3) have mixed types. Specify dtype option on import or set low_memory=False.\n",
      "  interactivity=interactivity, compiler=compiler, result=result)\n"
     ]
    },
    {
     "data": {
      "text/html": [
       "<div>\n",
       "<style scoped>\n",
       "    .dataframe tbody tr th:only-of-type {\n",
       "        vertical-align: middle;\n",
       "    }\n",
       "\n",
       "    .dataframe tbody tr th {\n",
       "        vertical-align: top;\n",
       "    }\n",
       "\n",
       "    .dataframe thead th {\n",
       "        text-align: right;\n",
       "    }\n",
       "</style>\n",
       "<table border=\"1\" class=\"dataframe\">\n",
       "  <thead>\n",
       "    <tr style=\"text-align: right;\">\n",
       "      <th></th>\n",
       "      <th>agency</th>\n",
       "      <th>agency_name</th>\n",
       "      <th>brief_description</th>\n",
       "      <th>call_resolution</th>\n",
       "      <th>date</th>\n",
       "      <th>date_time</th>\n",
       "      <th>inquiry_name</th>\n",
       "      <th>time</th>\n",
       "      <th>unique_id</th>\n",
       "    </tr>\n",
       "  </thead>\n",
       "  <tbody>\n",
       "    <tr>\n",
       "      <th>0</th>\n",
       "      <td>DOB</td>\n",
       "      <td>Department of Buildings</td>\n",
       "      <td>Report an illegal conversion or alteration of ...</td>\n",
       "      <td>Universal Intake SR</td>\n",
       "      <td>2019-01-01T00:00:00.000</td>\n",
       "      <td>2019-01-01T12:00:00.000</td>\n",
       "      <td>Illegal Conversion of Residential Space</td>\n",
       "      <td>12:00:00 PM</td>\n",
       "      <td>134670793</td>\n",
       "    </tr>\n",
       "    <tr>\n",
       "      <th>1</th>\n",
       "      <td>HRA</td>\n",
       "      <td>Human Resources Administration</td>\n",
       "      <td>Confirmation Number required to reschedule, ca...</td>\n",
       "      <td>Routed to Web Page</td>\n",
       "      <td>2019-01-01T00:00:00.000</td>\n",
       "      <td>2019-01-01T12:00:09.000</td>\n",
       "      <td>IDNYC - Change or Look Up Appointment</td>\n",
       "      <td>12:00:09 PM</td>\n",
       "      <td>134679085</td>\n",
       "    </tr>\n",
       "    <tr>\n",
       "      <th>2</th>\n",
       "      <td>DOF</td>\n",
       "      <td>Department of Finance</td>\n",
       "      <td>Pay property taxes and related charges online.</td>\n",
       "      <td>Information Provided</td>\n",
       "      <td>2019-01-01T00:00:00.000</td>\n",
       "      <td>2019-01-01T12:00:09.000</td>\n",
       "      <td>Pay Property Tax - Online</td>\n",
       "      <td>12:00:09 PM</td>\n",
       "      <td>134673148</td>\n",
       "    </tr>\n",
       "    <tr>\n",
       "      <th>3</th>\n",
       "      <td>DSNY</td>\n",
       "      <td>Department of Sanitation</td>\n",
       "      <td>Information about which paper items may be rec...</td>\n",
       "      <td>Information Provided</td>\n",
       "      <td>2019-01-01T00:00:00.000</td>\n",
       "      <td>2019-01-01T12:00:31.000</td>\n",
       "      <td>Recycling Rules - Paper</td>\n",
       "      <td>12:00:31 PM</td>\n",
       "      <td>134676805</td>\n",
       "    </tr>\n",
       "    <tr>\n",
       "      <th>4</th>\n",
       "      <td>CHALL</td>\n",
       "      <td>CityHall</td>\n",
       "      <td>A special Task Force will review complaints th...</td>\n",
       "      <td>Information Provided</td>\n",
       "      <td>2019-01-01T00:00:00.000</td>\n",
       "      <td>2019-01-01T12:00:31.000</td>\n",
       "      <td>Tenant Harassment Assistance</td>\n",
       "      <td>12:00:31 PM</td>\n",
       "      <td>134672187</td>\n",
       "    </tr>\n",
       "  </tbody>\n",
       "</table>\n",
       "</div>"
      ],
      "text/plain": [
       "  agency                     agency_name  \\\n",
       "0    DOB         Department of Buildings   \n",
       "1    HRA  Human Resources Administration   \n",
       "2    DOF           Department of Finance   \n",
       "3   DSNY        Department of Sanitation   \n",
       "4  CHALL                        CityHall   \n",
       "\n",
       "                                   brief_description       call_resolution  \\\n",
       "0  Report an illegal conversion or alteration of ...   Universal Intake SR   \n",
       "1  Confirmation Number required to reschedule, ca...    Routed to Web Page   \n",
       "2     Pay property taxes and related charges online.  Information Provided   \n",
       "3  Information about which paper items may be rec...  Information Provided   \n",
       "4  A special Task Force will review complaints th...  Information Provided   \n",
       "\n",
       "                      date                date_time  \\\n",
       "0  2019-01-01T00:00:00.000  2019-01-01T12:00:00.000   \n",
       "1  2019-01-01T00:00:00.000  2019-01-01T12:00:09.000   \n",
       "2  2019-01-01T00:00:00.000  2019-01-01T12:00:09.000   \n",
       "3  2019-01-01T00:00:00.000  2019-01-01T12:00:31.000   \n",
       "4  2019-01-01T00:00:00.000  2019-01-01T12:00:31.000   \n",
       "\n",
       "                              inquiry_name         time  unique_id  \n",
       "0  Illegal Conversion of Residential Space  12:00:00 PM  134670793  \n",
       "1    IDNYC - Change or Look Up Appointment  12:00:09 PM  134679085  \n",
       "2                Pay Property Tax - Online  12:00:09 PM  134673148  \n",
       "3                  Recycling Rules - Paper  12:00:31 PM  134676805  \n",
       "4             Tenant Harassment Assistance  12:00:31 PM  134672187  "
      ]
     },
     "execution_count": 10,
     "metadata": {},
     "output_type": "execute_result"
    }
   ],
   "source": [
    "complaint_df = pd.read_csv(\"311-complaints.csv\")\n",
    "complaint_df.head()"
   ]
  },
  {
   "cell_type": "code",
   "execution_count": 11,
   "metadata": {
    "scrolled": true
   },
   "outputs": [
    {
     "data": {
      "text/html": [
       "<div>\n",
       "<style scoped>\n",
       "    .dataframe tbody tr th:only-of-type {\n",
       "        vertical-align: middle;\n",
       "    }\n",
       "\n",
       "    .dataframe tbody tr th {\n",
       "        vertical-align: top;\n",
       "    }\n",
       "\n",
       "    .dataframe thead th {\n",
       "        text-align: right;\n",
       "    }\n",
       "</style>\n",
       "<table border=\"1\" class=\"dataframe\">\n",
       "  <thead>\n",
       "    <tr style=\"text-align: right;\">\n",
       "      <th></th>\n",
       "      <th>agency</th>\n",
       "      <th>agency_name</th>\n",
       "      <th>brief_description</th>\n",
       "      <th>call_resolution</th>\n",
       "      <th>date</th>\n",
       "      <th>date_time</th>\n",
       "      <th>inquiry_name</th>\n",
       "      <th>time</th>\n",
       "      <th>unique_id</th>\n",
       "    </tr>\n",
       "  </thead>\n",
       "  <tbody>\n",
       "    <tr>\n",
       "      <th>0</th>\n",
       "      <td>DOB</td>\n",
       "      <td>Department of Buildings</td>\n",
       "      <td>Report an illegal conversion or alteration of ...</td>\n",
       "      <td>Universal Intake SR</td>\n",
       "      <td>2019-01-01T00:00:00.000</td>\n",
       "      <td>2019-01-01T12:00:00.000</td>\n",
       "      <td>Illegal Conversion of Residential Space</td>\n",
       "      <td>12:00:00 PM</td>\n",
       "      <td>134670793</td>\n",
       "    </tr>\n",
       "    <tr>\n",
       "      <th>3642</th>\n",
       "      <td>DOF</td>\n",
       "      <td>Department of Finance</td>\n",
       "      <td>Look up the status of a Speed Camera Violation...</td>\n",
       "      <td>Information Provided</td>\n",
       "      <td>2019-01-01T00:00:00.000</td>\n",
       "      <td>2019-01-01T18:21:57.000</td>\n",
       "      <td>Speed Camera Violation - Lookup Status - Notic...</td>\n",
       "      <td>6:21:57 PM</td>\n",
       "      <td>134678427</td>\n",
       "    </tr>\n",
       "    <tr>\n",
       "      <th>3641</th>\n",
       "      <td>DOF</td>\n",
       "      <td>Department of Finance</td>\n",
       "      <td>Look up the status of a Speed Camera Violation...</td>\n",
       "      <td>Information Provided</td>\n",
       "      <td>2019-01-01T00:00:00.000</td>\n",
       "      <td>2019-01-01T18:21:49.000</td>\n",
       "      <td>Speed Camera Violation - Lookup Status - Notic...</td>\n",
       "      <td>6:21:49 PM</td>\n",
       "      <td>134676879</td>\n",
       "    </tr>\n",
       "    <tr>\n",
       "      <th>3640</th>\n",
       "      <td>3-1-1</td>\n",
       "      <td>3-1-1 Call Center</td>\n",
       "      <td>Tuesday, January 1 is New Years Day.</td>\n",
       "      <td>Information Provided</td>\n",
       "      <td>2019-01-01T00:00:00.000</td>\n",
       "      <td>2019-01-01T18:21:44.000</td>\n",
       "      <td>New Year's Holiday Information</td>\n",
       "      <td>6:21:44 PM</td>\n",
       "      <td>134678522</td>\n",
       "    </tr>\n",
       "    <tr>\n",
       "      <th>3639</th>\n",
       "      <td>3-1-1</td>\n",
       "      <td>3-1-1 Call Center</td>\n",
       "      <td>Tuesday, January 1 is New Years Day.</td>\n",
       "      <td>Information Provided</td>\n",
       "      <td>2019-01-01T00:00:00.000</td>\n",
       "      <td>2019-01-01T18:21:37.000</td>\n",
       "      <td>New Year's Holiday Information</td>\n",
       "      <td>6:21:37 PM</td>\n",
       "      <td>134671135</td>\n",
       "    </tr>\n",
       "  </tbody>\n",
       "</table>\n",
       "</div>"
      ],
      "text/plain": [
       "     agency              agency_name  \\\n",
       "0       DOB  Department of Buildings   \n",
       "3642    DOF    Department of Finance   \n",
       "3641    DOF    Department of Finance   \n",
       "3640  3-1-1        3-1-1 Call Center   \n",
       "3639  3-1-1        3-1-1 Call Center   \n",
       "\n",
       "                                      brief_description       call_resolution  \\\n",
       "0     Report an illegal conversion or alteration of ...   Universal Intake SR   \n",
       "3642  Look up the status of a Speed Camera Violation...  Information Provided   \n",
       "3641  Look up the status of a Speed Camera Violation...  Information Provided   \n",
       "3640              Tuesday, January 1 is New Years Day.  Information Provided   \n",
       "3639              Tuesday, January 1 is New Years Day.  Information Provided   \n",
       "\n",
       "                         date                date_time  \\\n",
       "0     2019-01-01T00:00:00.000  2019-01-01T12:00:00.000   \n",
       "3642  2019-01-01T00:00:00.000  2019-01-01T18:21:57.000   \n",
       "3641  2019-01-01T00:00:00.000  2019-01-01T18:21:49.000   \n",
       "3640  2019-01-01T00:00:00.000  2019-01-01T18:21:44.000   \n",
       "3639  2019-01-01T00:00:00.000  2019-01-01T18:21:37.000   \n",
       "\n",
       "                                           inquiry_name         time  \\\n",
       "0               Illegal Conversion of Residential Space  12:00:00 PM   \n",
       "3642  Speed Camera Violation - Lookup Status - Notic...   6:21:57 PM   \n",
       "3641  Speed Camera Violation - Lookup Status - Notic...   6:21:49 PM   \n",
       "3640                     New Year's Holiday Information   6:21:44 PM   \n",
       "3639                     New Year's Holiday Information   6:21:37 PM   \n",
       "\n",
       "      unique_id  \n",
       "0     134670793  \n",
       "3642  134678427  \n",
       "3641  134676879  \n",
       "3640  134678522  \n",
       "3639  134671135  "
      ]
     },
     "execution_count": 11,
     "metadata": {},
     "output_type": "execute_result"
    }
   ],
   "source": [
    "sortedcomplaint_df = complaint_df.sort_values(by=['date'])\n",
    "sortedcomplaint_df.head()"
   ]
  },
  {
   "cell_type": "code",
   "execution_count": 12,
   "metadata": {},
   "outputs": [
    {
     "data": {
      "text/html": [
       "<div>\n",
       "<style scoped>\n",
       "    .dataframe tbody tr th:only-of-type {\n",
       "        vertical-align: middle;\n",
       "    }\n",
       "\n",
       "    .dataframe tbody tr th {\n",
       "        vertical-align: top;\n",
       "    }\n",
       "\n",
       "    .dataframe thead th {\n",
       "        text-align: right;\n",
       "    }\n",
       "</style>\n",
       "<table border=\"1\" class=\"dataframe\">\n",
       "  <thead>\n",
       "    <tr style=\"text-align: right;\">\n",
       "      <th></th>\n",
       "      <th>agency</th>\n",
       "      <th>agency_name</th>\n",
       "      <th>brief_description</th>\n",
       "      <th>call_resolution</th>\n",
       "      <th>date</th>\n",
       "      <th>date_time</th>\n",
       "      <th>inquiry_name</th>\n",
       "      <th>time</th>\n",
       "      <th>unique_id</th>\n",
       "      <th>complaint</th>\n",
       "    </tr>\n",
       "  </thead>\n",
       "  <tbody>\n",
       "    <tr>\n",
       "      <th>0</th>\n",
       "      <td>DOB</td>\n",
       "      <td>Department of Buildings</td>\n",
       "      <td>Report an illegal conversion or alteration of ...</td>\n",
       "      <td>Universal Intake SR</td>\n",
       "      <td>2019-01-01T00:00:00.000</td>\n",
       "      <td>2019-01-01T12:00:00.000</td>\n",
       "      <td>Illegal Conversion of Residential Space</td>\n",
       "      <td>12:00:00 PM</td>\n",
       "      <td>134670793</td>\n",
       "      <td>0</td>\n",
       "    </tr>\n",
       "    <tr>\n",
       "      <th>3642</th>\n",
       "      <td>DOF</td>\n",
       "      <td>Department of Finance</td>\n",
       "      <td>Look up the status of a Speed Camera Violation...</td>\n",
       "      <td>Information Provided</td>\n",
       "      <td>2019-01-01T00:00:00.000</td>\n",
       "      <td>2019-01-01T18:21:57.000</td>\n",
       "      <td>Speed Camera Violation - Lookup Status - Notic...</td>\n",
       "      <td>6:21:57 PM</td>\n",
       "      <td>134678427</td>\n",
       "      <td>0</td>\n",
       "    </tr>\n",
       "    <tr>\n",
       "      <th>3641</th>\n",
       "      <td>DOF</td>\n",
       "      <td>Department of Finance</td>\n",
       "      <td>Look up the status of a Speed Camera Violation...</td>\n",
       "      <td>Information Provided</td>\n",
       "      <td>2019-01-01T00:00:00.000</td>\n",
       "      <td>2019-01-01T18:21:49.000</td>\n",
       "      <td>Speed Camera Violation - Lookup Status - Notic...</td>\n",
       "      <td>6:21:49 PM</td>\n",
       "      <td>134676879</td>\n",
       "      <td>0</td>\n",
       "    </tr>\n",
       "    <tr>\n",
       "      <th>3640</th>\n",
       "      <td>3-1-1</td>\n",
       "      <td>3-1-1 Call Center</td>\n",
       "      <td>Tuesday, January 1 is New Years Day.</td>\n",
       "      <td>Information Provided</td>\n",
       "      <td>2019-01-01T00:00:00.000</td>\n",
       "      <td>2019-01-01T18:21:44.000</td>\n",
       "      <td>New Year's Holiday Information</td>\n",
       "      <td>6:21:44 PM</td>\n",
       "      <td>134678522</td>\n",
       "      <td>0</td>\n",
       "    </tr>\n",
       "    <tr>\n",
       "      <th>3639</th>\n",
       "      <td>3-1-1</td>\n",
       "      <td>3-1-1 Call Center</td>\n",
       "      <td>Tuesday, January 1 is New Years Day.</td>\n",
       "      <td>Information Provided</td>\n",
       "      <td>2019-01-01T00:00:00.000</td>\n",
       "      <td>2019-01-01T18:21:37.000</td>\n",
       "      <td>New Year's Holiday Information</td>\n",
       "      <td>6:21:37 PM</td>\n",
       "      <td>134671135</td>\n",
       "      <td>0</td>\n",
       "    </tr>\n",
       "  </tbody>\n",
       "</table>\n",
       "</div>"
      ],
      "text/plain": [
       "     agency              agency_name  \\\n",
       "0       DOB  Department of Buildings   \n",
       "3642    DOF    Department of Finance   \n",
       "3641    DOF    Department of Finance   \n",
       "3640  3-1-1        3-1-1 Call Center   \n",
       "3639  3-1-1        3-1-1 Call Center   \n",
       "\n",
       "                                      brief_description       call_resolution  \\\n",
       "0     Report an illegal conversion or alteration of ...   Universal Intake SR   \n",
       "3642  Look up the status of a Speed Camera Violation...  Information Provided   \n",
       "3641  Look up the status of a Speed Camera Violation...  Information Provided   \n",
       "3640              Tuesday, January 1 is New Years Day.  Information Provided   \n",
       "3639              Tuesday, January 1 is New Years Day.  Information Provided   \n",
       "\n",
       "                         date                date_time  \\\n",
       "0     2019-01-01T00:00:00.000  2019-01-01T12:00:00.000   \n",
       "3642  2019-01-01T00:00:00.000  2019-01-01T18:21:57.000   \n",
       "3641  2019-01-01T00:00:00.000  2019-01-01T18:21:49.000   \n",
       "3640  2019-01-01T00:00:00.000  2019-01-01T18:21:44.000   \n",
       "3639  2019-01-01T00:00:00.000  2019-01-01T18:21:37.000   \n",
       "\n",
       "                                           inquiry_name         time  \\\n",
       "0               Illegal Conversion of Residential Space  12:00:00 PM   \n",
       "3642  Speed Camera Violation - Lookup Status - Notic...   6:21:57 PM   \n",
       "3641  Speed Camera Violation - Lookup Status - Notic...   6:21:49 PM   \n",
       "3640                     New Year's Holiday Information   6:21:44 PM   \n",
       "3639                     New Year's Holiday Information   6:21:37 PM   \n",
       "\n",
       "      unique_id  complaint  \n",
       "0     134670793          0  \n",
       "3642  134678427          0  \n",
       "3641  134676879          0  \n",
       "3640  134678522          0  \n",
       "3639  134671135          0  "
      ]
     },
     "execution_count": 12,
     "metadata": {},
     "output_type": "execute_result"
    }
   ],
   "source": [
    "searchvalues = ['Complaint', 'Noise from']\n",
    "sortedcomplaint_df['complaint'] = sortedcomplaint_df['inquiry_name'].str.contains('|'.join(searchvalues))\n",
    "sortedcomplaint_df.complaint = sortedcomplaint_df.complaint.astype(int)\n",
    "sortedcomplaint_df.head()"
   ]
  },
  {
   "cell_type": "code",
   "execution_count": 13,
   "metadata": {},
   "outputs": [
    {
     "data": {
      "text/html": [
       "<div>\n",
       "<style scoped>\n",
       "    .dataframe tbody tr th:only-of-type {\n",
       "        vertical-align: middle;\n",
       "    }\n",
       "\n",
       "    .dataframe tbody tr th {\n",
       "        vertical-align: top;\n",
       "    }\n",
       "\n",
       "    .dataframe thead th {\n",
       "        text-align: right;\n",
       "    }\n",
       "</style>\n",
       "<table border=\"1\" class=\"dataframe\">\n",
       "  <thead>\n",
       "    <tr style=\"text-align: right;\">\n",
       "      <th></th>\n",
       "      <th>agency</th>\n",
       "      <th>agency_name</th>\n",
       "      <th>brief_description</th>\n",
       "      <th>call_resolution</th>\n",
       "      <th>date</th>\n",
       "      <th>date_time</th>\n",
       "      <th>inquiry_name</th>\n",
       "      <th>time</th>\n",
       "      <th>unique_id</th>\n",
       "      <th>complaint</th>\n",
       "      <th>year</th>\n",
       "      <th>t_column</th>\n",
       "      <th>month</th>\n",
       "      <th>calendar_day</th>\n",
       "      <th>t_column_2</th>\n",
       "    </tr>\n",
       "  </thead>\n",
       "  <tbody>\n",
       "    <tr>\n",
       "      <th>0</th>\n",
       "      <td>DOB</td>\n",
       "      <td>Department of Buildings</td>\n",
       "      <td>Report an illegal conversion or alteration of ...</td>\n",
       "      <td>Universal Intake SR</td>\n",
       "      <td>2019-01-01</td>\n",
       "      <td>2019-01-01T12:00:00.000</td>\n",
       "      <td>Illegal Conversion of Residential Space</td>\n",
       "      <td>12:00:00 PM</td>\n",
       "      <td>134670793</td>\n",
       "      <td>0</td>\n",
       "      <td>2019</td>\n",
       "      <td>00:00:00.000</td>\n",
       "      <td>01</td>\n",
       "      <td>01</td>\n",
       "      <td>00:00:00.000</td>\n",
       "    </tr>\n",
       "    <tr>\n",
       "      <th>3642</th>\n",
       "      <td>DOF</td>\n",
       "      <td>Department of Finance</td>\n",
       "      <td>Look up the status of a Speed Camera Violation...</td>\n",
       "      <td>Information Provided</td>\n",
       "      <td>2019-01-01</td>\n",
       "      <td>2019-01-01T18:21:57.000</td>\n",
       "      <td>Speed Camera Violation - Lookup Status - Notic...</td>\n",
       "      <td>6:21:57 PM</td>\n",
       "      <td>134678427</td>\n",
       "      <td>0</td>\n",
       "      <td>2019</td>\n",
       "      <td>00:00:00.000</td>\n",
       "      <td>01</td>\n",
       "      <td>01</td>\n",
       "      <td>00:00:00.000</td>\n",
       "    </tr>\n",
       "    <tr>\n",
       "      <th>3641</th>\n",
       "      <td>DOF</td>\n",
       "      <td>Department of Finance</td>\n",
       "      <td>Look up the status of a Speed Camera Violation...</td>\n",
       "      <td>Information Provided</td>\n",
       "      <td>2019-01-01</td>\n",
       "      <td>2019-01-01T18:21:49.000</td>\n",
       "      <td>Speed Camera Violation - Lookup Status - Notic...</td>\n",
       "      <td>6:21:49 PM</td>\n",
       "      <td>134676879</td>\n",
       "      <td>0</td>\n",
       "      <td>2019</td>\n",
       "      <td>00:00:00.000</td>\n",
       "      <td>01</td>\n",
       "      <td>01</td>\n",
       "      <td>00:00:00.000</td>\n",
       "    </tr>\n",
       "    <tr>\n",
       "      <th>3640</th>\n",
       "      <td>3-1-1</td>\n",
       "      <td>3-1-1 Call Center</td>\n",
       "      <td>Tuesday, January 1 is New Years Day.</td>\n",
       "      <td>Information Provided</td>\n",
       "      <td>2019-01-01</td>\n",
       "      <td>2019-01-01T18:21:44.000</td>\n",
       "      <td>New Year's Holiday Information</td>\n",
       "      <td>6:21:44 PM</td>\n",
       "      <td>134678522</td>\n",
       "      <td>0</td>\n",
       "      <td>2019</td>\n",
       "      <td>00:00:00.000</td>\n",
       "      <td>01</td>\n",
       "      <td>01</td>\n",
       "      <td>00:00:00.000</td>\n",
       "    </tr>\n",
       "    <tr>\n",
       "      <th>3639</th>\n",
       "      <td>3-1-1</td>\n",
       "      <td>3-1-1 Call Center</td>\n",
       "      <td>Tuesday, January 1 is New Years Day.</td>\n",
       "      <td>Information Provided</td>\n",
       "      <td>2019-01-01</td>\n",
       "      <td>2019-01-01T18:21:37.000</td>\n",
       "      <td>New Year's Holiday Information</td>\n",
       "      <td>6:21:37 PM</td>\n",
       "      <td>134671135</td>\n",
       "      <td>0</td>\n",
       "      <td>2019</td>\n",
       "      <td>00:00:00.000</td>\n",
       "      <td>01</td>\n",
       "      <td>01</td>\n",
       "      <td>00:00:00.000</td>\n",
       "    </tr>\n",
       "  </tbody>\n",
       "</table>\n",
       "</div>"
      ],
      "text/plain": [
       "     agency              agency_name  \\\n",
       "0       DOB  Department of Buildings   \n",
       "3642    DOF    Department of Finance   \n",
       "3641    DOF    Department of Finance   \n",
       "3640  3-1-1        3-1-1 Call Center   \n",
       "3639  3-1-1        3-1-1 Call Center   \n",
       "\n",
       "                                      brief_description       call_resolution  \\\n",
       "0     Report an illegal conversion or alteration of ...   Universal Intake SR   \n",
       "3642  Look up the status of a Speed Camera Violation...  Information Provided   \n",
       "3641  Look up the status of a Speed Camera Violation...  Information Provided   \n",
       "3640              Tuesday, January 1 is New Years Day.  Information Provided   \n",
       "3639              Tuesday, January 1 is New Years Day.  Information Provided   \n",
       "\n",
       "            date                date_time  \\\n",
       "0     2019-01-01  2019-01-01T12:00:00.000   \n",
       "3642  2019-01-01  2019-01-01T18:21:57.000   \n",
       "3641  2019-01-01  2019-01-01T18:21:49.000   \n",
       "3640  2019-01-01  2019-01-01T18:21:44.000   \n",
       "3639  2019-01-01  2019-01-01T18:21:37.000   \n",
       "\n",
       "                                           inquiry_name         time  \\\n",
       "0               Illegal Conversion of Residential Space  12:00:00 PM   \n",
       "3642  Speed Camera Violation - Lookup Status - Notic...   6:21:57 PM   \n",
       "3641  Speed Camera Violation - Lookup Status - Notic...   6:21:49 PM   \n",
       "3640                     New Year's Holiday Information   6:21:44 PM   \n",
       "3639                     New Year's Holiday Information   6:21:37 PM   \n",
       "\n",
       "      unique_id  complaint  year      t_column month calendar_day  \\\n",
       "0     134670793          0  2019  00:00:00.000    01           01   \n",
       "3642  134678427          0  2019  00:00:00.000    01           01   \n",
       "3641  134676879          0  2019  00:00:00.000    01           01   \n",
       "3640  134678522          0  2019  00:00:00.000    01           01   \n",
       "3639  134671135          0  2019  00:00:00.000    01           01   \n",
       "\n",
       "        t_column_2  \n",
       "0     00:00:00.000  \n",
       "3642  00:00:00.000  \n",
       "3641  00:00:00.000  \n",
       "3640  00:00:00.000  \n",
       "3639  00:00:00.000  "
      ]
     },
     "execution_count": 13,
     "metadata": {},
     "output_type": "execute_result"
    }
   ],
   "source": [
    "sortedcomplaint_df['year'], sortedcomplaint_df['t_column'] = sortedcomplaint_df['date'].str.split('T', 1).str\n",
    "sortedcomplaint_df['year'], sortedcomplaint_df['month'] = sortedcomplaint_df['year'].str.split('-', 1).str\n",
    "sortedcomplaint_df['month'], sortedcomplaint_df['calendar_day'] = sortedcomplaint_df['month'].str.split('-', 1).str\n",
    "sortedcomplaint_df['date'], sortedcomplaint_df['t_column_2'] = sortedcomplaint_df['date'].str.split('T', 1).str\n",
    "sortedcomplaint_df.head()"
   ]
  },
  {
   "cell_type": "code",
   "execution_count": 14,
   "metadata": {},
   "outputs": [
    {
     "data": {
      "text/html": [
       "<div>\n",
       "<style scoped>\n",
       "    .dataframe tbody tr th:only-of-type {\n",
       "        vertical-align: middle;\n",
       "    }\n",
       "\n",
       "    .dataframe tbody tr th {\n",
       "        vertical-align: top;\n",
       "    }\n",
       "\n",
       "    .dataframe thead th {\n",
       "        text-align: right;\n",
       "    }\n",
       "</style>\n",
       "<table border=\"1\" class=\"dataframe\">\n",
       "  <thead>\n",
       "    <tr style=\"text-align: right;\">\n",
       "      <th></th>\n",
       "      <th>date</th>\n",
       "      <th>year</th>\n",
       "      <th>month</th>\n",
       "      <th>calendar_day</th>\n",
       "      <th>time</th>\n",
       "      <th>inquiry_name</th>\n",
       "      <th>complaint</th>\n",
       "      <th>brief_description</th>\n",
       "      <th>call_resolution</th>\n",
       "      <th>agency</th>\n",
       "      <th>agency_name</th>\n",
       "      <th>unique_id</th>\n",
       "    </tr>\n",
       "  </thead>\n",
       "  <tbody>\n",
       "    <tr>\n",
       "      <th>0</th>\n",
       "      <td>2019-01-01</td>\n",
       "      <td>2019</td>\n",
       "      <td>01</td>\n",
       "      <td>01</td>\n",
       "      <td>12:00:00 PM</td>\n",
       "      <td>Illegal Conversion of Residential Space</td>\n",
       "      <td>0</td>\n",
       "      <td>Report an illegal conversion or alteration of ...</td>\n",
       "      <td>Universal Intake SR</td>\n",
       "      <td>DOB</td>\n",
       "      <td>Department of Buildings</td>\n",
       "      <td>134670793</td>\n",
       "    </tr>\n",
       "    <tr>\n",
       "      <th>3642</th>\n",
       "      <td>2019-01-01</td>\n",
       "      <td>2019</td>\n",
       "      <td>01</td>\n",
       "      <td>01</td>\n",
       "      <td>6:21:57 PM</td>\n",
       "      <td>Speed Camera Violation - Lookup Status - Notic...</td>\n",
       "      <td>0</td>\n",
       "      <td>Look up the status of a Speed Camera Violation...</td>\n",
       "      <td>Information Provided</td>\n",
       "      <td>DOF</td>\n",
       "      <td>Department of Finance</td>\n",
       "      <td>134678427</td>\n",
       "    </tr>\n",
       "    <tr>\n",
       "      <th>3641</th>\n",
       "      <td>2019-01-01</td>\n",
       "      <td>2019</td>\n",
       "      <td>01</td>\n",
       "      <td>01</td>\n",
       "      <td>6:21:49 PM</td>\n",
       "      <td>Speed Camera Violation - Lookup Status - Notic...</td>\n",
       "      <td>0</td>\n",
       "      <td>Look up the status of a Speed Camera Violation...</td>\n",
       "      <td>Information Provided</td>\n",
       "      <td>DOF</td>\n",
       "      <td>Department of Finance</td>\n",
       "      <td>134676879</td>\n",
       "    </tr>\n",
       "    <tr>\n",
       "      <th>3640</th>\n",
       "      <td>2019-01-01</td>\n",
       "      <td>2019</td>\n",
       "      <td>01</td>\n",
       "      <td>01</td>\n",
       "      <td>6:21:44 PM</td>\n",
       "      <td>New Year's Holiday Information</td>\n",
       "      <td>0</td>\n",
       "      <td>Tuesday, January 1 is New Years Day.</td>\n",
       "      <td>Information Provided</td>\n",
       "      <td>3-1-1</td>\n",
       "      <td>3-1-1 Call Center</td>\n",
       "      <td>134678522</td>\n",
       "    </tr>\n",
       "    <tr>\n",
       "      <th>3639</th>\n",
       "      <td>2019-01-01</td>\n",
       "      <td>2019</td>\n",
       "      <td>01</td>\n",
       "      <td>01</td>\n",
       "      <td>6:21:37 PM</td>\n",
       "      <td>New Year's Holiday Information</td>\n",
       "      <td>0</td>\n",
       "      <td>Tuesday, January 1 is New Years Day.</td>\n",
       "      <td>Information Provided</td>\n",
       "      <td>3-1-1</td>\n",
       "      <td>3-1-1 Call Center</td>\n",
       "      <td>134671135</td>\n",
       "    </tr>\n",
       "  </tbody>\n",
       "</table>\n",
       "</div>"
      ],
      "text/plain": [
       "            date  year month calendar_day         time  \\\n",
       "0     2019-01-01  2019    01           01  12:00:00 PM   \n",
       "3642  2019-01-01  2019    01           01   6:21:57 PM   \n",
       "3641  2019-01-01  2019    01           01   6:21:49 PM   \n",
       "3640  2019-01-01  2019    01           01   6:21:44 PM   \n",
       "3639  2019-01-01  2019    01           01   6:21:37 PM   \n",
       "\n",
       "                                           inquiry_name  complaint  \\\n",
       "0               Illegal Conversion of Residential Space          0   \n",
       "3642  Speed Camera Violation - Lookup Status - Notic...          0   \n",
       "3641  Speed Camera Violation - Lookup Status - Notic...          0   \n",
       "3640                     New Year's Holiday Information          0   \n",
       "3639                     New Year's Holiday Information          0   \n",
       "\n",
       "                                      brief_description       call_resolution  \\\n",
       "0     Report an illegal conversion or alteration of ...   Universal Intake SR   \n",
       "3642  Look up the status of a Speed Camera Violation...  Information Provided   \n",
       "3641  Look up the status of a Speed Camera Violation...  Information Provided   \n",
       "3640              Tuesday, January 1 is New Years Day.  Information Provided   \n",
       "3639              Tuesday, January 1 is New Years Day.  Information Provided   \n",
       "\n",
       "     agency              agency_name  unique_id  \n",
       "0       DOB  Department of Buildings  134670793  \n",
       "3642    DOF    Department of Finance  134678427  \n",
       "3641    DOF    Department of Finance  134676879  \n",
       "3640  3-1-1        3-1-1 Call Center  134678522  \n",
       "3639  3-1-1        3-1-1 Call Center  134671135  "
      ]
     },
     "execution_count": 14,
     "metadata": {},
     "output_type": "execute_result"
    }
   ],
   "source": [
    "organizedcomplaint_df = sortedcomplaint_df[[\"date\", \"year\", \"month\", \"calendar_day\", \"time\", \"inquiry_name\", \"complaint\", \"brief_description\", \"call_resolution\", \"agency\", \"agency_name\", \"unique_id\"]]\n",
    "organizedcomplaint_df.head()"
   ]
  },
  {
   "cell_type": "code",
   "execution_count": 16,
   "metadata": {
    "scrolled": true
   },
   "outputs": [
    {
     "name": "stderr",
     "output_type": "stream",
     "text": [
      "C:\\Users\\Ellaine Ho\\Anaconda3\\lib\\site-packages\\ipykernel_launcher.py:1: SettingWithCopyWarning: \n",
      "A value is trying to be set on a copy of a slice from a DataFrame.\n",
      "Try using .loc[row_indexer,col_indexer] = value instead\n",
      "\n",
      "See the caveats in the documentation: http://pandas.pydata.org/pandas-docs/stable/indexing.html#indexing-view-versus-copy\n",
      "  \"\"\"Entry point for launching an IPython kernel.\n",
      "C:\\Users\\Ellaine Ho\\Anaconda3\\lib\\site-packages\\ipykernel_launcher.py:2: SettingWithCopyWarning: \n",
      "A value is trying to be set on a copy of a slice from a DataFrame.\n",
      "Try using .loc[row_indexer,col_indexer] = value instead\n",
      "\n",
      "See the caveats in the documentation: http://pandas.pydata.org/pandas-docs/stable/indexing.html#indexing-view-versus-copy\n",
      "  \n"
     ]
    },
    {
     "data": {
      "text/html": [
       "<div>\n",
       "<style scoped>\n",
       "    .dataframe tbody tr th:only-of-type {\n",
       "        vertical-align: middle;\n",
       "    }\n",
       "\n",
       "    .dataframe tbody tr th {\n",
       "        vertical-align: top;\n",
       "    }\n",
       "\n",
       "    .dataframe thead th {\n",
       "        text-align: right;\n",
       "    }\n",
       "</style>\n",
       "<table border=\"1\" class=\"dataframe\">\n",
       "  <thead>\n",
       "    <tr style=\"text-align: right;\">\n",
       "      <th></th>\n",
       "      <th>date</th>\n",
       "      <th>year</th>\n",
       "      <th>month</th>\n",
       "      <th>calendar_day</th>\n",
       "      <th>time</th>\n",
       "      <th>inquiry_name</th>\n",
       "      <th>complaint</th>\n",
       "      <th>brief_description</th>\n",
       "      <th>call_resolution</th>\n",
       "      <th>agency</th>\n",
       "      <th>agency_name</th>\n",
       "      <th>unique_id</th>\n",
       "      <th>time_24h</th>\n",
       "      <th>time_hour</th>\n",
       "    </tr>\n",
       "  </thead>\n",
       "  <tbody>\n",
       "    <tr>\n",
       "      <th>0</th>\n",
       "      <td>2019-01-01</td>\n",
       "      <td>2019</td>\n",
       "      <td>01</td>\n",
       "      <td>01</td>\n",
       "      <td>12:00:00 PM</td>\n",
       "      <td>Illegal Conversion of Residential Space</td>\n",
       "      <td>0</td>\n",
       "      <td>Report an illegal conversion or alteration of ...</td>\n",
       "      <td>Universal Intake SR</td>\n",
       "      <td>DOB</td>\n",
       "      <td>Department of Buildings</td>\n",
       "      <td>134670793</td>\n",
       "      <td>12:00:00</td>\n",
       "      <td>12</td>\n",
       "    </tr>\n",
       "    <tr>\n",
       "      <th>3642</th>\n",
       "      <td>2019-01-01</td>\n",
       "      <td>2019</td>\n",
       "      <td>01</td>\n",
       "      <td>01</td>\n",
       "      <td>6:21:57 PM</td>\n",
       "      <td>Speed Camera Violation - Lookup Status - Notic...</td>\n",
       "      <td>0</td>\n",
       "      <td>Look up the status of a Speed Camera Violation...</td>\n",
       "      <td>Information Provided</td>\n",
       "      <td>DOF</td>\n",
       "      <td>Department of Finance</td>\n",
       "      <td>134678427</td>\n",
       "      <td>18:21:57</td>\n",
       "      <td>18</td>\n",
       "    </tr>\n",
       "    <tr>\n",
       "      <th>3641</th>\n",
       "      <td>2019-01-01</td>\n",
       "      <td>2019</td>\n",
       "      <td>01</td>\n",
       "      <td>01</td>\n",
       "      <td>6:21:49 PM</td>\n",
       "      <td>Speed Camera Violation - Lookup Status - Notic...</td>\n",
       "      <td>0</td>\n",
       "      <td>Look up the status of a Speed Camera Violation...</td>\n",
       "      <td>Information Provided</td>\n",
       "      <td>DOF</td>\n",
       "      <td>Department of Finance</td>\n",
       "      <td>134676879</td>\n",
       "      <td>18:21:49</td>\n",
       "      <td>18</td>\n",
       "    </tr>\n",
       "    <tr>\n",
       "      <th>3640</th>\n",
       "      <td>2019-01-01</td>\n",
       "      <td>2019</td>\n",
       "      <td>01</td>\n",
       "      <td>01</td>\n",
       "      <td>6:21:44 PM</td>\n",
       "      <td>New Year's Holiday Information</td>\n",
       "      <td>0</td>\n",
       "      <td>Tuesday, January 1 is New Years Day.</td>\n",
       "      <td>Information Provided</td>\n",
       "      <td>3-1-1</td>\n",
       "      <td>3-1-1 Call Center</td>\n",
       "      <td>134678522</td>\n",
       "      <td>18:21:44</td>\n",
       "      <td>18</td>\n",
       "    </tr>\n",
       "    <tr>\n",
       "      <th>3639</th>\n",
       "      <td>2019-01-01</td>\n",
       "      <td>2019</td>\n",
       "      <td>01</td>\n",
       "      <td>01</td>\n",
       "      <td>6:21:37 PM</td>\n",
       "      <td>New Year's Holiday Information</td>\n",
       "      <td>0</td>\n",
       "      <td>Tuesday, January 1 is New Years Day.</td>\n",
       "      <td>Information Provided</td>\n",
       "      <td>3-1-1</td>\n",
       "      <td>3-1-1 Call Center</td>\n",
       "      <td>134671135</td>\n",
       "      <td>18:21:37</td>\n",
       "      <td>18</td>\n",
       "    </tr>\n",
       "  </tbody>\n",
       "</table>\n",
       "</div>"
      ],
      "text/plain": [
       "            date  year month calendar_day         time  \\\n",
       "0     2019-01-01  2019    01           01  12:00:00 PM   \n",
       "3642  2019-01-01  2019    01           01   6:21:57 PM   \n",
       "3641  2019-01-01  2019    01           01   6:21:49 PM   \n",
       "3640  2019-01-01  2019    01           01   6:21:44 PM   \n",
       "3639  2019-01-01  2019    01           01   6:21:37 PM   \n",
       "\n",
       "                                           inquiry_name  complaint  \\\n",
       "0               Illegal Conversion of Residential Space          0   \n",
       "3642  Speed Camera Violation - Lookup Status - Notic...          0   \n",
       "3641  Speed Camera Violation - Lookup Status - Notic...          0   \n",
       "3640                     New Year's Holiday Information          0   \n",
       "3639                     New Year's Holiday Information          0   \n",
       "\n",
       "                                      brief_description       call_resolution  \\\n",
       "0     Report an illegal conversion or alteration of ...   Universal Intake SR   \n",
       "3642  Look up the status of a Speed Camera Violation...  Information Provided   \n",
       "3641  Look up the status of a Speed Camera Violation...  Information Provided   \n",
       "3640              Tuesday, January 1 is New Years Day.  Information Provided   \n",
       "3639              Tuesday, January 1 is New Years Day.  Information Provided   \n",
       "\n",
       "     agency              agency_name  unique_id  time_24h time_hour  \n",
       "0       DOB  Department of Buildings  134670793  12:00:00        12  \n",
       "3642    DOF    Department of Finance  134678427  18:21:57        18  \n",
       "3641    DOF    Department of Finance  134676879  18:21:49        18  \n",
       "3640  3-1-1        3-1-1 Call Center  134678522  18:21:44        18  \n",
       "3639  3-1-1        3-1-1 Call Center  134671135  18:21:37        18  "
      ]
     },
     "execution_count": 16,
     "metadata": {},
     "output_type": "execute_result"
    }
   ],
   "source": [
    "organizedcomplaint_df['time_24h'] = pd.to_datetime(organizedcomplaint_df['time']).dt.strftime('%H:%M:%S')\n",
    "organizedcomplaint_df['time_hour'] = organizedcomplaint_df['time_24h'].str.split(':').str[0]\n",
    "organizedcomplaint_df.head()"
   ]
  },
  {
   "cell_type": "code",
   "execution_count": 42,
   "metadata": {},
   "outputs": [],
   "source": [
    "organizedcomplaint_df['date'] = pd.to_datetime(organizedcomplaint_df['date'], format = '%Y/%m/%d')\n",
    "organizedcomplaint_df['day_of_week'] = organizedcomplaint_df['date'].dt.weekday_name"
   ]
  },
  {
   "cell_type": "code",
   "execution_count": 87,
   "metadata": {},
   "outputs": [
    {
     "data": {
      "text/plain": [
       "date                 datetime64[ns]\n",
       "year                          int32\n",
       "month                         int32\n",
       "calendar_day                  int32\n",
       "day_of_week                  object\n",
       "time                         object\n",
       "time_24h                     object\n",
       "time_hour                     int32\n",
       "inquiry_name                 object\n",
       "complaint                     int32\n",
       "brief_description            object\n",
       "call_resolution              object\n",
       "agency                       object\n",
       "agency_name                  object\n",
       "unique_id                     int64\n",
       "dtype: object"
      ]
     },
     "execution_count": 87,
     "metadata": {},
     "output_type": "execute_result"
    }
   ],
   "source": [
    "organizedcomplaint_df[\"year\"] = organizedcomplaint_df[\"year\"].astype(int)\n",
    "organizedcomplaint_df[\"month\"] = organizedcomplaint_df[\"month\"].astype(int)\n",
    "organizedcomplaint_df[\"calendar_day\"] = organizedcomplaint_df[\"calendar_day\"].astype(int)\n",
    "organizedcomplaint_df[\"time_hour\"] = organizedcomplaint_df[\"time_hour\"].astype(int)\n",
    "organizedcomplaint_df.dtypes"
   ]
  },
  {
   "cell_type": "code",
   "execution_count": 97,
   "metadata": {},
   "outputs": [],
   "source": [
    "daybins = [-1, 4, 8, 12, 16, 20, 24]\n",
    "daygroups = [\"Mid/Late Night\", \"Early Morning\", \"Late Morning\", \n",
    "             \"Noon/Early Afternoon\", \"Late Afternoon/Evening\", \"Night\"]\n",
    "organizedcomplaint_df[\"time_of_day\"] = pd.cut(organizedcomplaint_df[\"time_hour\"], daybins, labels=daygroups)"
   ]
  },
  {
   "cell_type": "code",
   "execution_count": 98,
   "metadata": {
    "scrolled": false
   },
   "outputs": [
    {
     "data": {
      "text/html": [
       "<div>\n",
       "<style scoped>\n",
       "    .dataframe tbody tr th:only-of-type {\n",
       "        vertical-align: middle;\n",
       "    }\n",
       "\n",
       "    .dataframe tbody tr th {\n",
       "        vertical-align: top;\n",
       "    }\n",
       "\n",
       "    .dataframe thead th {\n",
       "        text-align: right;\n",
       "    }\n",
       "</style>\n",
       "<table border=\"1\" class=\"dataframe\">\n",
       "  <thead>\n",
       "    <tr style=\"text-align: right;\">\n",
       "      <th></th>\n",
       "      <th>date</th>\n",
       "      <th>year</th>\n",
       "      <th>month</th>\n",
       "      <th>calendar_day</th>\n",
       "      <th>day_of_week</th>\n",
       "      <th>time</th>\n",
       "      <th>time_24h</th>\n",
       "      <th>time_hour</th>\n",
       "      <th>time_of_day</th>\n",
       "      <th>inquiry_name</th>\n",
       "      <th>complaint</th>\n",
       "      <th>brief_description</th>\n",
       "      <th>call_resolution</th>\n",
       "      <th>agency</th>\n",
       "      <th>agency_name</th>\n",
       "      <th>unique_id</th>\n",
       "    </tr>\n",
       "  </thead>\n",
       "  <tbody>\n",
       "    <tr>\n",
       "      <th>2597040</th>\n",
       "      <td>2019-06-10</td>\n",
       "      <td>2019</td>\n",
       "      <td>6</td>\n",
       "      <td>10</td>\n",
       "      <td>Monday</td>\n",
       "      <td>12:54:59 AM</td>\n",
       "      <td>00:54:59</td>\n",
       "      <td>0</td>\n",
       "      <td>Mid/Late Night</td>\n",
       "      <td>Bulk Item Disposal Information</td>\n",
       "      <td>0</td>\n",
       "      <td>Learn about throwing away a large item that do...</td>\n",
       "      <td>Information Provided</td>\n",
       "      <td>DSNY</td>\n",
       "      <td>Department of Sanitation</td>\n",
       "      <td>137354925</td>\n",
       "    </tr>\n",
       "    <tr>\n",
       "      <th>2293731</th>\n",
       "      <td>2019-05-22</td>\n",
       "      <td>2019</td>\n",
       "      <td>5</td>\n",
       "      <td>22</td>\n",
       "      <td>Wednesday</td>\n",
       "      <td>12:33:42 AM</td>\n",
       "      <td>00:33:42</td>\n",
       "      <td>0</td>\n",
       "      <td>Mid/Late Night</td>\n",
       "      <td>Service Request Follow-Up</td>\n",
       "      <td>0</td>\n",
       "      <td>Activity Coding.</td>\n",
       "      <td>SR Information Provided</td>\n",
       "      <td>NYPD</td>\n",
       "      <td>New York City Police Department</td>\n",
       "      <td>137043225</td>\n",
       "    </tr>\n",
       "    <tr>\n",
       "      <th>2293733</th>\n",
       "      <td>2019-05-22</td>\n",
       "      <td>2019</td>\n",
       "      <td>5</td>\n",
       "      <td>22</td>\n",
       "      <td>Wednesday</td>\n",
       "      <td>12:33:54 AM</td>\n",
       "      <td>00:33:54</td>\n",
       "      <td>0</td>\n",
       "      <td>Mid/Late Night</td>\n",
       "      <td>Noise from Construction After Hours</td>\n",
       "      <td>1</td>\n",
       "      <td>Report noise from street or building construct...</td>\n",
       "      <td>Universal Intake SR</td>\n",
       "      <td>DEP</td>\n",
       "      <td>Department of Environmental Protection</td>\n",
       "      <td>137045162</td>\n",
       "    </tr>\n",
       "    <tr>\n",
       "      <th>2293734</th>\n",
       "      <td>2019-05-22</td>\n",
       "      <td>2019</td>\n",
       "      <td>5</td>\n",
       "      <td>22</td>\n",
       "      <td>Wednesday</td>\n",
       "      <td>12:34:02 AM</td>\n",
       "      <td>00:34:02</td>\n",
       "      <td>0</td>\n",
       "      <td>Mid/Late Night</td>\n",
       "      <td>Noise from Neighbor</td>\n",
       "      <td>1</td>\n",
       "      <td>Report a noisy neighbor.</td>\n",
       "      <td>CSMS SR</td>\n",
       "      <td>NYPD</td>\n",
       "      <td>New York City Police Department</td>\n",
       "      <td>137046320</td>\n",
       "    </tr>\n",
       "    <tr>\n",
       "      <th>2293735</th>\n",
       "      <td>2019-05-22</td>\n",
       "      <td>2019</td>\n",
       "      <td>5</td>\n",
       "      <td>22</td>\n",
       "      <td>Wednesday</td>\n",
       "      <td>12:34:30 AM</td>\n",
       "      <td>00:34:30</td>\n",
       "      <td>0</td>\n",
       "      <td>Mid/Late Night</td>\n",
       "      <td>Dead Animal on Street or Sidewalk - Priority</td>\n",
       "      <td>0</td>\n",
       "      <td>Request to have dead animal or rodent removed ...</td>\n",
       "      <td>Information Provided</td>\n",
       "      <td>DSNY</td>\n",
       "      <td>Department of Sanitation</td>\n",
       "      <td>137039733</td>\n",
       "    </tr>\n",
       "  </tbody>\n",
       "</table>\n",
       "</div>"
      ],
      "text/plain": [
       "              date  year  month  calendar_day day_of_week         time  \\\n",
       "2597040 2019-06-10  2019      6            10      Monday  12:54:59 AM   \n",
       "2293731 2019-05-22  2019      5            22   Wednesday  12:33:42 AM   \n",
       "2293733 2019-05-22  2019      5            22   Wednesday  12:33:54 AM   \n",
       "2293734 2019-05-22  2019      5            22   Wednesday  12:34:02 AM   \n",
       "2293735 2019-05-22  2019      5            22   Wednesday  12:34:30 AM   \n",
       "\n",
       "         time_24h  time_hour     time_of_day  \\\n",
       "2597040  00:54:59          0  Mid/Late Night   \n",
       "2293731  00:33:42          0  Mid/Late Night   \n",
       "2293733  00:33:54          0  Mid/Late Night   \n",
       "2293734  00:34:02          0  Mid/Late Night   \n",
       "2293735  00:34:30          0  Mid/Late Night   \n",
       "\n",
       "                                         inquiry_name  complaint  \\\n",
       "2597040                Bulk Item Disposal Information          0   \n",
       "2293731                     Service Request Follow-Up          0   \n",
       "2293733           Noise from Construction After Hours          1   \n",
       "2293734                           Noise from Neighbor          1   \n",
       "2293735  Dead Animal on Street or Sidewalk - Priority          0   \n",
       "\n",
       "                                         brief_description  \\\n",
       "2597040  Learn about throwing away a large item that do...   \n",
       "2293731                                   Activity Coding.   \n",
       "2293733  Report noise from street or building construct...   \n",
       "2293734                           Report a noisy neighbor.   \n",
       "2293735  Request to have dead animal or rodent removed ...   \n",
       "\n",
       "                 call_resolution agency  \\\n",
       "2597040     Information Provided   DSNY   \n",
       "2293731  SR Information Provided   NYPD   \n",
       "2293733      Universal Intake SR    DEP   \n",
       "2293734                  CSMS SR   NYPD   \n",
       "2293735     Information Provided   DSNY   \n",
       "\n",
       "                                    agency_name  unique_id  \n",
       "2597040                Department of Sanitation  137354925  \n",
       "2293731         New York City Police Department  137043225  \n",
       "2293733  Department of Environmental Protection  137045162  \n",
       "2293734         New York City Police Department  137046320  \n",
       "2293735                Department of Sanitation  137039733  "
      ]
     },
     "execution_count": 98,
     "metadata": {},
     "output_type": "execute_result"
    }
   ],
   "source": [
    "organizedcomplaint_df = organizedcomplaint_df[[\"date\", \"year\", \"month\", \"calendar_day\", \"day_of_week\", \n",
    "                                            \"time\", \"time_24h\", \"time_hour\", \"time_of_day\",\n",
    "                                            \"inquiry_name\", \"complaint\", \"brief_description\", \"call_resolution\", \n",
    "                                            \"agency\", \"agency_name\", \"unique_id\"]]\n",
    "organizedcomplaint_df.head()"
   ]
  },
  {
   "cell_type": "code",
   "execution_count": 99,
   "metadata": {},
   "outputs": [
    {
     "data": {
      "text/html": [
       "<div>\n",
       "<style scoped>\n",
       "    .dataframe tbody tr th:only-of-type {\n",
       "        vertical-align: middle;\n",
       "    }\n",
       "\n",
       "    .dataframe tbody tr th {\n",
       "        vertical-align: top;\n",
       "    }\n",
       "\n",
       "    .dataframe thead th {\n",
       "        text-align: right;\n",
       "    }\n",
       "</style>\n",
       "<table border=\"1\" class=\"dataframe\">\n",
       "  <thead>\n",
       "    <tr style=\"text-align: right;\">\n",
       "      <th></th>\n",
       "      <th>date</th>\n",
       "      <th>year</th>\n",
       "      <th>month</th>\n",
       "      <th>calendar_day</th>\n",
       "      <th>day_of_week</th>\n",
       "      <th>time</th>\n",
       "      <th>time_24h</th>\n",
       "      <th>time_hour</th>\n",
       "      <th>time_of_day</th>\n",
       "      <th>inquiry_name</th>\n",
       "      <th>complaint</th>\n",
       "      <th>brief_description</th>\n",
       "      <th>call_resolution</th>\n",
       "      <th>agency</th>\n",
       "      <th>agency_name</th>\n",
       "      <th>unique_id</th>\n",
       "    </tr>\n",
       "  </thead>\n",
       "  <tbody>\n",
       "    <tr>\n",
       "      <th>2597040</th>\n",
       "      <td>2019-06-10</td>\n",
       "      <td>2019</td>\n",
       "      <td>6</td>\n",
       "      <td>10</td>\n",
       "      <td>Monday</td>\n",
       "      <td>12:54:59 AM</td>\n",
       "      <td>00:54:59</td>\n",
       "      <td>0</td>\n",
       "      <td>Mid/Late Night</td>\n",
       "      <td>Bulk Item Disposal Information</td>\n",
       "      <td>0</td>\n",
       "      <td>Learn about throwing away a large item that do...</td>\n",
       "      <td>Information Provided</td>\n",
       "      <td>DSNY</td>\n",
       "      <td>Department of Sanitation</td>\n",
       "      <td>137354925</td>\n",
       "    </tr>\n",
       "    <tr>\n",
       "      <th>844138</th>\n",
       "      <td>2019-02-20</td>\n",
       "      <td>2019</td>\n",
       "      <td>2</td>\n",
       "      <td>20</td>\n",
       "      <td>Wednesday</td>\n",
       "      <td>12:08:39 AM</td>\n",
       "      <td>00:08:39</td>\n",
       "      <td>0</td>\n",
       "      <td>Mid/Late Night</td>\n",
       "      <td>Public School Calendar</td>\n",
       "      <td>0</td>\n",
       "      <td>Calendar for New York City public schools.</td>\n",
       "      <td>Information Provided</td>\n",
       "      <td>DOE</td>\n",
       "      <td>Department of Education</td>\n",
       "      <td>135539067</td>\n",
       "    </tr>\n",
       "    <tr>\n",
       "      <th>844139</th>\n",
       "      <td>2019-02-20</td>\n",
       "      <td>2019</td>\n",
       "      <td>2</td>\n",
       "      <td>20</td>\n",
       "      <td>Wednesday</td>\n",
       "      <td>12:08:47 AM</td>\n",
       "      <td>00:08:47</td>\n",
       "      <td>0</td>\n",
       "      <td>Mid/Late Night</td>\n",
       "      <td>Status of Active Street or Sidewalk Constructi...</td>\n",
       "      <td>0</td>\n",
       "      <td>Request the status of an active street constru...</td>\n",
       "      <td>Routed to Web Page</td>\n",
       "      <td>DOT</td>\n",
       "      <td>Department of Transportation</td>\n",
       "      <td>135537049</td>\n",
       "    </tr>\n",
       "    <tr>\n",
       "      <th>844158</th>\n",
       "      <td>2019-02-20</td>\n",
       "      <td>2019</td>\n",
       "      <td>2</td>\n",
       "      <td>20</td>\n",
       "      <td>Wednesday</td>\n",
       "      <td>12:15:40 AM</td>\n",
       "      <td>00:15:40</td>\n",
       "      <td>0</td>\n",
       "      <td>Mid/Late Night</td>\n",
       "      <td>Birth Certificate Before 1910</td>\n",
       "      <td>0</td>\n",
       "      <td>Request for a birth certificate before 1910.</td>\n",
       "      <td>CSMS SR</td>\n",
       "      <td>DORIS</td>\n",
       "      <td>Department of Records and Information Services</td>\n",
       "      <td>135545254</td>\n",
       "    </tr>\n",
       "    <tr>\n",
       "      <th>4582167</th>\n",
       "      <td>2019-10-23</td>\n",
       "      <td>2019</td>\n",
       "      <td>10</td>\n",
       "      <td>23</td>\n",
       "      <td>Wednesday</td>\n",
       "      <td>12:59:15 AM</td>\n",
       "      <td>00:59:15</td>\n",
       "      <td>0</td>\n",
       "      <td>Mid/Late Night</td>\n",
       "      <td>Alarm</td>\n",
       "      <td>0</td>\n",
       "      <td>Report an alarm in progress or an alarm that g...</td>\n",
       "      <td>NaN</td>\n",
       "      <td>NaN</td>\n",
       "      <td>NaN</td>\n",
       "      <td>139393646</td>\n",
       "    </tr>\n",
       "  </tbody>\n",
       "</table>\n",
       "</div>"
      ],
      "text/plain": [
       "              date  year  month  calendar_day day_of_week         time  \\\n",
       "2597040 2019-06-10  2019      6            10      Monday  12:54:59 AM   \n",
       "844138  2019-02-20  2019      2            20   Wednesday  12:08:39 AM   \n",
       "844139  2019-02-20  2019      2            20   Wednesday  12:08:47 AM   \n",
       "844158  2019-02-20  2019      2            20   Wednesday  12:15:40 AM   \n",
       "4582167 2019-10-23  2019     10            23   Wednesday  12:59:15 AM   \n",
       "\n",
       "         time_24h  time_hour     time_of_day  \\\n",
       "2597040  00:54:59          0  Mid/Late Night   \n",
       "844138   00:08:39          0  Mid/Late Night   \n",
       "844139   00:08:47          0  Mid/Late Night   \n",
       "844158   00:15:40          0  Mid/Late Night   \n",
       "4582167  00:59:15          0  Mid/Late Night   \n",
       "\n",
       "                                              inquiry_name  complaint  \\\n",
       "2597040                     Bulk Item Disposal Information          0   \n",
       "844138                              Public School Calendar          0   \n",
       "844139   Status of Active Street or Sidewalk Constructi...          0   \n",
       "844158                       Birth Certificate Before 1910          0   \n",
       "4582167                                              Alarm          0   \n",
       "\n",
       "                                         brief_description  \\\n",
       "2597040  Learn about throwing away a large item that do...   \n",
       "844138          Calendar for New York City public schools.   \n",
       "844139   Request the status of an active street constru...   \n",
       "844158        Request for a birth certificate before 1910.   \n",
       "4582167  Report an alarm in progress or an alarm that g...   \n",
       "\n",
       "              call_resolution agency  \\\n",
       "2597040  Information Provided   DSNY   \n",
       "844138   Information Provided    DOE   \n",
       "844139     Routed to Web Page    DOT   \n",
       "844158                CSMS SR  DORIS   \n",
       "4582167                   NaN    NaN   \n",
       "\n",
       "                                            agency_name  unique_id  \n",
       "2597040                        Department of Sanitation  137354925  \n",
       "844138                          Department of Education  135539067  \n",
       "844139                     Department of Transportation  135537049  \n",
       "844158   Department of Records and Information Services  135545254  \n",
       "4582167                                             NaN  139393646  "
      ]
     },
     "execution_count": 99,
     "metadata": {},
     "output_type": "execute_result"
    }
   ],
   "source": [
    "organizedcomplaint_df = organizedcomplaint_df.sort_values(\"time_hour\")\n",
    "organizedcomplaint_df.head()"
   ]
  },
  {
   "cell_type": "markdown",
   "metadata": {},
   "source": [
    "# Creating Visualizations\n",
    "- We will be creating a variety of visualizations that illustrate the volume of calls, and the volume of complaints to the 311.\n",
    "- Two heatmaps represent the most popular times of complaint calls to the 311, based on hour of day, and period of day through binning methods."
   ]
  },
  {
   "cell_type": "code",
   "execution_count": 47,
   "metadata": {},
   "outputs": [],
   "source": [
    "import plotly.graph_objects as go"
   ]
  },
  {
   "cell_type": "code",
   "execution_count": 100,
   "metadata": {
    "scrolled": true
   },
   "outputs": [
    {
     "data": {
      "text/html": [
       "<div>\n",
       "<style scoped>\n",
       "    .dataframe tbody tr th:only-of-type {\n",
       "        vertical-align: middle;\n",
       "    }\n",
       "\n",
       "    .dataframe tbody tr th {\n",
       "        vertical-align: top;\n",
       "    }\n",
       "\n",
       "    .dataframe thead th {\n",
       "        text-align: right;\n",
       "    }\n",
       "</style>\n",
       "<table border=\"1\" class=\"dataframe\">\n",
       "  <thead>\n",
       "    <tr style=\"text-align: right;\">\n",
       "      <th></th>\n",
       "      <th>date</th>\n",
       "      <th>year</th>\n",
       "      <th>month</th>\n",
       "      <th>calendar_day</th>\n",
       "      <th>day_of_week</th>\n",
       "      <th>time</th>\n",
       "      <th>time_24h</th>\n",
       "      <th>time_hour</th>\n",
       "      <th>time_of_day</th>\n",
       "      <th>inquiry_name</th>\n",
       "      <th>complaint</th>\n",
       "      <th>brief_description</th>\n",
       "      <th>call_resolution</th>\n",
       "      <th>agency</th>\n",
       "      <th>agency_name</th>\n",
       "      <th>unique_id</th>\n",
       "    </tr>\n",
       "  </thead>\n",
       "  <tbody>\n",
       "    <tr>\n",
       "      <th>4582166</th>\n",
       "      <td>2019-10-23</td>\n",
       "      <td>2019</td>\n",
       "      <td>10</td>\n",
       "      <td>23</td>\n",
       "      <td>Wednesday</td>\n",
       "      <td>12:57:05 AM</td>\n",
       "      <td>00:57:05</td>\n",
       "      <td>0</td>\n",
       "      <td>Mid/Late Night</td>\n",
       "      <td>Taxi Complaint</td>\n",
       "      <td>1</td>\n",
       "      <td>Report a problem with a taxi driver or vehicle...</td>\n",
       "      <td>NaN</td>\n",
       "      <td>NaN</td>\n",
       "      <td>NaN</td>\n",
       "      <td>139394523</td>\n",
       "    </tr>\n",
       "    <tr>\n",
       "      <th>4420982</th>\n",
       "      <td>2019-10-11</td>\n",
       "      <td>2019</td>\n",
       "      <td>10</td>\n",
       "      <td>11</td>\n",
       "      <td>Friday</td>\n",
       "      <td>12:28:18 AM</td>\n",
       "      <td>00:28:18</td>\n",
       "      <td>0</td>\n",
       "      <td>Mid/Late Night</td>\n",
       "      <td>Heat or Hot Water Complaint in a Residential B...</td>\n",
       "      <td>1</td>\n",
       "      <td>Report a problem with heat or hot water in a r...</td>\n",
       "      <td>NaN</td>\n",
       "      <td>NaN</td>\n",
       "      <td>NaN</td>\n",
       "      <td>139225585</td>\n",
       "    </tr>\n",
       "    <tr>\n",
       "      <th>844161</th>\n",
       "      <td>2019-02-20</td>\n",
       "      <td>2019</td>\n",
       "      <td>2</td>\n",
       "      <td>20</td>\n",
       "      <td>Wednesday</td>\n",
       "      <td>12:15:57 AM</td>\n",
       "      <td>00:15:57</td>\n",
       "      <td>0</td>\n",
       "      <td>Mid/Late Night</td>\n",
       "      <td>Noise from Construction After Hours</td>\n",
       "      <td>1</td>\n",
       "      <td>Report noise from street or building construct...</td>\n",
       "      <td>Universal Intake SR</td>\n",
       "      <td>DEP</td>\n",
       "      <td>Department of Environmental Protection</td>\n",
       "      <td>135545953</td>\n",
       "    </tr>\n",
       "    <tr>\n",
       "      <th>844166</th>\n",
       "      <td>2019-02-20</td>\n",
       "      <td>2019</td>\n",
       "      <td>2</td>\n",
       "      <td>20</td>\n",
       "      <td>Wednesday</td>\n",
       "      <td>12:16:52 AM</td>\n",
       "      <td>00:16:52</td>\n",
       "      <td>0</td>\n",
       "      <td>Mid/Late Night</td>\n",
       "      <td>Heat or Hot Water Complaint in Apartment</td>\n",
       "      <td>1</td>\n",
       "      <td>Report inadequate heat in an apartment between...</td>\n",
       "      <td>Routed to Web Page</td>\n",
       "      <td>HPD</td>\n",
       "      <td>Department of Housing Preservation and Develop...</td>\n",
       "      <td>135533463</td>\n",
       "    </tr>\n",
       "    <tr>\n",
       "      <th>844167</th>\n",
       "      <td>2019-02-20</td>\n",
       "      <td>2019</td>\n",
       "      <td>2</td>\n",
       "      <td>20</td>\n",
       "      <td>Wednesday</td>\n",
       "      <td>12:16:53 AM</td>\n",
       "      <td>00:16:53</td>\n",
       "      <td>0</td>\n",
       "      <td>Mid/Late Night</td>\n",
       "      <td>Noise from Neighbor</td>\n",
       "      <td>1</td>\n",
       "      <td>Report a noisy neighbor.</td>\n",
       "      <td>CSMS SR</td>\n",
       "      <td>NYPD</td>\n",
       "      <td>New York City Police Department</td>\n",
       "      <td>135538202</td>\n",
       "    </tr>\n",
       "  </tbody>\n",
       "</table>\n",
       "</div>"
      ],
      "text/plain": [
       "              date  year  month  calendar_day day_of_week         time  \\\n",
       "4582166 2019-10-23  2019     10            23   Wednesday  12:57:05 AM   \n",
       "4420982 2019-10-11  2019     10            11      Friday  12:28:18 AM   \n",
       "844161  2019-02-20  2019      2            20   Wednesday  12:15:57 AM   \n",
       "844166  2019-02-20  2019      2            20   Wednesday  12:16:52 AM   \n",
       "844167  2019-02-20  2019      2            20   Wednesday  12:16:53 AM   \n",
       "\n",
       "         time_24h  time_hour     time_of_day  \\\n",
       "4582166  00:57:05          0  Mid/Late Night   \n",
       "4420982  00:28:18          0  Mid/Late Night   \n",
       "844161   00:15:57          0  Mid/Late Night   \n",
       "844166   00:16:52          0  Mid/Late Night   \n",
       "844167   00:16:53          0  Mid/Late Night   \n",
       "\n",
       "                                              inquiry_name  complaint  \\\n",
       "4582166                                     Taxi Complaint          1   \n",
       "4420982  Heat or Hot Water Complaint in a Residential B...          1   \n",
       "844161                 Noise from Construction After Hours          1   \n",
       "844166            Heat or Hot Water Complaint in Apartment          1   \n",
       "844167                                 Noise from Neighbor          1   \n",
       "\n",
       "                                         brief_description  \\\n",
       "4582166  Report a problem with a taxi driver or vehicle...   \n",
       "4420982  Report a problem with heat or hot water in a r...   \n",
       "844161   Report noise from street or building construct...   \n",
       "844166   Report inadequate heat in an apartment between...   \n",
       "844167                            Report a noisy neighbor.   \n",
       "\n",
       "             call_resolution agency  \\\n",
       "4582166                  NaN    NaN   \n",
       "4420982                  NaN    NaN   \n",
       "844161   Universal Intake SR    DEP   \n",
       "844166    Routed to Web Page    HPD   \n",
       "844167               CSMS SR   NYPD   \n",
       "\n",
       "                                               agency_name  unique_id  \n",
       "4582166                                                NaN  139394523  \n",
       "4420982                                                NaN  139225585  \n",
       "844161              Department of Environmental Protection  135545953  \n",
       "844166   Department of Housing Preservation and Develop...  135533463  \n",
       "844167                     New York City Police Department  135538202  "
      ]
     },
     "execution_count": 100,
     "metadata": {},
     "output_type": "execute_result"
    }
   ],
   "source": [
    "complaintcount_df = organizedcomplaint_df[organizedcomplaint_df[\"complaint\"]==1]\n",
    "complaintcount_df.head()"
   ]
  },
  {
   "cell_type": "code",
   "execution_count": 115,
   "metadata": {},
   "outputs": [],
   "source": [
    "midlatenight_df = complaintcount_df.loc[complaintcount_df[\"time_of_day\"] == \"Mid/Late Night\",:]\n",
    "midlatenight_ct = midlatenight_df[\"day_of_week\"].value_counts()\n",
    "\n",
    "earlymorn_df = complaintcount_df.loc[complaintcount_df[\"time_of_day\"] == \"Early Morning\",:]\n",
    "earlymorn_ct = earlymorn_df[\"day_of_week\"].value_counts()\n",
    "\n",
    "latemorn_df = complaintcount_df.loc[complaintcount_df[\"time_of_day\"] == \"Late Morning\",:]\n",
    "latemorn_ct = latemorn_df[\"day_of_week\"].value_counts()\n",
    "\n",
    "earlyaft_df = complaintcount_df.loc[complaintcount_df[\"time_of_day\"] == \"Noon/Early Afternoon\",:]\n",
    "earlyaft_ct = earlyaft_df[\"day_of_week\"].value_counts()\n",
    "\n",
    "evening_df = complaintcount_df.loc[complaintcount_df[\"time_of_day\"] == \"Late Afternoon/Evening\",:]\n",
    "evening_ct = evening_df[\"day_of_week\"].value_counts()\n",
    "\n",
    "night_df = complaintcount_df.loc[complaintcount_df[\"time_of_day\"] == \"Night\",:]\n",
    "night_ct = night_df[\"day_of_week\"].value_counts()"
   ]
  },
  {
   "cell_type": "code",
   "execution_count": 174,
   "metadata": {
    "scrolled": true
   },
   "outputs": [
    {
     "data": {
      "text/html": [
       "<div>\n",
       "<style scoped>\n",
       "    .dataframe tbody tr th:only-of-type {\n",
       "        vertical-align: middle;\n",
       "    }\n",
       "\n",
       "    .dataframe tbody tr th {\n",
       "        vertical-align: top;\n",
       "    }\n",
       "\n",
       "    .dataframe thead th {\n",
       "        text-align: right;\n",
       "    }\n",
       "</style>\n",
       "<table border=\"1\" class=\"dataframe\">\n",
       "  <thead>\n",
       "    <tr style=\"text-align: right;\">\n",
       "      <th></th>\n",
       "      <th>Mid/Late Night</th>\n",
       "      <th>Early Morning</th>\n",
       "      <th>Late Morning</th>\n",
       "      <th>Noon/Early Afternoon</th>\n",
       "      <th>Late Afternoon/Evening</th>\n",
       "      <th>Night</th>\n",
       "    </tr>\n",
       "  </thead>\n",
       "  <tbody>\n",
       "    <tr>\n",
       "      <th>Monday</th>\n",
       "      <td>10659</td>\n",
       "      <td>18161</td>\n",
       "      <td>51280</td>\n",
       "      <td>45871</td>\n",
       "      <td>30395</td>\n",
       "      <td>17305</td>\n",
       "    </tr>\n",
       "    <tr>\n",
       "      <th>Tuesday</th>\n",
       "      <td>9793</td>\n",
       "      <td>18786</td>\n",
       "      <td>53042</td>\n",
       "      <td>45837</td>\n",
       "      <td>30726</td>\n",
       "      <td>16890</td>\n",
       "    </tr>\n",
       "    <tr>\n",
       "      <th>Wednesday</th>\n",
       "      <td>9649</td>\n",
       "      <td>18212</td>\n",
       "      <td>48995</td>\n",
       "      <td>43132</td>\n",
       "      <td>30036</td>\n",
       "      <td>17454</td>\n",
       "    </tr>\n",
       "    <tr>\n",
       "      <th>Thursday</th>\n",
       "      <td>9935</td>\n",
       "      <td>18770</td>\n",
       "      <td>48922</td>\n",
       "      <td>42751</td>\n",
       "      <td>29384</td>\n",
       "      <td>17510</td>\n",
       "    </tr>\n",
       "    <tr>\n",
       "      <th>Friday</th>\n",
       "      <td>10997</td>\n",
       "      <td>17662</td>\n",
       "      <td>47531</td>\n",
       "      <td>41676</td>\n",
       "      <td>27958</td>\n",
       "      <td>19244</td>\n",
       "    </tr>\n",
       "    <tr>\n",
       "      <th>Saturday</th>\n",
       "      <td>15932</td>\n",
       "      <td>12863</td>\n",
       "      <td>31867</td>\n",
       "      <td>27834</td>\n",
       "      <td>25986</td>\n",
       "      <td>24038</td>\n",
       "    </tr>\n",
       "    <tr>\n",
       "      <th>Sunday</th>\n",
       "      <td>22192</td>\n",
       "      <td>10215</td>\n",
       "      <td>24191</td>\n",
       "      <td>23480</td>\n",
       "      <td>23770</td>\n",
       "      <td>17921</td>\n",
       "    </tr>\n",
       "  </tbody>\n",
       "</table>\n",
       "</div>"
      ],
      "text/plain": [
       "           Mid/Late Night  Early Morning  Late Morning  Noon/Early Afternoon  \\\n",
       "Monday              10659          18161         51280                 45871   \n",
       "Tuesday              9793          18786         53042                 45837   \n",
       "Wednesday            9649          18212         48995                 43132   \n",
       "Thursday             9935          18770         48922                 42751   \n",
       "Friday              10997          17662         47531                 41676   \n",
       "Saturday            15932          12863         31867                 27834   \n",
       "Sunday              22192          10215         24191                 23480   \n",
       "\n",
       "           Late Afternoon/Evening  Night  \n",
       "Monday                      30395  17305  \n",
       "Tuesday                     30726  16890  \n",
       "Wednesday                   30036  17454  \n",
       "Thursday                    29384  17510  \n",
       "Friday                      27958  19244  \n",
       "Saturday                    25986  24038  \n",
       "Sunday                      23770  17921  "
      ]
     },
     "execution_count": 174,
     "metadata": {},
     "output_type": "execute_result"
    }
   ],
   "source": [
    "index = ['Monday', 'Tuesday', 'Wednesday', 'Thursday', 'Friday', 'Saturday', 'Sunday']\n",
    "timeanddayct_df = pd.DataFrame({\"Mid/Late Night\" : midlatenight_ct,\n",
    "                                \"Early Morning\" : earlymorn_ct,\n",
    "                                \"Late Morning\" : latemorn_ct,\n",
    "                                \"Noon/Early Afternoon\" : earlyaft_ct,\n",
    "                                \"Late Afternoon/Evening\" : evening_ct,\n",
    "                                \"Night\" : night_ct}, index=index)\n",
    "timeanddayct_df"
   ]
  },
  {
   "cell_type": "code",
   "execution_count": 175,
   "metadata": {
    "scrolled": true
   },
   "outputs": [
    {
     "data": {
      "text/plain": [
       "array(['Monday', 'Tuesday', 'Wednesday', 'Thursday', 'Friday', 'Saturday',\n",
       "       'Sunday'], dtype=object)"
      ]
     },
     "execution_count": 175,
     "metadata": {},
     "output_type": "execute_result"
    }
   ],
   "source": [
    "periodarray = timeanddayct_df.values\n",
    "periodarray\n",
    "perioddayindex = houranddayct_df.index.values\n",
    "perioddayindex"
   ]
  },
  {
   "cell_type": "code",
   "execution_count": 181,
   "metadata": {},
   "outputs": [
    {
     "data": {
      "application/vnd.plotly.v1+json": {
       "config": {
        "plotlyServerURL": "https://plot.ly"
       },
       "data": [
        {
         "colorscale": [
          [
           0,
           "rgb(209, 238, 234)"
          ],
          [
           0.16666666666666666,
           "rgb(168, 219, 217)"
          ],
          [
           0.3333333333333333,
           "rgb(133, 196, 201)"
          ],
          [
           0.5,
           "rgb(104, 171, 184)"
          ],
          [
           0.6666666666666666,
           "rgb(79, 144, 166)"
          ],
          [
           0.8333333333333334,
           "rgb(59, 115, 143)"
          ],
          [
           1,
           "rgb(42, 86, 116)"
          ]
         ],
         "opacity": 1,
         "type": "heatmap",
         "x": [
          "Mid/Late Night",
          "Early Morning",
          "Late Morning",
          "Noon/Early Afternoon",
          "Late Afternoon/Evening",
          "Night"
         ],
         "y": [
          "Monday",
          "Tuesday",
          "Wednesday",
          "Thursday",
          "Friday",
          "Saturday",
          "Sunday"
         ],
         "z": [
          [
           10659,
           18161,
           51280,
           45871,
           30395,
           17305
          ],
          [
           9793,
           18786,
           53042,
           45837,
           30726,
           16890
          ],
          [
           9649,
           18212,
           48995,
           43132,
           30036,
           17454
          ],
          [
           9935,
           18770,
           48922,
           42751,
           29384,
           17510
          ],
          [
           10997,
           17662,
           47531,
           41676,
           27958,
           19244
          ],
          [
           15932,
           12863,
           31867,
           27834,
           25986,
           24038
          ],
          [
           22192,
           10215,
           24191,
           23480,
           23770,
           17921
          ]
         ]
        }
       ],
       "layout": {
        "template": {
         "data": {
          "bar": [
           {
            "error_x": {
             "color": "#2a3f5f"
            },
            "error_y": {
             "color": "#2a3f5f"
            },
            "marker": {
             "line": {
              "color": "#E5ECF6",
              "width": 0.5
             }
            },
            "type": "bar"
           }
          ],
          "barpolar": [
           {
            "marker": {
             "line": {
              "color": "#E5ECF6",
              "width": 0.5
             }
            },
            "type": "barpolar"
           }
          ],
          "carpet": [
           {
            "aaxis": {
             "endlinecolor": "#2a3f5f",
             "gridcolor": "white",
             "linecolor": "white",
             "minorgridcolor": "white",
             "startlinecolor": "#2a3f5f"
            },
            "baxis": {
             "endlinecolor": "#2a3f5f",
             "gridcolor": "white",
             "linecolor": "white",
             "minorgridcolor": "white",
             "startlinecolor": "#2a3f5f"
            },
            "type": "carpet"
           }
          ],
          "choropleth": [
           {
            "colorbar": {
             "outlinewidth": 0,
             "ticks": ""
            },
            "type": "choropleth"
           }
          ],
          "contour": [
           {
            "colorbar": {
             "outlinewidth": 0,
             "ticks": ""
            },
            "colorscale": [
             [
              0,
              "#0d0887"
             ],
             [
              0.1111111111111111,
              "#46039f"
             ],
             [
              0.2222222222222222,
              "#7201a8"
             ],
             [
              0.3333333333333333,
              "#9c179e"
             ],
             [
              0.4444444444444444,
              "#bd3786"
             ],
             [
              0.5555555555555556,
              "#d8576b"
             ],
             [
              0.6666666666666666,
              "#ed7953"
             ],
             [
              0.7777777777777778,
              "#fb9f3a"
             ],
             [
              0.8888888888888888,
              "#fdca26"
             ],
             [
              1,
              "#f0f921"
             ]
            ],
            "type": "contour"
           }
          ],
          "contourcarpet": [
           {
            "colorbar": {
             "outlinewidth": 0,
             "ticks": ""
            },
            "type": "contourcarpet"
           }
          ],
          "heatmap": [
           {
            "colorbar": {
             "outlinewidth": 0,
             "ticks": ""
            },
            "colorscale": [
             [
              0,
              "#0d0887"
             ],
             [
              0.1111111111111111,
              "#46039f"
             ],
             [
              0.2222222222222222,
              "#7201a8"
             ],
             [
              0.3333333333333333,
              "#9c179e"
             ],
             [
              0.4444444444444444,
              "#bd3786"
             ],
             [
              0.5555555555555556,
              "#d8576b"
             ],
             [
              0.6666666666666666,
              "#ed7953"
             ],
             [
              0.7777777777777778,
              "#fb9f3a"
             ],
             [
              0.8888888888888888,
              "#fdca26"
             ],
             [
              1,
              "#f0f921"
             ]
            ],
            "type": "heatmap"
           }
          ],
          "heatmapgl": [
           {
            "colorbar": {
             "outlinewidth": 0,
             "ticks": ""
            },
            "colorscale": [
             [
              0,
              "#0d0887"
             ],
             [
              0.1111111111111111,
              "#46039f"
             ],
             [
              0.2222222222222222,
              "#7201a8"
             ],
             [
              0.3333333333333333,
              "#9c179e"
             ],
             [
              0.4444444444444444,
              "#bd3786"
             ],
             [
              0.5555555555555556,
              "#d8576b"
             ],
             [
              0.6666666666666666,
              "#ed7953"
             ],
             [
              0.7777777777777778,
              "#fb9f3a"
             ],
             [
              0.8888888888888888,
              "#fdca26"
             ],
             [
              1,
              "#f0f921"
             ]
            ],
            "type": "heatmapgl"
           }
          ],
          "histogram": [
           {
            "marker": {
             "colorbar": {
              "outlinewidth": 0,
              "ticks": ""
             }
            },
            "type": "histogram"
           }
          ],
          "histogram2d": [
           {
            "colorbar": {
             "outlinewidth": 0,
             "ticks": ""
            },
            "colorscale": [
             [
              0,
              "#0d0887"
             ],
             [
              0.1111111111111111,
              "#46039f"
             ],
             [
              0.2222222222222222,
              "#7201a8"
             ],
             [
              0.3333333333333333,
              "#9c179e"
             ],
             [
              0.4444444444444444,
              "#bd3786"
             ],
             [
              0.5555555555555556,
              "#d8576b"
             ],
             [
              0.6666666666666666,
              "#ed7953"
             ],
             [
              0.7777777777777778,
              "#fb9f3a"
             ],
             [
              0.8888888888888888,
              "#fdca26"
             ],
             [
              1,
              "#f0f921"
             ]
            ],
            "type": "histogram2d"
           }
          ],
          "histogram2dcontour": [
           {
            "colorbar": {
             "outlinewidth": 0,
             "ticks": ""
            },
            "colorscale": [
             [
              0,
              "#0d0887"
             ],
             [
              0.1111111111111111,
              "#46039f"
             ],
             [
              0.2222222222222222,
              "#7201a8"
             ],
             [
              0.3333333333333333,
              "#9c179e"
             ],
             [
              0.4444444444444444,
              "#bd3786"
             ],
             [
              0.5555555555555556,
              "#d8576b"
             ],
             [
              0.6666666666666666,
              "#ed7953"
             ],
             [
              0.7777777777777778,
              "#fb9f3a"
             ],
             [
              0.8888888888888888,
              "#fdca26"
             ],
             [
              1,
              "#f0f921"
             ]
            ],
            "type": "histogram2dcontour"
           }
          ],
          "mesh3d": [
           {
            "colorbar": {
             "outlinewidth": 0,
             "ticks": ""
            },
            "type": "mesh3d"
           }
          ],
          "parcoords": [
           {
            "line": {
             "colorbar": {
              "outlinewidth": 0,
              "ticks": ""
             }
            },
            "type": "parcoords"
           }
          ],
          "scatter": [
           {
            "marker": {
             "colorbar": {
              "outlinewidth": 0,
              "ticks": ""
             }
            },
            "type": "scatter"
           }
          ],
          "scatter3d": [
           {
            "line": {
             "colorbar": {
              "outlinewidth": 0,
              "ticks": ""
             }
            },
            "marker": {
             "colorbar": {
              "outlinewidth": 0,
              "ticks": ""
             }
            },
            "type": "scatter3d"
           }
          ],
          "scattercarpet": [
           {
            "marker": {
             "colorbar": {
              "outlinewidth": 0,
              "ticks": ""
             }
            },
            "type": "scattercarpet"
           }
          ],
          "scattergeo": [
           {
            "marker": {
             "colorbar": {
              "outlinewidth": 0,
              "ticks": ""
             }
            },
            "type": "scattergeo"
           }
          ],
          "scattergl": [
           {
            "marker": {
             "colorbar": {
              "outlinewidth": 0,
              "ticks": ""
             }
            },
            "type": "scattergl"
           }
          ],
          "scattermapbox": [
           {
            "marker": {
             "colorbar": {
              "outlinewidth": 0,
              "ticks": ""
             }
            },
            "type": "scattermapbox"
           }
          ],
          "scatterpolar": [
           {
            "marker": {
             "colorbar": {
              "outlinewidth": 0,
              "ticks": ""
             }
            },
            "type": "scatterpolar"
           }
          ],
          "scatterpolargl": [
           {
            "marker": {
             "colorbar": {
              "outlinewidth": 0,
              "ticks": ""
             }
            },
            "type": "scatterpolargl"
           }
          ],
          "scatterternary": [
           {
            "marker": {
             "colorbar": {
              "outlinewidth": 0,
              "ticks": ""
             }
            },
            "type": "scatterternary"
           }
          ],
          "surface": [
           {
            "colorbar": {
             "outlinewidth": 0,
             "ticks": ""
            },
            "colorscale": [
             [
              0,
              "#0d0887"
             ],
             [
              0.1111111111111111,
              "#46039f"
             ],
             [
              0.2222222222222222,
              "#7201a8"
             ],
             [
              0.3333333333333333,
              "#9c179e"
             ],
             [
              0.4444444444444444,
              "#bd3786"
             ],
             [
              0.5555555555555556,
              "#d8576b"
             ],
             [
              0.6666666666666666,
              "#ed7953"
             ],
             [
              0.7777777777777778,
              "#fb9f3a"
             ],
             [
              0.8888888888888888,
              "#fdca26"
             ],
             [
              1,
              "#f0f921"
             ]
            ],
            "type": "surface"
           }
          ],
          "table": [
           {
            "cells": {
             "fill": {
              "color": "#EBF0F8"
             },
             "line": {
              "color": "white"
             }
            },
            "header": {
             "fill": {
              "color": "#C8D4E3"
             },
             "line": {
              "color": "white"
             }
            },
            "type": "table"
           }
          ]
         },
         "layout": {
          "annotationdefaults": {
           "arrowcolor": "#2a3f5f",
           "arrowhead": 0,
           "arrowwidth": 1
          },
          "colorscale": {
           "diverging": [
            [
             0,
             "#8e0152"
            ],
            [
             0.1,
             "#c51b7d"
            ],
            [
             0.2,
             "#de77ae"
            ],
            [
             0.3,
             "#f1b6da"
            ],
            [
             0.4,
             "#fde0ef"
            ],
            [
             0.5,
             "#f7f7f7"
            ],
            [
             0.6,
             "#e6f5d0"
            ],
            [
             0.7,
             "#b8e186"
            ],
            [
             0.8,
             "#7fbc41"
            ],
            [
             0.9,
             "#4d9221"
            ],
            [
             1,
             "#276419"
            ]
           ],
           "sequential": [
            [
             0,
             "#0d0887"
            ],
            [
             0.1111111111111111,
             "#46039f"
            ],
            [
             0.2222222222222222,
             "#7201a8"
            ],
            [
             0.3333333333333333,
             "#9c179e"
            ],
            [
             0.4444444444444444,
             "#bd3786"
            ],
            [
             0.5555555555555556,
             "#d8576b"
            ],
            [
             0.6666666666666666,
             "#ed7953"
            ],
            [
             0.7777777777777778,
             "#fb9f3a"
            ],
            [
             0.8888888888888888,
             "#fdca26"
            ],
            [
             1,
             "#f0f921"
            ]
           ],
           "sequentialminus": [
            [
             0,
             "#0d0887"
            ],
            [
             0.1111111111111111,
             "#46039f"
            ],
            [
             0.2222222222222222,
             "#7201a8"
            ],
            [
             0.3333333333333333,
             "#9c179e"
            ],
            [
             0.4444444444444444,
             "#bd3786"
            ],
            [
             0.5555555555555556,
             "#d8576b"
            ],
            [
             0.6666666666666666,
             "#ed7953"
            ],
            [
             0.7777777777777778,
             "#fb9f3a"
            ],
            [
             0.8888888888888888,
             "#fdca26"
            ],
            [
             1,
             "#f0f921"
            ]
           ]
          },
          "colorway": [
           "#636efa",
           "#EF553B",
           "#00cc96",
           "#ab63fa",
           "#FFA15A",
           "#19d3f3",
           "#FF6692",
           "#B6E880",
           "#FF97FF",
           "#FECB52"
          ],
          "font": {
           "color": "#2a3f5f"
          },
          "geo": {
           "bgcolor": "white",
           "lakecolor": "white",
           "landcolor": "#E5ECF6",
           "showlakes": true,
           "showland": true,
           "subunitcolor": "white"
          },
          "hoverlabel": {
           "align": "left"
          },
          "hovermode": "closest",
          "mapbox": {
           "style": "light"
          },
          "paper_bgcolor": "white",
          "plot_bgcolor": "#E5ECF6",
          "polar": {
           "angularaxis": {
            "gridcolor": "white",
            "linecolor": "white",
            "ticks": ""
           },
           "bgcolor": "#E5ECF6",
           "radialaxis": {
            "gridcolor": "white",
            "linecolor": "white",
            "ticks": ""
           }
          },
          "scene": {
           "xaxis": {
            "backgroundcolor": "#E5ECF6",
            "gridcolor": "white",
            "gridwidth": 2,
            "linecolor": "white",
            "showbackground": true,
            "ticks": "",
            "zerolinecolor": "white"
           },
           "yaxis": {
            "backgroundcolor": "#E5ECF6",
            "gridcolor": "white",
            "gridwidth": 2,
            "linecolor": "white",
            "showbackground": true,
            "ticks": "",
            "zerolinecolor": "white"
           },
           "zaxis": {
            "backgroundcolor": "#E5ECF6",
            "gridcolor": "white",
            "gridwidth": 2,
            "linecolor": "white",
            "showbackground": true,
            "ticks": "",
            "zerolinecolor": "white"
           }
          },
          "shapedefaults": {
           "line": {
            "color": "#2a3f5f"
           }
          },
          "ternary": {
           "aaxis": {
            "gridcolor": "white",
            "linecolor": "white",
            "ticks": ""
           },
           "baxis": {
            "gridcolor": "white",
            "linecolor": "white",
            "ticks": ""
           },
           "bgcolor": "#E5ECF6",
           "caxis": {
            "gridcolor": "white",
            "linecolor": "white",
            "ticks": ""
           }
          },
          "title": {
           "x": 0.05
          },
          "xaxis": {
           "automargin": true,
           "gridcolor": "white",
           "linecolor": "white",
           "ticks": "",
           "zerolinecolor": "white",
           "zerolinewidth": 2
          },
          "yaxis": {
           "automargin": true,
           "gridcolor": "white",
           "linecolor": "white",
           "ticks": "",
           "zerolinecolor": "white",
           "zerolinewidth": 2
          }
         }
        },
        "title": {
         "text": "311 Complaint Calls by Day and Period of Day"
        },
        "xaxis": {
         "title": {
          "text": "Period of Day"
         }
        },
        "yaxis": {
         "title": {
          "text": "Day of Week"
         }
        }
       }
      },
      "text/html": [
       "<div>\n",
       "        \n",
       "        \n",
       "            <div id=\"ea51e262-0903-4d78-96e5-30d4cdfe3ab8\" class=\"plotly-graph-div\" style=\"height:525px; width:100%;\"></div>\n",
       "            <script type=\"text/javascript\">\n",
       "                require([\"plotly\"], function(Plotly) {\n",
       "                    window.PLOTLYENV=window.PLOTLYENV || {};\n",
       "                    \n",
       "                if (document.getElementById(\"ea51e262-0903-4d78-96e5-30d4cdfe3ab8\")) {\n",
       "                    Plotly.newPlot(\n",
       "                        'ea51e262-0903-4d78-96e5-30d4cdfe3ab8',\n",
       "                        [{\"colorscale\": [[0.0, \"rgb(209, 238, 234)\"], [0.16666666666666666, \"rgb(168, 219, 217)\"], [0.3333333333333333, \"rgb(133, 196, 201)\"], [0.5, \"rgb(104, 171, 184)\"], [0.6666666666666666, \"rgb(79, 144, 166)\"], [0.8333333333333334, \"rgb(59, 115, 143)\"], [1.0, \"rgb(42, 86, 116)\"]], \"opacity\": 1, \"type\": \"heatmap\", \"x\": [\"Mid/Late Night\", \"Early Morning\", \"Late Morning\", \"Noon/Early Afternoon\", \"Late Afternoon/Evening\", \"Night\"], \"y\": [\"Monday\", \"Tuesday\", \"Wednesday\", \"Thursday\", \"Friday\", \"Saturday\", \"Sunday\"], \"z\": [[10659, 18161, 51280, 45871, 30395, 17305], [9793, 18786, 53042, 45837, 30726, 16890], [9649, 18212, 48995, 43132, 30036, 17454], [9935, 18770, 48922, 42751, 29384, 17510], [10997, 17662, 47531, 41676, 27958, 19244], [15932, 12863, 31867, 27834, 25986, 24038], [22192, 10215, 24191, 23480, 23770, 17921]]}],\n",
       "                        {\"template\": {\"data\": {\"bar\": [{\"error_x\": {\"color\": \"#2a3f5f\"}, \"error_y\": {\"color\": \"#2a3f5f\"}, \"marker\": {\"line\": {\"color\": \"#E5ECF6\", \"width\": 0.5}}, \"type\": \"bar\"}], \"barpolar\": [{\"marker\": {\"line\": {\"color\": \"#E5ECF6\", \"width\": 0.5}}, \"type\": \"barpolar\"}], \"carpet\": [{\"aaxis\": {\"endlinecolor\": \"#2a3f5f\", \"gridcolor\": \"white\", \"linecolor\": \"white\", \"minorgridcolor\": \"white\", \"startlinecolor\": \"#2a3f5f\"}, \"baxis\": {\"endlinecolor\": \"#2a3f5f\", \"gridcolor\": \"white\", \"linecolor\": \"white\", \"minorgridcolor\": \"white\", \"startlinecolor\": \"#2a3f5f\"}, \"type\": \"carpet\"}], \"choropleth\": [{\"colorbar\": {\"outlinewidth\": 0, \"ticks\": \"\"}, \"type\": \"choropleth\"}], \"contour\": [{\"colorbar\": {\"outlinewidth\": 0, \"ticks\": \"\"}, \"colorscale\": [[0.0, \"#0d0887\"], [0.1111111111111111, \"#46039f\"], [0.2222222222222222, \"#7201a8\"], [0.3333333333333333, \"#9c179e\"], [0.4444444444444444, \"#bd3786\"], [0.5555555555555556, \"#d8576b\"], [0.6666666666666666, \"#ed7953\"], [0.7777777777777778, \"#fb9f3a\"], [0.8888888888888888, \"#fdca26\"], [1.0, \"#f0f921\"]], \"type\": \"contour\"}], \"contourcarpet\": [{\"colorbar\": {\"outlinewidth\": 0, \"ticks\": \"\"}, \"type\": \"contourcarpet\"}], \"heatmap\": [{\"colorbar\": {\"outlinewidth\": 0, \"ticks\": \"\"}, \"colorscale\": [[0.0, \"#0d0887\"], [0.1111111111111111, \"#46039f\"], [0.2222222222222222, \"#7201a8\"], [0.3333333333333333, \"#9c179e\"], [0.4444444444444444, \"#bd3786\"], [0.5555555555555556, \"#d8576b\"], [0.6666666666666666, \"#ed7953\"], [0.7777777777777778, \"#fb9f3a\"], [0.8888888888888888, \"#fdca26\"], [1.0, \"#f0f921\"]], \"type\": \"heatmap\"}], \"heatmapgl\": [{\"colorbar\": {\"outlinewidth\": 0, \"ticks\": \"\"}, \"colorscale\": [[0.0, \"#0d0887\"], [0.1111111111111111, \"#46039f\"], [0.2222222222222222, \"#7201a8\"], [0.3333333333333333, \"#9c179e\"], [0.4444444444444444, \"#bd3786\"], [0.5555555555555556, \"#d8576b\"], [0.6666666666666666, \"#ed7953\"], [0.7777777777777778, \"#fb9f3a\"], [0.8888888888888888, \"#fdca26\"], [1.0, \"#f0f921\"]], \"type\": \"heatmapgl\"}], \"histogram\": [{\"marker\": {\"colorbar\": {\"outlinewidth\": 0, \"ticks\": \"\"}}, \"type\": \"histogram\"}], \"histogram2d\": [{\"colorbar\": {\"outlinewidth\": 0, \"ticks\": \"\"}, \"colorscale\": [[0.0, \"#0d0887\"], [0.1111111111111111, \"#46039f\"], [0.2222222222222222, \"#7201a8\"], [0.3333333333333333, \"#9c179e\"], [0.4444444444444444, \"#bd3786\"], [0.5555555555555556, \"#d8576b\"], [0.6666666666666666, \"#ed7953\"], [0.7777777777777778, \"#fb9f3a\"], [0.8888888888888888, \"#fdca26\"], [1.0, \"#f0f921\"]], \"type\": \"histogram2d\"}], \"histogram2dcontour\": [{\"colorbar\": {\"outlinewidth\": 0, \"ticks\": \"\"}, \"colorscale\": [[0.0, \"#0d0887\"], [0.1111111111111111, \"#46039f\"], [0.2222222222222222, \"#7201a8\"], [0.3333333333333333, \"#9c179e\"], [0.4444444444444444, \"#bd3786\"], [0.5555555555555556, \"#d8576b\"], [0.6666666666666666, \"#ed7953\"], [0.7777777777777778, \"#fb9f3a\"], [0.8888888888888888, \"#fdca26\"], [1.0, \"#f0f921\"]], \"type\": \"histogram2dcontour\"}], \"mesh3d\": [{\"colorbar\": {\"outlinewidth\": 0, \"ticks\": \"\"}, \"type\": \"mesh3d\"}], \"parcoords\": [{\"line\": {\"colorbar\": {\"outlinewidth\": 0, \"ticks\": \"\"}}, \"type\": \"parcoords\"}], \"scatter\": [{\"marker\": {\"colorbar\": {\"outlinewidth\": 0, \"ticks\": \"\"}}, \"type\": \"scatter\"}], \"scatter3d\": [{\"line\": {\"colorbar\": {\"outlinewidth\": 0, \"ticks\": \"\"}}, \"marker\": {\"colorbar\": {\"outlinewidth\": 0, \"ticks\": \"\"}}, \"type\": \"scatter3d\"}], \"scattercarpet\": [{\"marker\": {\"colorbar\": {\"outlinewidth\": 0, \"ticks\": \"\"}}, \"type\": \"scattercarpet\"}], \"scattergeo\": [{\"marker\": {\"colorbar\": {\"outlinewidth\": 0, \"ticks\": \"\"}}, \"type\": \"scattergeo\"}], \"scattergl\": [{\"marker\": {\"colorbar\": {\"outlinewidth\": 0, \"ticks\": \"\"}}, \"type\": \"scattergl\"}], \"scattermapbox\": [{\"marker\": {\"colorbar\": {\"outlinewidth\": 0, \"ticks\": \"\"}}, \"type\": \"scattermapbox\"}], \"scatterpolar\": [{\"marker\": {\"colorbar\": {\"outlinewidth\": 0, \"ticks\": \"\"}}, \"type\": \"scatterpolar\"}], \"scatterpolargl\": [{\"marker\": {\"colorbar\": {\"outlinewidth\": 0, \"ticks\": \"\"}}, \"type\": \"scatterpolargl\"}], \"scatterternary\": [{\"marker\": {\"colorbar\": {\"outlinewidth\": 0, \"ticks\": \"\"}}, \"type\": \"scatterternary\"}], \"surface\": [{\"colorbar\": {\"outlinewidth\": 0, \"ticks\": \"\"}, \"colorscale\": [[0.0, \"#0d0887\"], [0.1111111111111111, \"#46039f\"], [0.2222222222222222, \"#7201a8\"], [0.3333333333333333, \"#9c179e\"], [0.4444444444444444, \"#bd3786\"], [0.5555555555555556, \"#d8576b\"], [0.6666666666666666, \"#ed7953\"], [0.7777777777777778, \"#fb9f3a\"], [0.8888888888888888, \"#fdca26\"], [1.0, \"#f0f921\"]], \"type\": \"surface\"}], \"table\": [{\"cells\": {\"fill\": {\"color\": \"#EBF0F8\"}, \"line\": {\"color\": \"white\"}}, \"header\": {\"fill\": {\"color\": \"#C8D4E3\"}, \"line\": {\"color\": \"white\"}}, \"type\": \"table\"}]}, \"layout\": {\"annotationdefaults\": {\"arrowcolor\": \"#2a3f5f\", \"arrowhead\": 0, \"arrowwidth\": 1}, \"colorscale\": {\"diverging\": [[0, \"#8e0152\"], [0.1, \"#c51b7d\"], [0.2, \"#de77ae\"], [0.3, \"#f1b6da\"], [0.4, \"#fde0ef\"], [0.5, \"#f7f7f7\"], [0.6, \"#e6f5d0\"], [0.7, \"#b8e186\"], [0.8, \"#7fbc41\"], [0.9, \"#4d9221\"], [1, \"#276419\"]], \"sequential\": [[0.0, \"#0d0887\"], [0.1111111111111111, \"#46039f\"], [0.2222222222222222, \"#7201a8\"], [0.3333333333333333, \"#9c179e\"], [0.4444444444444444, \"#bd3786\"], [0.5555555555555556, \"#d8576b\"], [0.6666666666666666, \"#ed7953\"], [0.7777777777777778, \"#fb9f3a\"], [0.8888888888888888, \"#fdca26\"], [1.0, \"#f0f921\"]], \"sequentialminus\": [[0.0, \"#0d0887\"], [0.1111111111111111, \"#46039f\"], [0.2222222222222222, \"#7201a8\"], [0.3333333333333333, \"#9c179e\"], [0.4444444444444444, \"#bd3786\"], [0.5555555555555556, \"#d8576b\"], [0.6666666666666666, \"#ed7953\"], [0.7777777777777778, \"#fb9f3a\"], [0.8888888888888888, \"#fdca26\"], [1.0, \"#f0f921\"]]}, \"colorway\": [\"#636efa\", \"#EF553B\", \"#00cc96\", \"#ab63fa\", \"#FFA15A\", \"#19d3f3\", \"#FF6692\", \"#B6E880\", \"#FF97FF\", \"#FECB52\"], \"font\": {\"color\": \"#2a3f5f\"}, \"geo\": {\"bgcolor\": \"white\", \"lakecolor\": \"white\", \"landcolor\": \"#E5ECF6\", \"showlakes\": true, \"showland\": true, \"subunitcolor\": \"white\"}, \"hoverlabel\": {\"align\": \"left\"}, \"hovermode\": \"closest\", \"mapbox\": {\"style\": \"light\"}, \"paper_bgcolor\": \"white\", \"plot_bgcolor\": \"#E5ECF6\", \"polar\": {\"angularaxis\": {\"gridcolor\": \"white\", \"linecolor\": \"white\", \"ticks\": \"\"}, \"bgcolor\": \"#E5ECF6\", \"radialaxis\": {\"gridcolor\": \"white\", \"linecolor\": \"white\", \"ticks\": \"\"}}, \"scene\": {\"xaxis\": {\"backgroundcolor\": \"#E5ECF6\", \"gridcolor\": \"white\", \"gridwidth\": 2, \"linecolor\": \"white\", \"showbackground\": true, \"ticks\": \"\", \"zerolinecolor\": \"white\"}, \"yaxis\": {\"backgroundcolor\": \"#E5ECF6\", \"gridcolor\": \"white\", \"gridwidth\": 2, \"linecolor\": \"white\", \"showbackground\": true, \"ticks\": \"\", \"zerolinecolor\": \"white\"}, \"zaxis\": {\"backgroundcolor\": \"#E5ECF6\", \"gridcolor\": \"white\", \"gridwidth\": 2, \"linecolor\": \"white\", \"showbackground\": true, \"ticks\": \"\", \"zerolinecolor\": \"white\"}}, \"shapedefaults\": {\"line\": {\"color\": \"#2a3f5f\"}}, \"ternary\": {\"aaxis\": {\"gridcolor\": \"white\", \"linecolor\": \"white\", \"ticks\": \"\"}, \"baxis\": {\"gridcolor\": \"white\", \"linecolor\": \"white\", \"ticks\": \"\"}, \"bgcolor\": \"#E5ECF6\", \"caxis\": {\"gridcolor\": \"white\", \"linecolor\": \"white\", \"ticks\": \"\"}}, \"title\": {\"x\": 0.05}, \"xaxis\": {\"automargin\": true, \"gridcolor\": \"white\", \"linecolor\": \"white\", \"ticks\": \"\", \"zerolinecolor\": \"white\", \"zerolinewidth\": 2}, \"yaxis\": {\"automargin\": true, \"gridcolor\": \"white\", \"linecolor\": \"white\", \"ticks\": \"\", \"zerolinecolor\": \"white\", \"zerolinewidth\": 2}}}, \"title\": {\"text\": \"311 Complaint Calls by Day and Period of Day\"}, \"xaxis\": {\"title\": {\"text\": \"Period of Day\"}}, \"yaxis\": {\"title\": {\"text\": \"Day of Week\"}}},\n",
       "                        {\"responsive\": true}\n",
       "                    ).then(function(){\n",
       "                            \n",
       "var gd = document.getElementById('ea51e262-0903-4d78-96e5-30d4cdfe3ab8');\n",
       "var x = new MutationObserver(function (mutations, observer) {{\n",
       "        var display = window.getComputedStyle(gd).display;\n",
       "        if (!display || display === 'none') {{\n",
       "            console.log([gd, 'removed!']);\n",
       "            Plotly.purge(gd);\n",
       "            observer.disconnect();\n",
       "        }}\n",
       "}});\n",
       "\n",
       "// Listen for the removal of the full notebook cells\n",
       "var notebookContainer = gd.closest('#notebook-container');\n",
       "if (notebookContainer) {{\n",
       "    x.observe(notebookContainer, {childList: true});\n",
       "}}\n",
       "\n",
       "// Listen for the clearing of the current output cell\n",
       "var outputEl = gd.closest('.output');\n",
       "if (outputEl) {{\n",
       "    x.observe(outputEl, {childList: true});\n",
       "}}\n",
       "\n",
       "                        })\n",
       "                };\n",
       "                });\n",
       "            </script>\n",
       "        </div>"
      ]
     },
     "metadata": {},
     "output_type": "display_data"
    }
   ],
   "source": [
    "periodday_fig = go.Figure(data=go.Heatmap(\n",
    "                   z=[x for x in periodarray],\n",
    "                   y=[x for x in perioddayindex],\n",
    "                   x=[x for x in timeanddayct_df.columns],\n",
    "                colorscale = \"Teal\", opacity = 1))\n",
    "periodday_fig.update_layout(\n",
    "    title=\"311 Complaint Calls by Day and Period of Day\",\n",
    "    xaxis_title=\"Period of Day\",\n",
    "    yaxis_title=\"Day of Week\",)\n",
    "periodday_fig.show()"
   ]
  },
  {
   "cell_type": "code",
   "execution_count": 178,
   "metadata": {},
   "outputs": [],
   "source": [
    "hour0_df = complaintcount_df.loc[complaintcount_df[\"time_hour\"] == 0,:]\n",
    "hour0_ct = hour0_df[\"day_of_week\"].value_counts()\n",
    "\n",
    "hour1_df = complaintcount_df.loc[complaintcount_df[\"time_hour\"] == 1,:]\n",
    "hour1_ct = hour1_df[\"day_of_week\"].value_counts()\n",
    "\n",
    "hour2_df = complaintcount_df.loc[complaintcount_df[\"time_hour\"] == 2,:]\n",
    "hour2_ct = hour2_df[\"day_of_week\"].value_counts()\n",
    "\n",
    "hour3_df = complaintcount_df.loc[complaintcount_df[\"time_hour\"] == 3,:]\n",
    "hour3_ct = hour3_df[\"day_of_week\"].value_counts()\n",
    "\n",
    "hour4_df = complaintcount_df.loc[complaintcount_df[\"time_hour\"] == 4,:]\n",
    "hour4_ct = hour4_df[\"day_of_week\"].value_counts()\n",
    "\n",
    "hour5_df = complaintcount_df.loc[complaintcount_df[\"time_hour\"] == 5,:]\n",
    "hour5_ct = hour5_df[\"day_of_week\"].value_counts()\n",
    "\n",
    "hour6_df = complaintcount_df.loc[complaintcount_df[\"time_hour\"] == 6,:]\n",
    "hour6_ct = hour6_df[\"day_of_week\"].value_counts()\n",
    "\n",
    "hour7_df = complaintcount_df.loc[complaintcount_df[\"time_hour\"] == 7,:]\n",
    "hour7_ct = hour7_df[\"day_of_week\"].value_counts()\n",
    "\n",
    "hour8_df = complaintcount_df.loc[complaintcount_df[\"time_hour\"] == 8,:]\n",
    "hour8_ct = hour8_df[\"day_of_week\"].value_counts()\n",
    "\n",
    "hour9_df = complaintcount_df.loc[complaintcount_df[\"time_hour\"] == 9,:]\n",
    "hour9_ct = hour9_df[\"day_of_week\"].value_counts()\n",
    "\n",
    "hour10_df = complaintcount_df.loc[complaintcount_df[\"time_hour\"] == 10,:]\n",
    "hour10_ct = hour10_df[\"day_of_week\"].value_counts()\n",
    "\n",
    "hour11_df = complaintcount_df.loc[complaintcount_df[\"time_hour\"] == 11,:]\n",
    "hour11_ct = hour11_df[\"day_of_week\"].value_counts()\n",
    "\n",
    "hour12_df = complaintcount_df.loc[complaintcount_df[\"time_hour\"] == 12,:]\n",
    "hour12_ct = hour12_df[\"day_of_week\"].value_counts()\n",
    "\n",
    "hour13_df = complaintcount_df.loc[complaintcount_df[\"time_hour\"] == 13,:]\n",
    "hour13_ct = hour13_df[\"day_of_week\"].value_counts()\n",
    "\n",
    "hour14_df = complaintcount_df.loc[complaintcount_df[\"time_hour\"] == 14,:]\n",
    "hour14_ct = hour14_df[\"day_of_week\"].value_counts()\n",
    "\n",
    "hour15_df = complaintcount_df.loc[complaintcount_df[\"time_hour\"] == 15,:]\n",
    "hour15_ct = hour15_df[\"day_of_week\"].value_counts()\n",
    "\n",
    "hour16_df = complaintcount_df.loc[complaintcount_df[\"time_hour\"] == 16,:]\n",
    "hour16_ct = hour16_df[\"day_of_week\"].value_counts()\n",
    "\n",
    "hour17_df = complaintcount_df.loc[complaintcount_df[\"time_hour\"] == 17,:]\n",
    "hour17_ct = hour17_df[\"day_of_week\"].value_counts()\n",
    "\n",
    "hour18_df = complaintcount_df.loc[complaintcount_df[\"time_hour\"] == 18,:]\n",
    "hour18_ct = hour18_df[\"day_of_week\"].value_counts()\n",
    "\n",
    "hour19_df = complaintcount_df.loc[complaintcount_df[\"time_hour\"] == 19,:]\n",
    "hour19_ct = hour19_df[\"day_of_week\"].value_counts()\n",
    "\n",
    "hour20_df = complaintcount_df.loc[complaintcount_df[\"time_hour\"] == 20,:]\n",
    "hour20_ct = hour20_df[\"day_of_week\"].value_counts()\n",
    "\n",
    "hour21_df = complaintcount_df.loc[complaintcount_df[\"time_hour\"] == 21,:]\n",
    "hour21_ct = hour21_df[\"day_of_week\"].value_counts()\n",
    "\n",
    "hour22_df = complaintcount_df.loc[complaintcount_df[\"time_hour\"] == 22,:]\n",
    "hour22_ct = hour22_df[\"day_of_week\"].value_counts()\n",
    "\n",
    "hour23_df = complaintcount_df.loc[complaintcount_df[\"time_hour\"] == 23,:]\n",
    "hour23_ct = hour23_df[\"day_of_week\"].value_counts()"
   ]
  },
  {
   "cell_type": "code",
   "execution_count": 179,
   "metadata": {},
   "outputs": [
    {
     "data": {
      "text/html": [
       "<div>\n",
       "<style scoped>\n",
       "    .dataframe tbody tr th:only-of-type {\n",
       "        vertical-align: middle;\n",
       "    }\n",
       "\n",
       "    .dataframe tbody tr th {\n",
       "        vertical-align: top;\n",
       "    }\n",
       "\n",
       "    .dataframe thead th {\n",
       "        text-align: right;\n",
       "    }\n",
       "</style>\n",
       "<table border=\"1\" class=\"dataframe\">\n",
       "  <thead>\n",
       "    <tr style=\"text-align: right;\">\n",
       "      <th></th>\n",
       "      <th>12:00AM - 12:59AM</th>\n",
       "      <th>1:00AM - 1:59AM</th>\n",
       "      <th>2:00AM - 2:59AM</th>\n",
       "      <th>3:00AM - 3:59AM</th>\n",
       "      <th>4:00AM - 4:59AM</th>\n",
       "      <th>5:00AM - 5:59AM</th>\n",
       "      <th>6:00AM - 6:59AM</th>\n",
       "      <th>7:00AM - 7:59AM</th>\n",
       "      <th>8:00AM - 8:59AM</th>\n",
       "      <th>9:00AM - 9:59AM</th>\n",
       "      <th>...</th>\n",
       "      <th>2:00PM - 2:59PM</th>\n",
       "      <th>3:00PM - 3:59PM</th>\n",
       "      <th>4:00PM - 4:59PM</th>\n",
       "      <th>5:00PM - 5:59PM</th>\n",
       "      <th>6:00PM - 6:59PM</th>\n",
       "      <th>7:00PM - 7:59PM</th>\n",
       "      <th>8:00PM - 8:59PM</th>\n",
       "      <th>9:00PM - 9:59PM</th>\n",
       "      <th>10:00PM - 10:59PM</th>\n",
       "      <th>11:00PM - 11:59PM</th>\n",
       "    </tr>\n",
       "  </thead>\n",
       "  <tbody>\n",
       "    <tr>\n",
       "      <th>Monday</th>\n",
       "      <td>3776</td>\n",
       "      <td>2652</td>\n",
       "      <td>1630</td>\n",
       "      <td>1351</td>\n",
       "      <td>1250</td>\n",
       "      <td>1887</td>\n",
       "      <td>2863</td>\n",
       "      <td>5221</td>\n",
       "      <td>8190</td>\n",
       "      <td>13679</td>\n",
       "      <td>...</td>\n",
       "      <td>12022</td>\n",
       "      <td>11038</td>\n",
       "      <td>10899</td>\n",
       "      <td>8460</td>\n",
       "      <td>7749</td>\n",
       "      <td>7350</td>\n",
       "      <td>6836</td>\n",
       "      <td>6258</td>\n",
       "      <td>6213</td>\n",
       "      <td>4834</td>\n",
       "    </tr>\n",
       "    <tr>\n",
       "      <th>Tuesday</th>\n",
       "      <td>3509</td>\n",
       "      <td>2347</td>\n",
       "      <td>1493</td>\n",
       "      <td>1247</td>\n",
       "      <td>1197</td>\n",
       "      <td>1742</td>\n",
       "      <td>2970</td>\n",
       "      <td>5276</td>\n",
       "      <td>8798</td>\n",
       "      <td>13428</td>\n",
       "      <td>...</td>\n",
       "      <td>11720</td>\n",
       "      <td>11139</td>\n",
       "      <td>10893</td>\n",
       "      <td>8605</td>\n",
       "      <td>7873</td>\n",
       "      <td>7217</td>\n",
       "      <td>7031</td>\n",
       "      <td>6191</td>\n",
       "      <td>5915</td>\n",
       "      <td>4784</td>\n",
       "    </tr>\n",
       "    <tr>\n",
       "      <th>Wednesday</th>\n",
       "      <td>3338</td>\n",
       "      <td>2361</td>\n",
       "      <td>1548</td>\n",
       "      <td>1196</td>\n",
       "      <td>1206</td>\n",
       "      <td>1910</td>\n",
       "      <td>3108</td>\n",
       "      <td>5216</td>\n",
       "      <td>7978</td>\n",
       "      <td>12239</td>\n",
       "      <td>...</td>\n",
       "      <td>11165</td>\n",
       "      <td>10366</td>\n",
       "      <td>10390</td>\n",
       "      <td>8434</td>\n",
       "      <td>7824</td>\n",
       "      <td>6991</td>\n",
       "      <td>6787</td>\n",
       "      <td>6379</td>\n",
       "      <td>6027</td>\n",
       "      <td>5048</td>\n",
       "    </tr>\n",
       "    <tr>\n",
       "      <th>Thursday</th>\n",
       "      <td>3420</td>\n",
       "      <td>2424</td>\n",
       "      <td>1584</td>\n",
       "      <td>1326</td>\n",
       "      <td>1181</td>\n",
       "      <td>1942</td>\n",
       "      <td>3069</td>\n",
       "      <td>5411</td>\n",
       "      <td>8348</td>\n",
       "      <td>12489</td>\n",
       "      <td>...</td>\n",
       "      <td>11261</td>\n",
       "      <td>10157</td>\n",
       "      <td>10238</td>\n",
       "      <td>8063</td>\n",
       "      <td>7779</td>\n",
       "      <td>6928</td>\n",
       "      <td>6614</td>\n",
       "      <td>6339</td>\n",
       "      <td>6145</td>\n",
       "      <td>5026</td>\n",
       "    </tr>\n",
       "    <tr>\n",
       "      <th>Friday</th>\n",
       "      <td>3837</td>\n",
       "      <td>2586</td>\n",
       "      <td>1764</td>\n",
       "      <td>1437</td>\n",
       "      <td>1373</td>\n",
       "      <td>1899</td>\n",
       "      <td>3089</td>\n",
       "      <td>5184</td>\n",
       "      <td>7490</td>\n",
       "      <td>12014</td>\n",
       "      <td>...</td>\n",
       "      <td>10901</td>\n",
       "      <td>10168</td>\n",
       "      <td>9818</td>\n",
       "      <td>7805</td>\n",
       "      <td>7098</td>\n",
       "      <td>6594</td>\n",
       "      <td>6461</td>\n",
       "      <td>6495</td>\n",
       "      <td>6521</td>\n",
       "      <td>6228</td>\n",
       "    </tr>\n",
       "    <tr>\n",
       "      <th>Saturday</th>\n",
       "      <td>5048</td>\n",
       "      <td>4155</td>\n",
       "      <td>2599</td>\n",
       "      <td>2337</td>\n",
       "      <td>1793</td>\n",
       "      <td>1742</td>\n",
       "      <td>2057</td>\n",
       "      <td>3362</td>\n",
       "      <td>5702</td>\n",
       "      <td>7677</td>\n",
       "      <td>...</td>\n",
       "      <td>7348</td>\n",
       "      <td>6440</td>\n",
       "      <td>6792</td>\n",
       "      <td>6509</td>\n",
       "      <td>6655</td>\n",
       "      <td>6242</td>\n",
       "      <td>6580</td>\n",
       "      <td>7043</td>\n",
       "      <td>8723</td>\n",
       "      <td>8272</td>\n",
       "    </tr>\n",
       "    <tr>\n",
       "      <th>Sunday</th>\n",
       "      <td>6407</td>\n",
       "      <td>5998</td>\n",
       "      <td>4056</td>\n",
       "      <td>3422</td>\n",
       "      <td>2309</td>\n",
       "      <td>1903</td>\n",
       "      <td>1848</td>\n",
       "      <td>2529</td>\n",
       "      <td>3935</td>\n",
       "      <td>5579</td>\n",
       "      <td>...</td>\n",
       "      <td>5935</td>\n",
       "      <td>5562</td>\n",
       "      <td>6033</td>\n",
       "      <td>5797</td>\n",
       "      <td>6015</td>\n",
       "      <td>5959</td>\n",
       "      <td>5999</td>\n",
       "      <td>6085</td>\n",
       "      <td>6491</td>\n",
       "      <td>5345</td>\n",
       "    </tr>\n",
       "  </tbody>\n",
       "</table>\n",
       "<p>7 rows × 24 columns</p>\n",
       "</div>"
      ],
      "text/plain": [
       "           12:00AM - 12:59AM  1:00AM - 1:59AM  2:00AM - 2:59AM  \\\n",
       "Monday                  3776             2652             1630   \n",
       "Tuesday                 3509             2347             1493   \n",
       "Wednesday               3338             2361             1548   \n",
       "Thursday                3420             2424             1584   \n",
       "Friday                  3837             2586             1764   \n",
       "Saturday                5048             4155             2599   \n",
       "Sunday                  6407             5998             4056   \n",
       "\n",
       "           3:00AM - 3:59AM  4:00AM - 4:59AM  5:00AM - 5:59AM  6:00AM - 6:59AM  \\\n",
       "Monday                1351             1250             1887             2863   \n",
       "Tuesday               1247             1197             1742             2970   \n",
       "Wednesday             1196             1206             1910             3108   \n",
       "Thursday              1326             1181             1942             3069   \n",
       "Friday                1437             1373             1899             3089   \n",
       "Saturday              2337             1793             1742             2057   \n",
       "Sunday                3422             2309             1903             1848   \n",
       "\n",
       "           7:00AM - 7:59AM  8:00AM - 8:59AM  9:00AM - 9:59AM  ...  \\\n",
       "Monday                5221             8190            13679  ...   \n",
       "Tuesday               5276             8798            13428  ...   \n",
       "Wednesday             5216             7978            12239  ...   \n",
       "Thursday              5411             8348            12489  ...   \n",
       "Friday                5184             7490            12014  ...   \n",
       "Saturday              3362             5702             7677  ...   \n",
       "Sunday                2529             3935             5579  ...   \n",
       "\n",
       "           2:00PM - 2:59PM  3:00PM - 3:59PM  4:00PM - 4:59PM  5:00PM - 5:59PM  \\\n",
       "Monday               12022            11038            10899             8460   \n",
       "Tuesday              11720            11139            10893             8605   \n",
       "Wednesday            11165            10366            10390             8434   \n",
       "Thursday             11261            10157            10238             8063   \n",
       "Friday               10901            10168             9818             7805   \n",
       "Saturday              7348             6440             6792             6509   \n",
       "Sunday                5935             5562             6033             5797   \n",
       "\n",
       "           6:00PM - 6:59PM  7:00PM - 7:59PM  8:00PM - 8:59PM  9:00PM - 9:59PM  \\\n",
       "Monday                7749             7350             6836             6258   \n",
       "Tuesday               7873             7217             7031             6191   \n",
       "Wednesday             7824             6991             6787             6379   \n",
       "Thursday              7779             6928             6614             6339   \n",
       "Friday                7098             6594             6461             6495   \n",
       "Saturday              6655             6242             6580             7043   \n",
       "Sunday                6015             5959             5999             6085   \n",
       "\n",
       "           10:00PM - 10:59PM  11:00PM - 11:59PM  \n",
       "Monday                  6213               4834  \n",
       "Tuesday                 5915               4784  \n",
       "Wednesday               6027               5048  \n",
       "Thursday                6145               5026  \n",
       "Friday                  6521               6228  \n",
       "Saturday                8723               8272  \n",
       "Sunday                  6491               5345  \n",
       "\n",
       "[7 rows x 24 columns]"
      ]
     },
     "execution_count": 179,
     "metadata": {},
     "output_type": "execute_result"
    }
   ],
   "source": [
    "index = ['Monday', 'Tuesday', 'Wednesday', 'Thursday', 'Friday', 'Saturday', 'Sunday']\n",
    "houranddayct_df = pd.DataFrame({\"12:00AM - 12:59AM\" : hour0_ct,\n",
    "                               \"1:00AM - 1:59AM\" : hour1_ct,\n",
    "                               \"2:00AM - 2:59AM\" : hour2_ct,\n",
    "                               \"3:00AM - 3:59AM\" : hour3_ct,\n",
    "                               \"4:00AM - 4:59AM\" : hour4_ct,\n",
    "                               \"5:00AM - 5:59AM\" : hour5_ct,\n",
    "                               \"6:00AM - 6:59AM\" : hour6_ct,\n",
    "                               \"7:00AM - 7:59AM\" : hour7_ct,\n",
    "                               \"8:00AM - 8:59AM\" : hour8_ct,\n",
    "                               \"9:00AM - 9:59AM\" : hour9_ct,\n",
    "                               \"10:00AM - 10:59AM\" : hour10_ct,\n",
    "                               \"11:00AM - 11:59AM\" : hour11_ct,\n",
    "                               \"12:00PM - 12:59PM\" : hour12_ct,\n",
    "                               \"1:00PM - 1:59PM\" : hour13_ct,\n",
    "                               \"2:00PM - 2:59PM\" : hour14_ct,\n",
    "                               \"3:00PM - 3:59PM\" : hour15_ct,\n",
    "                               \"4:00PM - 4:59PM\" : hour16_ct,\n",
    "                               \"5:00PM - 5:59PM\" : hour17_ct,\n",
    "                               \"6:00PM - 6:59PM\" : hour18_ct,\n",
    "                               \"7:00PM - 7:59PM\" : hour19_ct,\n",
    "                               \"8:00PM - 8:59PM\" : hour20_ct,\n",
    "                               \"9:00PM - 9:59PM\" : hour21_ct,\n",
    "                               \"10:00PM - 10:59PM\" : hour22_ct,\n",
    "                               \"11:00PM - 11:59PM\" : hour23_ct,\n",
    "                               }, index=index)\n",
    "houranddayct_df"
   ]
  },
  {
   "cell_type": "code",
   "execution_count": 167,
   "metadata": {},
   "outputs": [
    {
     "data": {
      "text/plain": [
       "array(['Monday', 'Tuesday', 'Wednesday', 'Thursday', 'Friday', 'Saturday',\n",
       "       'Sunday'], dtype=object)"
      ]
     },
     "execution_count": 167,
     "metadata": {},
     "output_type": "execute_result"
    }
   ],
   "source": [
    "hourdayarray = houranddayct_df.values\n",
    "hourdayarray\n",
    "hourdayindex = houranddayct_df.index.values\n",
    "hourdayindex"
   ]
  },
  {
   "cell_type": "code",
   "execution_count": 180,
   "metadata": {
    "scrolled": true
   },
   "outputs": [
    {
     "data": {
      "application/vnd.plotly.v1+json": {
       "config": {
        "plotlyServerURL": "https://plot.ly"
       },
       "data": [
        {
         "colorscale": [
          [
           0,
           "rgb(209, 238, 234)"
          ],
          [
           0.16666666666666666,
           "rgb(168, 219, 217)"
          ],
          [
           0.3333333333333333,
           "rgb(133, 196, 201)"
          ],
          [
           0.5,
           "rgb(104, 171, 184)"
          ],
          [
           0.6666666666666666,
           "rgb(79, 144, 166)"
          ],
          [
           0.8333333333333334,
           "rgb(59, 115, 143)"
          ],
          [
           1,
           "rgb(42, 86, 116)"
          ]
         ],
         "opacity": 1,
         "type": "heatmap",
         "x": [
          "12:00AM - 12:59AM",
          "1:00AM - 1:59AM",
          "2:00AM - 2:59AM",
          "3:00AM - 3:59AM",
          "4:00AM - 4:59AM",
          "5:00AM - 5:59AM",
          "6:00AM - 6:59AM",
          "7:00AM - 7:59AM",
          "8:00AM - 8:59AM",
          "9:00AM - 9:59AM",
          "10:00AM - 10:59AM",
          "11:00AM - 11:59AM",
          "12:00PM - 12:59PM",
          "1:00PM - 1:59PM",
          "2:00PM - 2:59PM",
          "3:00PM - 3:59PM",
          "4:00PM - 4:59PM",
          "5:00PM - 5:59PM",
          "6:00PM - 6:59PM",
          "7:00PM - 7:59PM",
          "8:00PM - 8:59PM",
          "9:00PM - 9:59PM",
          "10:00PM - 10:59PM",
          "11:00PM - 11:59PM"
         ],
         "y": [
          "Monday",
          "Tuesday",
          "Wednesday",
          "Thursday",
          "Friday",
          "Saturday",
          "Sunday"
         ],
         "z": [
          [
           3776,
           2652,
           1630,
           1351,
           1250,
           1887,
           2863,
           5221,
           8190,
           13679,
           12928,
           12589,
           12084,
           11912,
           12022,
           11038,
           10899,
           8460,
           7749,
           7350,
           6836,
           6258,
           6213,
           4834
          ],
          [
           3509,
           2347,
           1493,
           1247,
           1197,
           1742,
           2970,
           5276,
           8798,
           13428,
           13642,
           13241,
           12731,
           12085,
           11720,
           11139,
           10893,
           8605,
           7873,
           7217,
           7031,
           6191,
           5915,
           4784
          ],
          [
           3338,
           2361,
           1548,
           1196,
           1206,
           1910,
           3108,
           5216,
           7978,
           12239,
           12429,
           12421,
           11906,
           11211,
           11165,
           10366,
           10390,
           8434,
           7824,
           6991,
           6787,
           6379,
           6027,
           5048
          ],
          [
           3420,
           2424,
           1584,
           1326,
           1181,
           1942,
           3069,
           5411,
           8348,
           12489,
           12336,
           12320,
           11777,
           11095,
           11261,
           10157,
           10238,
           8063,
           7779,
           6928,
           6614,
           6339,
           6145,
           5026
          ],
          [
           3837,
           2586,
           1764,
           1437,
           1373,
           1899,
           3089,
           5184,
           7490,
           12014,
           12201,
           12005,
           11311,
           10789,
           10901,
           10168,
           9818,
           7805,
           7098,
           6594,
           6461,
           6495,
           6521,
           6228
          ],
          [
           5048,
           4155,
           2599,
           2337,
           1793,
           1742,
           2057,
           3362,
           5702,
           7677,
           8205,
           8182,
           7803,
           7254,
           7348,
           6440,
           6792,
           6509,
           6655,
           6242,
           6580,
           7043,
           8723,
           8272
          ],
          [
           6407,
           5998,
           4056,
           3422,
           2309,
           1903,
           1848,
           2529,
           3935,
           5579,
           6051,
           6332,
           6229,
           5950,
           5935,
           5562,
           6033,
           5797,
           6015,
           5959,
           5999,
           6085,
           6491,
           5345
          ]
         ]
        }
       ],
       "layout": {
        "template": {
         "data": {
          "bar": [
           {
            "error_x": {
             "color": "#2a3f5f"
            },
            "error_y": {
             "color": "#2a3f5f"
            },
            "marker": {
             "line": {
              "color": "#E5ECF6",
              "width": 0.5
             }
            },
            "type": "bar"
           }
          ],
          "barpolar": [
           {
            "marker": {
             "line": {
              "color": "#E5ECF6",
              "width": 0.5
             }
            },
            "type": "barpolar"
           }
          ],
          "carpet": [
           {
            "aaxis": {
             "endlinecolor": "#2a3f5f",
             "gridcolor": "white",
             "linecolor": "white",
             "minorgridcolor": "white",
             "startlinecolor": "#2a3f5f"
            },
            "baxis": {
             "endlinecolor": "#2a3f5f",
             "gridcolor": "white",
             "linecolor": "white",
             "minorgridcolor": "white",
             "startlinecolor": "#2a3f5f"
            },
            "type": "carpet"
           }
          ],
          "choropleth": [
           {
            "colorbar": {
             "outlinewidth": 0,
             "ticks": ""
            },
            "type": "choropleth"
           }
          ],
          "contour": [
           {
            "colorbar": {
             "outlinewidth": 0,
             "ticks": ""
            },
            "colorscale": [
             [
              0,
              "#0d0887"
             ],
             [
              0.1111111111111111,
              "#46039f"
             ],
             [
              0.2222222222222222,
              "#7201a8"
             ],
             [
              0.3333333333333333,
              "#9c179e"
             ],
             [
              0.4444444444444444,
              "#bd3786"
             ],
             [
              0.5555555555555556,
              "#d8576b"
             ],
             [
              0.6666666666666666,
              "#ed7953"
             ],
             [
              0.7777777777777778,
              "#fb9f3a"
             ],
             [
              0.8888888888888888,
              "#fdca26"
             ],
             [
              1,
              "#f0f921"
             ]
            ],
            "type": "contour"
           }
          ],
          "contourcarpet": [
           {
            "colorbar": {
             "outlinewidth": 0,
             "ticks": ""
            },
            "type": "contourcarpet"
           }
          ],
          "heatmap": [
           {
            "colorbar": {
             "outlinewidth": 0,
             "ticks": ""
            },
            "colorscale": [
             [
              0,
              "#0d0887"
             ],
             [
              0.1111111111111111,
              "#46039f"
             ],
             [
              0.2222222222222222,
              "#7201a8"
             ],
             [
              0.3333333333333333,
              "#9c179e"
             ],
             [
              0.4444444444444444,
              "#bd3786"
             ],
             [
              0.5555555555555556,
              "#d8576b"
             ],
             [
              0.6666666666666666,
              "#ed7953"
             ],
             [
              0.7777777777777778,
              "#fb9f3a"
             ],
             [
              0.8888888888888888,
              "#fdca26"
             ],
             [
              1,
              "#f0f921"
             ]
            ],
            "type": "heatmap"
           }
          ],
          "heatmapgl": [
           {
            "colorbar": {
             "outlinewidth": 0,
             "ticks": ""
            },
            "colorscale": [
             [
              0,
              "#0d0887"
             ],
             [
              0.1111111111111111,
              "#46039f"
             ],
             [
              0.2222222222222222,
              "#7201a8"
             ],
             [
              0.3333333333333333,
              "#9c179e"
             ],
             [
              0.4444444444444444,
              "#bd3786"
             ],
             [
              0.5555555555555556,
              "#d8576b"
             ],
             [
              0.6666666666666666,
              "#ed7953"
             ],
             [
              0.7777777777777778,
              "#fb9f3a"
             ],
             [
              0.8888888888888888,
              "#fdca26"
             ],
             [
              1,
              "#f0f921"
             ]
            ],
            "type": "heatmapgl"
           }
          ],
          "histogram": [
           {
            "marker": {
             "colorbar": {
              "outlinewidth": 0,
              "ticks": ""
             }
            },
            "type": "histogram"
           }
          ],
          "histogram2d": [
           {
            "colorbar": {
             "outlinewidth": 0,
             "ticks": ""
            },
            "colorscale": [
             [
              0,
              "#0d0887"
             ],
             [
              0.1111111111111111,
              "#46039f"
             ],
             [
              0.2222222222222222,
              "#7201a8"
             ],
             [
              0.3333333333333333,
              "#9c179e"
             ],
             [
              0.4444444444444444,
              "#bd3786"
             ],
             [
              0.5555555555555556,
              "#d8576b"
             ],
             [
              0.6666666666666666,
              "#ed7953"
             ],
             [
              0.7777777777777778,
              "#fb9f3a"
             ],
             [
              0.8888888888888888,
              "#fdca26"
             ],
             [
              1,
              "#f0f921"
             ]
            ],
            "type": "histogram2d"
           }
          ],
          "histogram2dcontour": [
           {
            "colorbar": {
             "outlinewidth": 0,
             "ticks": ""
            },
            "colorscale": [
             [
              0,
              "#0d0887"
             ],
             [
              0.1111111111111111,
              "#46039f"
             ],
             [
              0.2222222222222222,
              "#7201a8"
             ],
             [
              0.3333333333333333,
              "#9c179e"
             ],
             [
              0.4444444444444444,
              "#bd3786"
             ],
             [
              0.5555555555555556,
              "#d8576b"
             ],
             [
              0.6666666666666666,
              "#ed7953"
             ],
             [
              0.7777777777777778,
              "#fb9f3a"
             ],
             [
              0.8888888888888888,
              "#fdca26"
             ],
             [
              1,
              "#f0f921"
             ]
            ],
            "type": "histogram2dcontour"
           }
          ],
          "mesh3d": [
           {
            "colorbar": {
             "outlinewidth": 0,
             "ticks": ""
            },
            "type": "mesh3d"
           }
          ],
          "parcoords": [
           {
            "line": {
             "colorbar": {
              "outlinewidth": 0,
              "ticks": ""
             }
            },
            "type": "parcoords"
           }
          ],
          "scatter": [
           {
            "marker": {
             "colorbar": {
              "outlinewidth": 0,
              "ticks": ""
             }
            },
            "type": "scatter"
           }
          ],
          "scatter3d": [
           {
            "line": {
             "colorbar": {
              "outlinewidth": 0,
              "ticks": ""
             }
            },
            "marker": {
             "colorbar": {
              "outlinewidth": 0,
              "ticks": ""
             }
            },
            "type": "scatter3d"
           }
          ],
          "scattercarpet": [
           {
            "marker": {
             "colorbar": {
              "outlinewidth": 0,
              "ticks": ""
             }
            },
            "type": "scattercarpet"
           }
          ],
          "scattergeo": [
           {
            "marker": {
             "colorbar": {
              "outlinewidth": 0,
              "ticks": ""
             }
            },
            "type": "scattergeo"
           }
          ],
          "scattergl": [
           {
            "marker": {
             "colorbar": {
              "outlinewidth": 0,
              "ticks": ""
             }
            },
            "type": "scattergl"
           }
          ],
          "scattermapbox": [
           {
            "marker": {
             "colorbar": {
              "outlinewidth": 0,
              "ticks": ""
             }
            },
            "type": "scattermapbox"
           }
          ],
          "scatterpolar": [
           {
            "marker": {
             "colorbar": {
              "outlinewidth": 0,
              "ticks": ""
             }
            },
            "type": "scatterpolar"
           }
          ],
          "scatterpolargl": [
           {
            "marker": {
             "colorbar": {
              "outlinewidth": 0,
              "ticks": ""
             }
            },
            "type": "scatterpolargl"
           }
          ],
          "scatterternary": [
           {
            "marker": {
             "colorbar": {
              "outlinewidth": 0,
              "ticks": ""
             }
            },
            "type": "scatterternary"
           }
          ],
          "surface": [
           {
            "colorbar": {
             "outlinewidth": 0,
             "ticks": ""
            },
            "colorscale": [
             [
              0,
              "#0d0887"
             ],
             [
              0.1111111111111111,
              "#46039f"
             ],
             [
              0.2222222222222222,
              "#7201a8"
             ],
             [
              0.3333333333333333,
              "#9c179e"
             ],
             [
              0.4444444444444444,
              "#bd3786"
             ],
             [
              0.5555555555555556,
              "#d8576b"
             ],
             [
              0.6666666666666666,
              "#ed7953"
             ],
             [
              0.7777777777777778,
              "#fb9f3a"
             ],
             [
              0.8888888888888888,
              "#fdca26"
             ],
             [
              1,
              "#f0f921"
             ]
            ],
            "type": "surface"
           }
          ],
          "table": [
           {
            "cells": {
             "fill": {
              "color": "#EBF0F8"
             },
             "line": {
              "color": "white"
             }
            },
            "header": {
             "fill": {
              "color": "#C8D4E3"
             },
             "line": {
              "color": "white"
             }
            },
            "type": "table"
           }
          ]
         },
         "layout": {
          "annotationdefaults": {
           "arrowcolor": "#2a3f5f",
           "arrowhead": 0,
           "arrowwidth": 1
          },
          "colorscale": {
           "diverging": [
            [
             0,
             "#8e0152"
            ],
            [
             0.1,
             "#c51b7d"
            ],
            [
             0.2,
             "#de77ae"
            ],
            [
             0.3,
             "#f1b6da"
            ],
            [
             0.4,
             "#fde0ef"
            ],
            [
             0.5,
             "#f7f7f7"
            ],
            [
             0.6,
             "#e6f5d0"
            ],
            [
             0.7,
             "#b8e186"
            ],
            [
             0.8,
             "#7fbc41"
            ],
            [
             0.9,
             "#4d9221"
            ],
            [
             1,
             "#276419"
            ]
           ],
           "sequential": [
            [
             0,
             "#0d0887"
            ],
            [
             0.1111111111111111,
             "#46039f"
            ],
            [
             0.2222222222222222,
             "#7201a8"
            ],
            [
             0.3333333333333333,
             "#9c179e"
            ],
            [
             0.4444444444444444,
             "#bd3786"
            ],
            [
             0.5555555555555556,
             "#d8576b"
            ],
            [
             0.6666666666666666,
             "#ed7953"
            ],
            [
             0.7777777777777778,
             "#fb9f3a"
            ],
            [
             0.8888888888888888,
             "#fdca26"
            ],
            [
             1,
             "#f0f921"
            ]
           ],
           "sequentialminus": [
            [
             0,
             "#0d0887"
            ],
            [
             0.1111111111111111,
             "#46039f"
            ],
            [
             0.2222222222222222,
             "#7201a8"
            ],
            [
             0.3333333333333333,
             "#9c179e"
            ],
            [
             0.4444444444444444,
             "#bd3786"
            ],
            [
             0.5555555555555556,
             "#d8576b"
            ],
            [
             0.6666666666666666,
             "#ed7953"
            ],
            [
             0.7777777777777778,
             "#fb9f3a"
            ],
            [
             0.8888888888888888,
             "#fdca26"
            ],
            [
             1,
             "#f0f921"
            ]
           ]
          },
          "colorway": [
           "#636efa",
           "#EF553B",
           "#00cc96",
           "#ab63fa",
           "#FFA15A",
           "#19d3f3",
           "#FF6692",
           "#B6E880",
           "#FF97FF",
           "#FECB52"
          ],
          "font": {
           "color": "#2a3f5f"
          },
          "geo": {
           "bgcolor": "white",
           "lakecolor": "white",
           "landcolor": "#E5ECF6",
           "showlakes": true,
           "showland": true,
           "subunitcolor": "white"
          },
          "hoverlabel": {
           "align": "left"
          },
          "hovermode": "closest",
          "mapbox": {
           "style": "light"
          },
          "paper_bgcolor": "white",
          "plot_bgcolor": "#E5ECF6",
          "polar": {
           "angularaxis": {
            "gridcolor": "white",
            "linecolor": "white",
            "ticks": ""
           },
           "bgcolor": "#E5ECF6",
           "radialaxis": {
            "gridcolor": "white",
            "linecolor": "white",
            "ticks": ""
           }
          },
          "scene": {
           "xaxis": {
            "backgroundcolor": "#E5ECF6",
            "gridcolor": "white",
            "gridwidth": 2,
            "linecolor": "white",
            "showbackground": true,
            "ticks": "",
            "zerolinecolor": "white"
           },
           "yaxis": {
            "backgroundcolor": "#E5ECF6",
            "gridcolor": "white",
            "gridwidth": 2,
            "linecolor": "white",
            "showbackground": true,
            "ticks": "",
            "zerolinecolor": "white"
           },
           "zaxis": {
            "backgroundcolor": "#E5ECF6",
            "gridcolor": "white",
            "gridwidth": 2,
            "linecolor": "white",
            "showbackground": true,
            "ticks": "",
            "zerolinecolor": "white"
           }
          },
          "shapedefaults": {
           "line": {
            "color": "#2a3f5f"
           }
          },
          "ternary": {
           "aaxis": {
            "gridcolor": "white",
            "linecolor": "white",
            "ticks": ""
           },
           "baxis": {
            "gridcolor": "white",
            "linecolor": "white",
            "ticks": ""
           },
           "bgcolor": "#E5ECF6",
           "caxis": {
            "gridcolor": "white",
            "linecolor": "white",
            "ticks": ""
           }
          },
          "title": {
           "x": 0.05
          },
          "xaxis": {
           "automargin": true,
           "gridcolor": "white",
           "linecolor": "white",
           "ticks": "",
           "zerolinecolor": "white",
           "zerolinewidth": 2
          },
          "yaxis": {
           "automargin": true,
           "gridcolor": "white",
           "linecolor": "white",
           "ticks": "",
           "zerolinecolor": "white",
           "zerolinewidth": 2
          }
         }
        },
        "title": {
         "text": "311 Complaint Calls by Day and Time"
        },
        "xaxis": {
         "title": {
          "text": "Time"
         }
        },
        "yaxis": {
         "title": {
          "text": "Day of Week"
         }
        }
       }
      },
      "text/html": [
       "<div>\n",
       "        \n",
       "        \n",
       "            <div id=\"1ad4ed77-107c-4cce-924f-613da33dc6b3\" class=\"plotly-graph-div\" style=\"height:525px; width:100%;\"></div>\n",
       "            <script type=\"text/javascript\">\n",
       "                require([\"plotly\"], function(Plotly) {\n",
       "                    window.PLOTLYENV=window.PLOTLYENV || {};\n",
       "                    \n",
       "                if (document.getElementById(\"1ad4ed77-107c-4cce-924f-613da33dc6b3\")) {\n",
       "                    Plotly.newPlot(\n",
       "                        '1ad4ed77-107c-4cce-924f-613da33dc6b3',\n",
       "                        [{\"colorscale\": [[0.0, \"rgb(209, 238, 234)\"], [0.16666666666666666, \"rgb(168, 219, 217)\"], [0.3333333333333333, \"rgb(133, 196, 201)\"], [0.5, \"rgb(104, 171, 184)\"], [0.6666666666666666, \"rgb(79, 144, 166)\"], [0.8333333333333334, \"rgb(59, 115, 143)\"], [1.0, \"rgb(42, 86, 116)\"]], \"opacity\": 1, \"type\": \"heatmap\", \"x\": [\"12:00AM - 12:59AM\", \"1:00AM - 1:59AM\", \"2:00AM - 2:59AM\", \"3:00AM - 3:59AM\", \"4:00AM - 4:59AM\", \"5:00AM - 5:59AM\", \"6:00AM - 6:59AM\", \"7:00AM - 7:59AM\", \"8:00AM - 8:59AM\", \"9:00AM - 9:59AM\", \"10:00AM - 10:59AM\", \"11:00AM - 11:59AM\", \"12:00PM - 12:59PM\", \"1:00PM - 1:59PM\", \"2:00PM - 2:59PM\", \"3:00PM - 3:59PM\", \"4:00PM - 4:59PM\", \"5:00PM - 5:59PM\", \"6:00PM - 6:59PM\", \"7:00PM - 7:59PM\", \"8:00PM - 8:59PM\", \"9:00PM - 9:59PM\", \"10:00PM - 10:59PM\", \"11:00PM - 11:59PM\"], \"y\": [\"Monday\", \"Tuesday\", \"Wednesday\", \"Thursday\", \"Friday\", \"Saturday\", \"Sunday\"], \"z\": [[3776, 2652, 1630, 1351, 1250, 1887, 2863, 5221, 8190, 13679, 12928, 12589, 12084, 11912, 12022, 11038, 10899, 8460, 7749, 7350, 6836, 6258, 6213, 4834], [3509, 2347, 1493, 1247, 1197, 1742, 2970, 5276, 8798, 13428, 13642, 13241, 12731, 12085, 11720, 11139, 10893, 8605, 7873, 7217, 7031, 6191, 5915, 4784], [3338, 2361, 1548, 1196, 1206, 1910, 3108, 5216, 7978, 12239, 12429, 12421, 11906, 11211, 11165, 10366, 10390, 8434, 7824, 6991, 6787, 6379, 6027, 5048], [3420, 2424, 1584, 1326, 1181, 1942, 3069, 5411, 8348, 12489, 12336, 12320, 11777, 11095, 11261, 10157, 10238, 8063, 7779, 6928, 6614, 6339, 6145, 5026], [3837, 2586, 1764, 1437, 1373, 1899, 3089, 5184, 7490, 12014, 12201, 12005, 11311, 10789, 10901, 10168, 9818, 7805, 7098, 6594, 6461, 6495, 6521, 6228], [5048, 4155, 2599, 2337, 1793, 1742, 2057, 3362, 5702, 7677, 8205, 8182, 7803, 7254, 7348, 6440, 6792, 6509, 6655, 6242, 6580, 7043, 8723, 8272], [6407, 5998, 4056, 3422, 2309, 1903, 1848, 2529, 3935, 5579, 6051, 6332, 6229, 5950, 5935, 5562, 6033, 5797, 6015, 5959, 5999, 6085, 6491, 5345]]}],\n",
       "                        {\"template\": {\"data\": {\"bar\": [{\"error_x\": {\"color\": \"#2a3f5f\"}, \"error_y\": {\"color\": \"#2a3f5f\"}, \"marker\": {\"line\": {\"color\": \"#E5ECF6\", \"width\": 0.5}}, \"type\": \"bar\"}], \"barpolar\": [{\"marker\": {\"line\": {\"color\": \"#E5ECF6\", \"width\": 0.5}}, \"type\": \"barpolar\"}], \"carpet\": [{\"aaxis\": {\"endlinecolor\": \"#2a3f5f\", \"gridcolor\": \"white\", \"linecolor\": \"white\", \"minorgridcolor\": \"white\", \"startlinecolor\": \"#2a3f5f\"}, \"baxis\": {\"endlinecolor\": \"#2a3f5f\", \"gridcolor\": \"white\", \"linecolor\": \"white\", \"minorgridcolor\": \"white\", \"startlinecolor\": \"#2a3f5f\"}, \"type\": \"carpet\"}], \"choropleth\": [{\"colorbar\": {\"outlinewidth\": 0, \"ticks\": \"\"}, \"type\": \"choropleth\"}], \"contour\": [{\"colorbar\": {\"outlinewidth\": 0, \"ticks\": \"\"}, \"colorscale\": [[0.0, \"#0d0887\"], [0.1111111111111111, \"#46039f\"], [0.2222222222222222, \"#7201a8\"], [0.3333333333333333, \"#9c179e\"], [0.4444444444444444, \"#bd3786\"], [0.5555555555555556, \"#d8576b\"], [0.6666666666666666, \"#ed7953\"], [0.7777777777777778, \"#fb9f3a\"], [0.8888888888888888, \"#fdca26\"], [1.0, \"#f0f921\"]], \"type\": \"contour\"}], \"contourcarpet\": [{\"colorbar\": {\"outlinewidth\": 0, \"ticks\": \"\"}, \"type\": \"contourcarpet\"}], \"heatmap\": [{\"colorbar\": {\"outlinewidth\": 0, \"ticks\": \"\"}, \"colorscale\": [[0.0, \"#0d0887\"], [0.1111111111111111, \"#46039f\"], [0.2222222222222222, \"#7201a8\"], [0.3333333333333333, \"#9c179e\"], [0.4444444444444444, \"#bd3786\"], [0.5555555555555556, \"#d8576b\"], [0.6666666666666666, \"#ed7953\"], [0.7777777777777778, \"#fb9f3a\"], [0.8888888888888888, \"#fdca26\"], [1.0, \"#f0f921\"]], \"type\": \"heatmap\"}], \"heatmapgl\": [{\"colorbar\": {\"outlinewidth\": 0, \"ticks\": \"\"}, \"colorscale\": [[0.0, \"#0d0887\"], [0.1111111111111111, \"#46039f\"], [0.2222222222222222, \"#7201a8\"], [0.3333333333333333, \"#9c179e\"], [0.4444444444444444, \"#bd3786\"], [0.5555555555555556, \"#d8576b\"], [0.6666666666666666, \"#ed7953\"], [0.7777777777777778, \"#fb9f3a\"], [0.8888888888888888, \"#fdca26\"], [1.0, \"#f0f921\"]], \"type\": \"heatmapgl\"}], \"histogram\": [{\"marker\": {\"colorbar\": {\"outlinewidth\": 0, \"ticks\": \"\"}}, \"type\": \"histogram\"}], \"histogram2d\": [{\"colorbar\": {\"outlinewidth\": 0, \"ticks\": \"\"}, \"colorscale\": [[0.0, \"#0d0887\"], [0.1111111111111111, \"#46039f\"], [0.2222222222222222, \"#7201a8\"], [0.3333333333333333, \"#9c179e\"], [0.4444444444444444, \"#bd3786\"], [0.5555555555555556, \"#d8576b\"], [0.6666666666666666, \"#ed7953\"], [0.7777777777777778, \"#fb9f3a\"], [0.8888888888888888, \"#fdca26\"], [1.0, \"#f0f921\"]], \"type\": \"histogram2d\"}], \"histogram2dcontour\": [{\"colorbar\": {\"outlinewidth\": 0, \"ticks\": \"\"}, \"colorscale\": [[0.0, \"#0d0887\"], [0.1111111111111111, \"#46039f\"], [0.2222222222222222, \"#7201a8\"], [0.3333333333333333, \"#9c179e\"], [0.4444444444444444, \"#bd3786\"], [0.5555555555555556, \"#d8576b\"], [0.6666666666666666, \"#ed7953\"], [0.7777777777777778, \"#fb9f3a\"], [0.8888888888888888, \"#fdca26\"], [1.0, \"#f0f921\"]], \"type\": \"histogram2dcontour\"}], \"mesh3d\": [{\"colorbar\": {\"outlinewidth\": 0, \"ticks\": \"\"}, \"type\": \"mesh3d\"}], \"parcoords\": [{\"line\": {\"colorbar\": {\"outlinewidth\": 0, \"ticks\": \"\"}}, \"type\": \"parcoords\"}], \"scatter\": [{\"marker\": {\"colorbar\": {\"outlinewidth\": 0, \"ticks\": \"\"}}, \"type\": \"scatter\"}], \"scatter3d\": [{\"line\": {\"colorbar\": {\"outlinewidth\": 0, \"ticks\": \"\"}}, \"marker\": {\"colorbar\": {\"outlinewidth\": 0, \"ticks\": \"\"}}, \"type\": \"scatter3d\"}], \"scattercarpet\": [{\"marker\": {\"colorbar\": {\"outlinewidth\": 0, \"ticks\": \"\"}}, \"type\": \"scattercarpet\"}], \"scattergeo\": [{\"marker\": {\"colorbar\": {\"outlinewidth\": 0, \"ticks\": \"\"}}, \"type\": \"scattergeo\"}], \"scattergl\": [{\"marker\": {\"colorbar\": {\"outlinewidth\": 0, \"ticks\": \"\"}}, \"type\": \"scattergl\"}], \"scattermapbox\": [{\"marker\": {\"colorbar\": {\"outlinewidth\": 0, \"ticks\": \"\"}}, \"type\": \"scattermapbox\"}], \"scatterpolar\": [{\"marker\": {\"colorbar\": {\"outlinewidth\": 0, \"ticks\": \"\"}}, \"type\": \"scatterpolar\"}], \"scatterpolargl\": [{\"marker\": {\"colorbar\": {\"outlinewidth\": 0, \"ticks\": \"\"}}, \"type\": \"scatterpolargl\"}], \"scatterternary\": [{\"marker\": {\"colorbar\": {\"outlinewidth\": 0, \"ticks\": \"\"}}, \"type\": \"scatterternary\"}], \"surface\": [{\"colorbar\": {\"outlinewidth\": 0, \"ticks\": \"\"}, \"colorscale\": [[0.0, \"#0d0887\"], [0.1111111111111111, \"#46039f\"], [0.2222222222222222, \"#7201a8\"], [0.3333333333333333, \"#9c179e\"], [0.4444444444444444, \"#bd3786\"], [0.5555555555555556, \"#d8576b\"], [0.6666666666666666, \"#ed7953\"], [0.7777777777777778, \"#fb9f3a\"], [0.8888888888888888, \"#fdca26\"], [1.0, \"#f0f921\"]], \"type\": \"surface\"}], \"table\": [{\"cells\": {\"fill\": {\"color\": \"#EBF0F8\"}, \"line\": {\"color\": \"white\"}}, \"header\": {\"fill\": {\"color\": \"#C8D4E3\"}, \"line\": {\"color\": \"white\"}}, \"type\": \"table\"}]}, \"layout\": {\"annotationdefaults\": {\"arrowcolor\": \"#2a3f5f\", \"arrowhead\": 0, \"arrowwidth\": 1}, \"colorscale\": {\"diverging\": [[0, \"#8e0152\"], [0.1, \"#c51b7d\"], [0.2, \"#de77ae\"], [0.3, \"#f1b6da\"], [0.4, \"#fde0ef\"], [0.5, \"#f7f7f7\"], [0.6, \"#e6f5d0\"], [0.7, \"#b8e186\"], [0.8, \"#7fbc41\"], [0.9, \"#4d9221\"], [1, \"#276419\"]], \"sequential\": [[0.0, \"#0d0887\"], [0.1111111111111111, \"#46039f\"], [0.2222222222222222, \"#7201a8\"], [0.3333333333333333, \"#9c179e\"], [0.4444444444444444, \"#bd3786\"], [0.5555555555555556, \"#d8576b\"], [0.6666666666666666, \"#ed7953\"], [0.7777777777777778, \"#fb9f3a\"], [0.8888888888888888, \"#fdca26\"], [1.0, \"#f0f921\"]], \"sequentialminus\": [[0.0, \"#0d0887\"], [0.1111111111111111, \"#46039f\"], [0.2222222222222222, \"#7201a8\"], [0.3333333333333333, \"#9c179e\"], [0.4444444444444444, \"#bd3786\"], [0.5555555555555556, \"#d8576b\"], [0.6666666666666666, \"#ed7953\"], [0.7777777777777778, \"#fb9f3a\"], [0.8888888888888888, \"#fdca26\"], [1.0, \"#f0f921\"]]}, \"colorway\": [\"#636efa\", \"#EF553B\", \"#00cc96\", \"#ab63fa\", \"#FFA15A\", \"#19d3f3\", \"#FF6692\", \"#B6E880\", \"#FF97FF\", \"#FECB52\"], \"font\": {\"color\": \"#2a3f5f\"}, \"geo\": {\"bgcolor\": \"white\", \"lakecolor\": \"white\", \"landcolor\": \"#E5ECF6\", \"showlakes\": true, \"showland\": true, \"subunitcolor\": \"white\"}, \"hoverlabel\": {\"align\": \"left\"}, \"hovermode\": \"closest\", \"mapbox\": {\"style\": \"light\"}, \"paper_bgcolor\": \"white\", \"plot_bgcolor\": \"#E5ECF6\", \"polar\": {\"angularaxis\": {\"gridcolor\": \"white\", \"linecolor\": \"white\", \"ticks\": \"\"}, \"bgcolor\": \"#E5ECF6\", \"radialaxis\": {\"gridcolor\": \"white\", \"linecolor\": \"white\", \"ticks\": \"\"}}, \"scene\": {\"xaxis\": {\"backgroundcolor\": \"#E5ECF6\", \"gridcolor\": \"white\", \"gridwidth\": 2, \"linecolor\": \"white\", \"showbackground\": true, \"ticks\": \"\", \"zerolinecolor\": \"white\"}, \"yaxis\": {\"backgroundcolor\": \"#E5ECF6\", \"gridcolor\": \"white\", \"gridwidth\": 2, \"linecolor\": \"white\", \"showbackground\": true, \"ticks\": \"\", \"zerolinecolor\": \"white\"}, \"zaxis\": {\"backgroundcolor\": \"#E5ECF6\", \"gridcolor\": \"white\", \"gridwidth\": 2, \"linecolor\": \"white\", \"showbackground\": true, \"ticks\": \"\", \"zerolinecolor\": \"white\"}}, \"shapedefaults\": {\"line\": {\"color\": \"#2a3f5f\"}}, \"ternary\": {\"aaxis\": {\"gridcolor\": \"white\", \"linecolor\": \"white\", \"ticks\": \"\"}, \"baxis\": {\"gridcolor\": \"white\", \"linecolor\": \"white\", \"ticks\": \"\"}, \"bgcolor\": \"#E5ECF6\", \"caxis\": {\"gridcolor\": \"white\", \"linecolor\": \"white\", \"ticks\": \"\"}}, \"title\": {\"x\": 0.05}, \"xaxis\": {\"automargin\": true, \"gridcolor\": \"white\", \"linecolor\": \"white\", \"ticks\": \"\", \"zerolinecolor\": \"white\", \"zerolinewidth\": 2}, \"yaxis\": {\"automargin\": true, \"gridcolor\": \"white\", \"linecolor\": \"white\", \"ticks\": \"\", \"zerolinecolor\": \"white\", \"zerolinewidth\": 2}}}, \"title\": {\"text\": \"311 Complaint Calls by Day and Time\"}, \"xaxis\": {\"title\": {\"text\": \"Time\"}}, \"yaxis\": {\"title\": {\"text\": \"Day of Week\"}}},\n",
       "                        {\"responsive\": true}\n",
       "                    ).then(function(){\n",
       "                            \n",
       "var gd = document.getElementById('1ad4ed77-107c-4cce-924f-613da33dc6b3');\n",
       "var x = new MutationObserver(function (mutations, observer) {{\n",
       "        var display = window.getComputedStyle(gd).display;\n",
       "        if (!display || display === 'none') {{\n",
       "            console.log([gd, 'removed!']);\n",
       "            Plotly.purge(gd);\n",
       "            observer.disconnect();\n",
       "        }}\n",
       "}});\n",
       "\n",
       "// Listen for the removal of the full notebook cells\n",
       "var notebookContainer = gd.closest('#notebook-container');\n",
       "if (notebookContainer) {{\n",
       "    x.observe(notebookContainer, {childList: true});\n",
       "}}\n",
       "\n",
       "// Listen for the clearing of the current output cell\n",
       "var outputEl = gd.closest('.output');\n",
       "if (outputEl) {{\n",
       "    x.observe(outputEl, {childList: true});\n",
       "}}\n",
       "\n",
       "                        })\n",
       "                };\n",
       "                });\n",
       "            </script>\n",
       "        </div>"
      ]
     },
     "metadata": {},
     "output_type": "display_data"
    }
   ],
   "source": [
    "hourdayfig = go.Figure(data=go.Heatmap(\n",
    "                   z=[x for x in hourdayarray],\n",
    "                   y=[x for x in hourdayindex],\n",
    "                   x=[x for x in houranddayct_df.columns],\n",
    "                colorscale = \"Teal\", opacity = 1))\n",
    "hourdayfig.update_layout(\n",
    "    title=\"311 Complaint Calls by Day and Time\",\n",
    "    xaxis_title=\"Time\",\n",
    "    yaxis_title=\"Day of Week\",)\n",
    "hourdayfig.show()"
   ]
  },
  {
   "cell_type": "code",
   "execution_count": null,
   "metadata": {},
   "outputs": [],
   "source": []
  }
 ],
 "metadata": {
  "kernelspec": {
   "display_name": "Python 3",
   "language": "python",
   "name": "python3"
  },
  "language_info": {
   "codemirror_mode": {
    "name": "ipython",
    "version": 3
   },
   "file_extension": ".py",
   "mimetype": "text/x-python",
   "name": "python",
   "nbconvert_exporter": "python",
   "pygments_lexer": "ipython3",
   "version": "3.7.3"
  }
 },
 "nbformat": 4,
 "nbformat_minor": 2
}
