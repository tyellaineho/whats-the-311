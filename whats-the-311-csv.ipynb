{
 "cells": [
  {
   "cell_type": "code",
   "execution_count": null,
   "metadata": {},
   "outputs": [],
   "source": [
    "import pandas as pd"
   ]
  },
  {
   "cell_type": "code",
   "execution_count": null,
   "metadata": {},
   "outputs": [],
   "source": [
    "complaint_df = pd.read_csv(\"311-complaints.csv\")\n",
    "complaint_df.head()"
   ]
  },
  {
   "cell_type": "code",
   "execution_count": null,
   "metadata": {},
   "outputs": [],
   "source": [
    "sortedcomplaint_df = complaint_df.sort_values(by=['date'])\n",
    "sortedcomplaint_df"
   ]
  },
  {
   "cell_type": "code",
   "execution_count": null,
   "metadata": {},
   "outputs": [],
   "source": [
    "sortedcomplaint_df['date'], sortedcomplaint_df['t_column'] = sortedcomplaint_df['date'].str.split('T', 1).str"
   ]
  },
  {
   "cell_type": "code",
   "execution_count": null,
   "metadata": {},
   "outputs": [],
   "source": [
    "sortedcomplaint_df"
   ]
  },
  {
   "cell_type": "code",
   "execution_count": null,
   "metadata": {},
   "outputs": [],
   "source": [
    "sortedcomplaint_df['year'], sortedcomplaint_df['month'] = sortedcomplaint_df['year'].str.split('-', 1).str\n",
    "sortedcomplaint_df.head()"
   ]
  },
  {
   "cell_type": "code",
   "execution_count": null,
   "metadata": {
    "scrolled": true
   },
   "outputs": [],
   "source": [
    "sortedcomplaint_df['month'], sortedcomplaint_df['calendar_day'] = sortedcomplaint_df['month'].str.split('-', 1).str\n",
    "sortedcomplaint_df['date'], sortedcomplaint_df['t_column_2'] = sortedcomplaint_df['date'].str.split('T', 1).str\n",
    "sortedcomplaint_df.head()"
   ]
  },
  {
   "cell_type": "code",
   "execution_count": null,
   "metadata": {},
   "outputs": [],
   "source": [
    "organizedcomplaint_df = sortedcomplaint_df[[\"date\", \"year\", \"month\", \"calendar_day\", \"agency\", \"agency_name\", \"brief_description\", \"call_resolution\", \"inquiry_name\", \"unique_id\"]]\n",
    "organizedcomplaint_df.head()"
   ]
  },
  {
   "cell_type": "code",
   "execution_count": null,
   "metadata": {},
   "outputs": [],
   "source": [
    "import datetime\n",
    "# organizedcomplaint_df[\"date\"] = organizedcomplaint_df[\"date\"].astype(datetime)\n",
    "organizedcomplaint_df[\"year\"] = organizedcomplaint_df[\"year\"].astype(int)\n",
    "organizedcomplaint_df[\"month\"] = organizedcomplaint_df[\"month\"].astype(int)\n",
    "organizedcomplaint_df[\"calendar_day\"] = organizedcomplaint_df[\"calendar_day\"].astype(int)\n",
    "organizedcomplaint_df[\"agency\"] = organizedcomplaint_df[\"agency\"].astype(str)\n",
    "organizedcomplaint_df[\"agency_name\"] = organizedcomplaint_df[\"agency_name\"].astype(str)\n",
    "organizedcomplaint_df[\"brief_description\"] = organizedcomplaint_df[\"brief_description\"].astype(str)\n",
    "organizedcomplaint_df[\"call_resolution\"] = organizedcomplaint_df[\"call_resolution\"].astype(str)\n",
    "organizedcomplaint_df[\"inquiry_name\"] = organizedcomplaint_df[\"inquiry_name\"].astype(str)"
   ]
  },
  {
   "cell_type": "code",
   "execution_count": null,
   "metadata": {},
   "outputs": [],
   "source": []
  }
 ],
 "metadata": {
  "kernelspec": {
   "display_name": "Python 3",
   "language": "python",
   "name": "python3"
  },
  "language_info": {
   "codemirror_mode": {
    "name": "ipython",
    "version": 3
   },
   "file_extension": ".py",
   "mimetype": "text/x-python",
   "name": "python",
   "nbconvert_exporter": "python",
   "pygments_lexer": "ipython3",
   "version": "3.7.3"
  }
 },
 "nbformat": 4,
 "nbformat_minor": 2
}
